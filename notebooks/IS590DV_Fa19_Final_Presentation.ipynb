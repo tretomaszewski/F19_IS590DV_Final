{
 "cells": [
  {
   "cell_type": "markdown",
   "metadata": {},
   "source": [
    "# TEAM V - Final Project for Data Visualization (IS590DV Fall 2019)\n",
    "by Dhwani Parekh, Wenyi Shang, Akshat Sharma, Anirudh Sharma, Tre Tomaszewski\n",
    "\n",
    "## [WISDM Smartphone and Smartwatch Activity and Biometrics Dataset Data Set](https://archive.ics.uci.edu/ml/datasets/WISDM+Smartphone+and+Smartwatch+Activity+and+Biometrics+Dataset+)\n",
    "\n",
    "From\n",
    "> Smartphone and Smartwatch-Based Biometrics Using Activities of Daily Living. IEEE Access, 7:133190-133202, Sept. 2019.\n",
    "\n",
    "and\n",
    "\n",
    "> [Jennifer R. Kwapisz, Gary M. Weiss and Samuel A. Moore (2010). Activity Recognition using Cell Phone Accelerometers, Proceedings of the Fourth International Workshop on Knowledge Discovery from Sensor Data (at KDD-10), Washington DC.](http://www.cis.fordham.edu/wisdm/includes/files/sensorKDD-2010.pdf)\n",
    "\n",
    "<style>table {margin:0;} </style>\n",
    "\n",
    "| Data File Group | Total Size | Total Files | Instances |\n",
    "|-:|-:|-:|-:|\n",
    "|`Phone/Accel`| 250MB | 51  | 4,804,404 |\n",
    "|`Phone/Gyro` | 205MB | 51  | 3,608,635 |\n",
    "|`Watch/Accel`| 196MB | 51  | 3,777,048 |\n",
    "|`Watch/Gyro` | 190MB | 51  | 3,440,344 |\n",
    "|All          | 1.1GB | 204 | 15,630,426|"
   ]
  },
  {
   "cell_type": "code",
   "execution_count": 1,
   "metadata": {},
   "outputs": [],
   "source": [
    "%matplotlib widget\n",
    "from pathlib import Path\n",
    "from IPython.display import display\n",
    "import ipywidgets\n",
    "import ipywidgets as widgets\n",
    "from ipywidgets import interact, interactive\n",
    "import traitlets\n",
    "\n",
    "import numpy as np\n",
    "import pandas as pd\n",
    "\n",
    "import matplotlib\n",
    "import matplotlib.pyplot as plt\n",
    "from mpl_toolkits.mplot3d import Axes3D\n",
    "import bqplot\n",
    "\n",
    "# Thanks to `ImportanceOfBeingErnest` from https://stackoverflow.com/questions/47404653/pandas-0-21-0-timestamp-compatibility-issue-with-matplotlib\n",
    "pd.plotting.register_matplotlib_converters()"
   ]
  },
  {
   "cell_type": "code",
   "execution_count": 2,
   "metadata": {},
   "outputs": [],
   "source": [
    "subject_ids = [p.stem.split('_')[0] for p in Path('../data/processed/wisdm/merged_sensors/phone/').glob('*.csv')]\n",
    "activity_name_key = {k: v for k, v in [line.strip().split(' = ') for line in Path('../references/wisdm_activity_key.txt').read_text().strip().split('\\n')]}\n",
    "activity_letter_key = {v: k for k, v in [line.strip().split(' = ') for line in Path('../references/wisdm_activity_key.txt').read_text().strip().split('\\n')]}"
   ]
  },
  {
   "cell_type": "code",
   "execution_count": 3,
   "metadata": {},
   "outputs": [],
   "source": [
    "def get_by_subject_id(subject_id='1600'):\n",
    "    subject_id = str(subject_id) # force into a string\n",
    "    device_dict = {\n",
    "        'phone': pd.read_csv('../data/processed/wisdm/merged_sensors/phone/{}_phone.csv'.format(subject_id)).drop(columns=['timestamp']),#, parse_dates=['timestamp']) The time isn't really needed and adds a lot of loading time\n",
    "        'watch': pd.read_csv('../data/processed/wisdm/merged_sensors/watch/{}_watch.csv'.format(subject_id)).drop(columns=['timestamp'])#, parse_dates=['timestamp'])\n",
    "    }\n",
    "\n",
    "    for k,v in device_dict.items():\n",
    "        v.insert(2, 'activity_name', v['activity_code'].replace(activity_letter_key))\n",
    "    \n",
    "    return device_dict"
   ]
  },
  {
   "cell_type": "code",
   "execution_count": 4,
   "metadata": {},
   "outputs": [],
   "source": [
    "all_phone_df = pd.read_csv('../data/processed/wisdm/merged_sensors/phone_subject_activity_counts.csv')\n",
    "all_watch_df = pd.read_csv('../data/processed/wisdm/merged_sensors/watch_subject_activity_counts.csv')"
   ]
  },
  {
   "cell_type": "markdown",
   "metadata": {},
   "source": [
    "## Part I: General Data Analytics\n",
    "\n",
    "Below are charts briefly analyzing the raw data through several basic facets."
   ]
  },
  {
   "cell_type": "code",
   "execution_count": 5,
   "metadata": {},
   "outputs": [
    {
     "data": {
      "application/vnd.jupyter.widget-view+json": {
       "model_id": "",
       "version_major": 2,
       "version_minor": 0
      },
      "text/plain": [
       "Canvas(toolbar=Toolbar(toolitems=[('Home', 'Reset original view', 'home', 'home'), ('Back', 'Back to  previous…"
      ]
     },
     "metadata": {},
     "output_type": "display_data"
    }
   ],
   "source": [
    "plt.ion()\n",
    "fig, ax = plt.subplots()\n",
    "fig.canvas.layout.width='800px'\n",
    "fig.canvas.layout.height='600px'\n",
    "ax.bar(['phone', 'watch'], [all_phone_df.num_rows.sum(), all_watch_df.num_rows.sum()], align='center', alpha=0.5, color='blue')\n",
    "ax.set_ylabel('Number of records')\n",
    "fig.suptitle('Total Records per Device')\n",
    "fig.show()"
   ]
  },
  {
   "cell_type": "markdown",
   "metadata": {},
   "source": [
    "Comparing total records logged by the phone and the watch, the watch is logging approximately 14% more records than the phone."
   ]
  },
  {
   "cell_type": "code",
   "execution_count": 6,
   "metadata": {},
   "outputs": [
    {
     "data": {
      "application/vnd.jupyter.widget-view+json": {
       "model_id": "19e16234ca444a1182d0221313988a23",
       "version_major": 2,
       "version_minor": 0
      },
      "text/plain": [
       "VBox(children=(Canvas(layout=Layout(height='1200px'), toolbar=Toolbar(toolitems=[('Home', 'Reset original view…"
      ]
     },
     "metadata": {},
     "output_type": "display_data"
    }
   ],
   "source": [
    "plt.ioff()\n",
    "rps_phone_count = all_phone_df.groupby('subject_id')['num_rows'].sum()\n",
    "rps_watch_count = all_watch_df.groupby('subject_id')['num_rows'].sum()\n",
    "\n",
    "fig, axs = plt.subplots(2,1)\n",
    "axs[0].set_title('Records for Phone by Subject')\n",
    "axs[1].set_title('Records for Watch by Subject')\n",
    "\n",
    "axs[0].grid(axis='x', alpha=0.1, zorder=-1)\n",
    "axs[1].grid(axis='x', alpha=0.1, zorder=-1)\n",
    "\n",
    "xlabels = [str(i) for i in rps_phone_count.index]\n",
    "\n",
    "axs[0].bar(xlabels, rps_phone_count.values, alpha=0.8, color='blue', zorder=5)\n",
    "axs[0].xaxis.set_tick_params(labelrotation=40)\n",
    "axs[0].set_xticklabels(xlabels, va='top', ha='right', rotation_mode='anchor')\n",
    "axs[0].set_xlabel('Subject ID', fontsize=12)\n",
    "axs[0].set_ylabel('Number of Records', fontsize=12)\n",
    "\n",
    "\n",
    "axs[1].bar(xlabels, rps_watch_count.values, alpha=0.8, color='orange', zorder=5)\n",
    "axs[1].xaxis.set_tick_params(labelrotation=40)\n",
    "axs[1].set_xticklabels(xlabels, va='top', ha='right', rotation_mode='anchor')\n",
    "axs[1].set_xlabel('Subject ID', fontsize=12)\n",
    "axs[1].set_ylabel('Number of Records', fontsize=12)\n",
    "\n",
    "fig.canvas.layout.height='1200px'\n",
    "\n",
    "fig.subplots_adjust(hspace=0.4)\n",
    "\n",
    "widgets.VBox([fig.canvas])"
   ]
  },
  {
   "cell_type": "markdown",
   "metadata": {},
   "source": [
    "We can observe that the variance between the number of records per subject is less in the watch than the variance of the same recorded in the phone. Subject 1629 has the highest number of activities recorded in both phone and watch, but it most probably looks like an outlier, but we aren’t quite sure why it is one."
   ]
  },
  {
   "cell_type": "code",
   "execution_count": 7,
   "metadata": {},
   "outputs": [
    {
     "data": {
      "application/vnd.jupyter.widget-view+json": {
       "model_id": "3dcf6ea7ed1c48a899d3efcac2d5b203",
       "version_major": 2,
       "version_minor": 0
      },
      "text/plain": [
       "VBox(children=(Canvas(layout=Layout(height='1200px'), toolbar=Toolbar(toolitems=[('Home', 'Reset original view…"
      ]
     },
     "metadata": {},
     "output_type": "display_data"
    }
   ],
   "source": [
    "plt.ioff()\n",
    "# rpa_phone_count = all_phone_df.copy().replace({'activity_code': activity_letter_key})['activity_code'].value_counts()\n",
    "# rpa_watch_count = all_watch_df.copy().replace({'activity_code': activity_letter_key})['activity_code'].value_counts()\n",
    "\n",
    "rpa_phone_count = all_phone_df.replace({'activity_code': activity_letter_key}).groupby('activity_code')['num_rows'].sum().sort_values(ascending=False)\n",
    "rpa_watch_count = all_watch_df.replace({'activity_code': activity_letter_key}).groupby('activity_code')['num_rows'].sum().sort_values(ascending=False)\n",
    "\n",
    "fig, axs = plt.subplots(2,1)\n",
    "axs[0].set_title('Records for Phone by Activity')\n",
    "axs[1].set_title('Records for Watch by Activity')\n",
    "\n",
    "axs[0].grid(axis='y', alpha=0.2, zorder=-1)\n",
    "axs[1].grid(axis='y', alpha=0.2, zorder=-1)\n",
    "\n",
    "xlabels = [str(i) for i in rpa_phone_count.index]\n",
    "\n",
    "axs[0].bar(xlabels, rpa_phone_count.values, alpha=0.8, color='blue', zorder=5)\n",
    "axs[0].xaxis.set_tick_params(labelrotation=40)\n",
    "axs[0].set_xticklabels(xlabels, va='top', ha='right', rotation_mode='anchor')\n",
    "axs[0].set_xlabel('Activity', fontsize=12)\n",
    "axs[0].set_ylabel('Number of Records', fontsize=12)\n",
    "axs[0].set_ylim(0, 2*10**5)\n",
    "\n",
    "\n",
    "axs[1].bar(xlabels, rpa_watch_count.values, alpha=0.8, color='orange', zorder=5)\n",
    "axs[1].xaxis.set_tick_params(labelrotation=40)\n",
    "axs[1].set_xticklabels(xlabels, va='top', ha='right', rotation_mode='anchor')\n",
    "axs[1].set_xlabel('Activity', fontsize=12)\n",
    "axs[1].set_ylabel('Number of Records', fontsize=12)\n",
    "axs[1].set_ylim(0, 2*10**5)\n",
    "\n",
    "fig.canvas.layout.height='1200px'\n",
    "\n",
    "fig.subplots_adjust(hspace=0.4)\n",
    "\n",
    "widgets.VBox([fig.canvas])"
   ]
  },
  {
   "cell_type": "markdown",
   "metadata": {},
   "source": [
    "Surprisingly all the activities have the same sequence in watch or phone with respect to the number of records logged. The range of records logged in the phone range from 150000 to 180000, while the range of records logged in the watch range from 180000 to 190000. We can confirm by this that the watch is recording more data as we saw from the first part."
   ]
  },
  {
   "cell_type": "markdown",
   "metadata": {},
   "source": [
    "## Part II: Aggregate Analytics\n",
    "Below is an interactive bqplot project to display the aggregated/derived data of the dataset. It allows users to select subject ID (1600-1650), phone vs watch, coordinates (x_accel, y_accel, z_accel, x_gyro, y_gyro, z_gyro), and aggregation type (in total, there are 5 aggregation types: sum, mean, max, min, count). Users can select anything they want a from the four dropdowns, and the results will display with a barplot of the data of every activity correspondingly. By this interactive plot, users can learn about the aggregated results of the dataset."
   ]
  },
  {
   "cell_type": "code",
   "execution_count": 8,
   "metadata": {},
   "outputs": [
    {
     "data": {
      "application/vnd.jupyter.widget-view+json": {
       "model_id": "bf067057742a403f89cfc6a371229c32",
       "version_major": 2,
       "version_minor": 0
      },
      "text/plain": [
       "interactive(children=(Dropdown(description='Subject_ID', options=('1643', '1609', '1618', '1637', '1640', '161…"
      ]
     },
     "metadata": {},
     "output_type": "display_data"
    }
   ],
   "source": [
    "plt.ion()\n",
    "@interact(Subject_ID = subject_ids)\n",
    "def get_subject(Subject_ID):\n",
    "    ID=Subject_ID\n",
    "    \n",
    "    @interact(Device = ['phone', 'watch'])\n",
    "    def get_device(Device):\n",
    "        device=Device\n",
    "    \n",
    "        @interact(Coordinate = ['x_accel', 'y_accel','z_accel','x_gyro','y_gyro','z_gyro'])\n",
    "        def get_coordinate(Coordinate):\n",
    "            coordinate=Coordinate\n",
    "    \n",
    "            @interact(Aggregate = ['sum', 'mean','max','min','count'])\n",
    "            def change_aggregation(Aggregate):\n",
    "                if Aggregate=='sum':\n",
    "                    y = get_by_subject_id(ID).get(device).groupby('activity_code')[coordinate].sum()\n",
    "                if Aggregate=='mean':\n",
    "                    y = get_by_subject_id(ID).get(device).groupby('activity_code')[coordinate].mean()\n",
    "                if Aggregate=='max':\n",
    "                    y = get_by_subject_id(ID).get(device).groupby('activity_code')[coordinate].max()\n",
    "                if Aggregate=='min':\n",
    "                    y = get_by_subject_id(ID).get(device).groupby('activity_code')[coordinate].min()\n",
    "                if Aggregate=='count':\n",
    "                    y = get_by_subject_id(ID).get(device).groupby('activity_code')[coordinate].count()\n",
    "                bin_x_sc = bqplot.OrdinalScale()\n",
    "                bin_x_ax = bqplot.Axis(scale = bin_x_sc,label='activity code')\n",
    "                bin_y_sc = bqplot.LinearScale()\n",
    "                bin_y_ax = bqplot.Axis(scale = bin_y_sc,orientation='vertical',label='value')\n",
    "                bars = bqplot.Bars(x = y.index,y = y,scales = {'x': bin_x_sc, 'y': bin_y_sc})\n",
    "                fig = bqplot.Figure(marks = [bars], axes = [bin_x_ax, bin_y_ax])\n",
    "                display(fig)"
   ]
  },
  {
   "cell_type": "markdown",
   "metadata": {},
   "source": [
    "By looking at each activity's mean values for the various acceleration axes, some observations regarding the overall motion of the activity can be made. For an example, using subject 1600: \n",
    "\n",
    "1. **Device**: Phone; **Axis**: _x\\_accel_; **Aggregation method**: _mean_<br/>\n",
    "    <p style='margin-left: 2em'>Activity teeth has the highest mean for x_accel which is near 5, and the activity dribbling has the lowest mean which is nearly -4. All the activities which have a negative mean, the means are around -2 or more than that, except for the activity dribbling. &nbsp;Also activity typing has a near to 0 mean.</p>\n",
    "\n",
    "2. **Device**: Watch; **Axis**: _x\\_accel_; **Aggregation method**: _mean_<br/>\n",
    "    <p style='margin-left: 2em'>Except for activities sitting and folding polarity of mean of all the activities have changed for the device watch. Walking has the highest x_accel mean, while teeth has the lowest x_accel. Interestingly activity teeth had the highest x_accel for the phone. &nbsp;Activities writing and typing have a near to 0 mean.</p>\n",
    " \n",
    "3. **Device**: Phone; **Axis**: _y\\_accel_; **Aggregation method**: _mean_<br/>\n",
    "    <p style='margin-left: 2em'>Mean of y_accel for all the activities is positive. Catching and folding have the highest y_accel mean, while teeth has the lowest y_accel mean.</p>\n",
    " \n",
    "4. **Device**: Watch; **Axis**: _y\\_accel_; **Aggregation method**: _mean_<br/>\n",
    "    <p style='margin-left: 2em'>Mean of y_accel for all the activities is negative. Writing has the lowest(highest in magnitude) y_accel mean, interestingly writing had almost null x_accel mean in the watch. Drinking has the highest mean (lowest in magnitude)</p>"
   ]
  },
  {
   "cell_type": "code",
   "execution_count": null,
   "metadata": {},
   "outputs": [],
   "source": [
    "plt.ion()\n",
    "fig = plt.figure()\n",
    "fig.suptitle('Scatter Plot of the WISDM Data Statespace Sum')\n",
    "fig.canvas.layout.width = \"1000px\"\n",
    "fig.canvas.layout.height = \"1000px\"\n",
    "\n",
    "t = None\n",
    "cb = None\n",
    "cmap = None\n",
    "\n",
    "def update_scatter(subject_id=None, device=None, activity=None, stepsize=None):\n",
    "    global t, cb, cmap\n",
    "    Subject_ID = subject_id or 1600\n",
    "    Device = device or 'phone'\n",
    "    Activity = activity or 'A'\n",
    "    StepSize = stepsize or 10\n",
    "        \n",
    "    x = get_by_subject_id(Subject_ID).get(Device).groupby('activity_code').get_group(Activity)[['x_accel','y_accel','z_accel','x_gyro','y_gyro','z_gyro']]\n",
    "#     ax = Axes3D(fig)\n",
    "    ax = fig.add_subplot(111, projection='3d')\n",
    "    \n",
    "    smooth_x = x[::StepSize]\n",
    "    \n",
    "    t = ax.scatter(smooth_x['x_accel'],smooth_x['y_accel'],smooth_x['z_accel'], c = plt.cm.jet(np.linspace(0,1,len(smooth_x))))\n",
    "    ax.set_title('Subject #{} `{}` ({}) using {}'.format(Subject_ID, activity_letter_key.get(Activity).capitalize(), Activity, Device.capitalize()))\n",
    "    ax.set_xlabel('X-Axis')\n",
    "    ax.set_ylabel('Y-Axis')\n",
    "    ax.set_zlabel('Z-Axis')\n",
    "    fig.canvas.draw()\n",
    "    fig.canvas.flush_events()\n",
    "\n",
    "def get_subject(change):\n",
    "    update_scatter(subject_id=change.new)\n",
    "    \n",
    "def get_device(change):\n",
    "    update_scatter(device=change.new)\n",
    "    \n",
    "def get_activity(change):\n",
    "    update_scatter(activity=change.new)\n",
    "    \n",
    "def get_stepsize(change):\n",
    "    update_scatter(stepsize=change.new)\n",
    "\n",
    "subject_dd = widgets.Dropdown(options = subject_ids, description='Subject ID:', value='1600')\n",
    "device_dd = widgets.Dropdown(options = ['phone', 'watch'], description='Device Type:', value='phone')\n",
    "activity_dd = widgets.Dropdown(options=activity_name_key, description='Activity:', value='A')\n",
    "stepsize_sl = widgets.IntSlider(min=1, max=20, value=10)\n",
    "    \n",
    "subject_dd.observe(get_subject, names='value')\n",
    "device_dd.observe(get_device, names='value')\n",
    "activity_dd.observe(get_activity, names='value')\n",
    "stepsize_sl.observe(get_stepsize, names='value')\n",
    "\n",
    "update_scatter()\n",
    "widgets.VBox([widgets.HBox([subject_dd, device_dd, activity_dd]), widgets.HBox([widgets.Label(value='Steps between Points:'), stepsize_sl])])"
   ]
  },
  {
   "cell_type": "markdown",
   "metadata": {},
   "source": [
    "The color gradient explains the start and the end of a person’s activity for all the 18 activities.\n",
    "The dark blue color represents the start of the persons activity at the start and as it reaches the end it’s represented by a dark red color.\n",
    "\n",
    "After seeing the 2d visualizations we moved forward to visualizing the 3d scatter plots just to see how the movement for different activities in the 3-dimmensional space.\n",
    "\n",
    "First, we plotted the normal 3d plots but it was just random scatter and we were unable to differentiate between the start and end of any activity. We determined a different color scale would help perceive this difference.\n",
    "\n",
    "Inferences for subject 1600:\n",
    "* Walking: An outlier on the top left corner of the plot.\n",
    "* Jogging: An outlier on the top of the plot.\n",
    "* Standing: More outliers on the right of the plot\n",
    "* Stairs: Some outliers in the entire plot\n",
    "\n",
    "With the color scale applied to these plots, we observed the cumulative sum of the accelerations might produce a more informational pattern for the activities. \n",
    "As for the outliers, we can only guess. We do not know where they are walking, the surface, or conditions. While walking, the outlier could mean the subject jerked or jumped suddenly. This is an interesting question to be raised!"
   ]
  },
  {
   "cell_type": "code",
   "execution_count": null,
   "metadata": {},
   "outputs": [],
   "source": [
    "plt.ion()\n",
    "fig = plt.figure()\n",
    "fig.suptitle('Scatter Plot of the WISDM Data Cumulative Sum over Time')\n",
    "fig.canvas.layout.width = \"1000px\"\n",
    "fig.canvas.layout.height = \"1000px\"\n",
    "\n",
    "t = None\n",
    "cb = None\n",
    "cmap = None\n",
    "\n",
    "def update_scatter(subject_id=None, device=None, activity=None, stepsize=None):\n",
    "    global t, cb, cmap\n",
    "    Subject_ID = subject_id or 1600\n",
    "    Device = device or 'phone'\n",
    "    Activity = activity or 'A'\n",
    "    StepSize = stepsize or 10\n",
    "        \n",
    "    x = get_by_subject_id(Subject_ID).get(Device).groupby('activity_code').get_group(Activity)[['x_accel','y_accel','z_accel','x_gyro','y_gyro','z_gyro']].cumsum(axis = 0)\n",
    "#     ax = Axes3D(fig)\n",
    "    ax = fig.add_subplot(111, projection='3d')\n",
    "    \n",
    "    smooth_x = x[::StepSize]\n",
    "    \n",
    "    t = ax.scatter(smooth_x['x_accel'],smooth_x['y_accel'],smooth_x['z_accel'], c = plt.cm.jet(np.linspace(0,1,len(smooth_x))))\n",
    "    ax.set_title('Subject #{} `{}` ({}) using {}'.format(Subject_ID, activity_letter_key.get(Activity).capitalize(), Activity, Device.capitalize()))\n",
    "    ax.set_xlabel('X-Axis')\n",
    "    ax.set_ylabel('Y-Axis')\n",
    "    ax.set_zlabel('Z-Axis')\n",
    "    fig.canvas.draw()\n",
    "    fig.canvas.flush_events()\n",
    "    \n",
    "\n",
    "def get_subject(change):\n",
    "    update_scatter(subject_id=change.new)\n",
    "    \n",
    "def get_device(change):\n",
    "    update_scatter(device=change.new)\n",
    "    \n",
    "def get_activity(change):\n",
    "    update_scatter(activity=change.new)\n",
    "    \n",
    "def get_stepsize(change):\n",
    "    update_scatter(stepsize=change.new)\n",
    "\n",
    "subject_dd = widgets.Dropdown(options = subject_ids, description='Subject ID:', value='1600')\n",
    "device_dd = widgets.Dropdown(options = ['phone', 'watch'], description='Device Type:', value='phone')\n",
    "activity_dd = widgets.Dropdown(options=activity_name_key, description='Activity:', value='A')\n",
    "stepsize_sl = widgets.IntSlider(min=1, max=20, value=10)\n",
    "    \n",
    "subject_dd.observe(get_subject, names='value')\n",
    "device_dd.observe(get_device, names='value')\n",
    "activity_dd.observe(get_activity, names='value')\n",
    "stepsize_sl.observe(get_stepsize, names='value')\n",
    "\n",
    "update_scatter()\n",
    "widgets.VBox([widgets.HBox([subject_dd, device_dd, activity_dd]), widgets.HBox([widgets.Label(value='Steps between Points:'), stepsize_sl])])"
   ]
  },
  {
   "cell_type": "markdown",
   "metadata": {},
   "source": [
    "We can find more patterns in the figures of cumulative sums. Compared to simple scatter plots where scatters are messly distributed, scatters in cumulative sum plots show a clear path. In the figure, blue is beginning point, and red is ending point. From this, we can find that in every activity, y values go up, while the x and z values vary (some go up, others go down), depending on different activities."
   ]
  },
  {
   "cell_type": "markdown",
   "metadata": {},
   "source": [
    "## Part III: Adjusted Data"
   ]
  },
  {
   "cell_type": "code",
   "execution_count": 61,
   "metadata": {},
   "outputs": [
    {
     "data": {
      "application/vnd.jupyter.widget-view+json": {
       "model_id": "f9e7a2a0e2aa4302acf4655b19e255cc",
       "version_major": 2,
       "version_minor": 0
      },
      "text/plain": [
       "Canvas(toolbar=Toolbar(toolitems=[('Home', 'Reset original view', 'home', 'home'), ('Back', 'Back to  previous…"
      ]
     },
     "metadata": {},
     "output_type": "display_data"
    },
    {
     "data": {
      "text/plain": [
       "<matplotlib.legend.Legend at 0x7fd8b1ba10b8>"
      ]
     },
     "execution_count": 61,
     "metadata": {},
     "output_type": "execute_result"
    }
   ],
   "source": [
    "activities = get_by_subject_id(1600)['phone'].groupby('activity_name')\n",
    "dfs = {activity: activities.get_group(activity)[['x_accel', 'y_accel', 'z_accel']]/20 for activity in ['walking', 'jogging', 'stairs', 'standing']}\n",
    "fig, axs = plt.subplots(4, figsize=(10, 10))\n",
    "\n",
    "\n",
    "\n",
    "for i, (name, df) in enumerate(dfs.items()):\n",
    "    ax = axs[i]\n",
    "    adj_df = df.sub(df.mean(axis=0)).cumsum(axis=0)\n",
    "    ax.plot(adj_df.z_accel, label='Z Axis (Forward)')\n",
    "    ax.plot(adj_df.x_accel, label='X Axis (Side-to-Side)')\n",
    "    ax.plot(adj_df.y_accel, label='Y Axis (Up and Down)')\n",
    "    if ax.is_last_row():\n",
    "        ax.set_xlabel('Time (50ms per step)')\n",
    "    ax.set_ylabel('Meters/0.05 seconds squared')\n",
    "    ax.set_title(name.capitalize())\n",
    "\n",
    "fig.canvas.layout.width = '1200px'\n",
    "fig.canvas.layout.height = '1500px'\n",
    "fig.suptitle('Acceleration with Adjusted Axes over Time for 4 Activities')\n",
    "fig.subplots_adjust(top=0.91, left=0.05, right=0.95, hspace=0.5)\n",
    "fig.legend(['Z Axis (Forward)', 'X Axis (Side-to-Side)', 'Y Axis (Up and Down)'], loc='upper center', ncol=3, bbox_to_anchor=(0.5, 0.97))"
   ]
  },
  {
   "cell_type": "markdown",
   "metadata": {},
   "source": [
    "The problems discovered in the previous visualizatins prompted further analysis. The second paper, [Activity Recognition using Cell Phone Accelerometers],(http://www.cis.fordham.edu/wisdm/includes/files/sensorKDD-2010.pdf) (Kwaspiz et al.) helped identify where adjustments to the data may assist in creating a more sensible plot.\n",
    "\n",
    "The first is the reason for the consistently larger magnitude of the Y-Acceleration, causing the significant growth of the cumulative sum. This phenomenon is explained on page 3:\n",
    ">Note  that  for  most  activities  the  y  values  have  the  largest  accelerations.    This  is  a  consequence  of  Earth’s  gravitational  pull, which causes the accelerometer to measure a value of 9.8 m/s2 in the direction of the Earth’s center. For all activities except sitting this direction corresponds to the y axis\n",
    "\n",
    "Additionally, the paper depicts a graphic of the directionality of the movement with respect to the person. Since the phone is in the subject's pocket, all upright activities (walking, jogging, standing, and stairs) have the Z-axis as the forward vector, and the X axis as the side to side.\n",
    "\n",
    "Where subtracting __gravitation__ (at $9.807 \\frac{m}{s^2}$, then dividing by 20 to match the 20Hz recording rate) would seem to make the most sense, it doesn't work as well as hoped. Instead, the overall _mean_ is is subtracted from each Y-Acceleration value prior to summation, using the device's frame-of-reference. Due to Y being not __necessarily__ downward, this subtraction isn't a perfectly sound assumption. Applying instantaneous rotation using gyroscopic data was attempted, but did not help to correct for any deviations, since the original orientation of the device is not known (especially for the watch). In addition, in a real-time setting, this would be untenable.\n",
    "\n",
    "The resulting visualization shows the plotted path of the summed acceleration of each subject's device for each activity over time. In addition to the options to choose the subject, device, and activity, the slider will follow the path over a predefined time range. Sensible patterns for the activity in question emerge from this view-resolution, not easily apparent in previous visualizations. This indicates that manual course-correction may be possible with help from the visualization."
   ]
  },
  {
   "cell_type": "code",
   "execution_count": null,
   "metadata": {},
   "outputs": [],
   "source": [
    "plt.ioff()\n",
    "\n",
    "fig = plt.figure()\n",
    "fig.canvas.layout.width = '1600px'\n",
    "fig.canvas.layout.height = '1200px'\n",
    "\n",
    "class AdjustedPlot():\n",
    "    def __init__(self, fig_):\n",
    "        \n",
    "        self.fig = fig_\n",
    "        self.fig.suptitle('Adjusted Cumulative Instantateous Accelerations over Time')\n",
    "        \n",
    "        # Data Initialization\n",
    "        self.view_span = 500\n",
    "        self.subject_id = '1600'\n",
    "        self.device = 'phone'\n",
    "        self.activity_code = 'A'\n",
    "\n",
    "        self.output = widgets.Output()\n",
    "        self.update_data()\n",
    "        \n",
    "        # Initial Plot\n",
    "        self.ax = self.fig.add_subplot(111, projection='3d')\n",
    "        self.scatter = self.ax.scatter3D(self.df.x_accel, self.df.z_accel, self.df.y_accel, c=plt.cm.jet(np.linspace(0,1,len(self.df))))\n",
    "        self.lines = self.ax.plot(self.df.x_accel, self.df.z_accel, self.df.y_accel, color='black', alpha=0.5)\n",
    "        self.ax.set_xlabel('X-Axis')\n",
    "        self.ax.set_ylabel('Adjusted Y-Axis (originally Z)')\n",
    "        self.ax.set_zlabel('Adjusted Z-Axis (originally Y)')\n",
    "        self.update_view()\n",
    "        \n",
    "        # Widgets\n",
    "        self.subject_dropdown = widgets.Dropdown(options=subject_ids, value=self.subject_id, description='Subject ID:')\n",
    "        self.device_dropdown = widgets.Dropdown(options=['phone', 'watch'], value=self.device, description='Device:')\n",
    "        self.activity_dropdown = widgets.Dropdown(options=activity_name_key, value=self.activity_code, description='Activity:')\n",
    "        self.view_slider = widgets.IntSlider(min=0, max=self.df.shape[0]-self.view_span, value=1.0, description='View Frame:')\n",
    "\n",
    "        # Observers\n",
    "        self.subject_dropdown.observe(self.on_change_subject(), names='value')\n",
    "        self.device_dropdown.observe(self.on_change_device(), names='value')\n",
    "        self.activity_dropdown.observe(self.on_change_activity(), names='value')\n",
    "        self.view_slider.observe(self.on_change_view(), names='value')\n",
    "        \n",
    "\n",
    "    def update_data(self, subject_id=None, device=None, activity_code=None):\n",
    "        if subject_id or not self.subject_id:\n",
    "            self.subject_id = subject_id or '1600'\n",
    "        \n",
    "        if device or not self.device:\n",
    "            self.device = device or 'phone'\n",
    "\n",
    "        if activity_code or not self.activity_code:\n",
    "            self.activity_code = activity_code or 'A'\n",
    "\n",
    "        self.subject_dfs = get_by_subject_id(self.subject_id).copy()\n",
    "        self.df = self.subject_dfs[self.device]\n",
    "        self.df = self.df[self.df['activity_code'] == self.activity_code].reset_index(drop=True)[['x_accel', 'y_accel', 'z_accel']] / 20\n",
    "        self.df.y_accel = self.df.y_accel.sub(self.df.y_accel.mean())\n",
    "        self.df = self.df.cumsum(axis=0)\n",
    "    \n",
    "    def update_canvas(self):\n",
    "        self.ax.relim()\n",
    "        self.fig.canvas.draw()\n",
    "        self.fig.canvas.flush_events()\n",
    "        \n",
    "    def update_plot(self):\n",
    "        # https://stackoverflow.com/questions/41602588/matplotlib-3d-scatter-animations\n",
    "        self.lines[0].set_data(self.df.x_accel, self.df.z_accel)\n",
    "        self.lines[0].set_3d_properties(self.df.y_accel)\n",
    "        \n",
    "        self.scatter.remove()\n",
    "        self.scatter = self.ax.scatter3D(self.df.x_accel, self.df.z_accel, self.df.y_accel, c=plt.cm.jet(np.linspace(0,1,len(self.df))))\n",
    "        self.view_slider.max = self.df.shape[0] - self.view_span\n",
    "        self.view_slider.value = 1\n",
    "        self.ax.relim()\n",
    "        self.ax.autoscale_view()\n",
    "        \n",
    "        \n",
    "    def update_view(self, start=0):\n",
    "        part = self.df.iloc[start: start + self.view_span]\n",
    "        self.ax.set_xlim((part.x_accel.min() - 3, part.x_accel.max() + 3))\n",
    "        self.ax.set_ylim((part.z_accel.min() - 3, part.z_accel.max() + 3)) \n",
    "        self.ax.set_zlim((part.y_accel.min() - 3, part.y_accel.max() + 3))\n",
    "\n",
    "        \n",
    "    def on_change_subject(self):\n",
    "        def callback(change):\n",
    "            self.update_view()\n",
    "            self.update_data(subject_id=change.new)\n",
    "            self.update_plot()\n",
    "            self.update_canvas()\n",
    "            self.update_view()\n",
    "        return callback\n",
    "    \n",
    "    def on_change_device(self):\n",
    "        def callback(change):\n",
    "            self.update_view()\n",
    "            self.update_data(device=change.new)\n",
    "            self.update_plot()\n",
    "            self.update_canvas()\n",
    "            self.update_view()\n",
    "\n",
    "        return callback\n",
    "        \n",
    "    def on_change_activity(self):\n",
    "        def callback(change):\n",
    "            self.update_view()\n",
    "            self.update_data(activity_code = change.new)\n",
    "            self.update_plot()\n",
    "            self.update_canvas()\n",
    "            self.update_view()\n",
    "        return callback\n",
    "\n",
    "    def on_change_view(self):\n",
    "        def callback(change):\n",
    "            self.update_view(change.new)\n",
    "            self.update_canvas()\n",
    "        return callback\n",
    "    \n",
    "    def _p(self, *args):\n",
    "        with self.output:\n",
    "            print(*args)\n",
    "\n",
    "\n",
    "ajp = AdjustedPlot(fig)\n",
    "\n",
    "plt.ion()\n",
    "widgets.HBox([widgets.VBox([widgets.HBox([ajp.subject_dropdown, ajp.device_dropdown, ajp.activity_dropdown]), ajp.view_slider, fig.canvas])])"
   ]
  },
  {
   "cell_type": "markdown",
   "metadata": {},
   "source": [
    "Thanks for Viewing!"
   ]
  }
 ],
 "metadata": {
  "kernelspec": {
   "display_name": "Python [conda env:root] *",
   "language": "python",
   "name": "conda-root-py"
  },
  "language_info": {
   "codemirror_mode": {
    "name": "ipython",
    "version": 3
   },
   "file_extension": ".py",
   "mimetype": "text/x-python",
   "name": "python",
   "nbconvert_exporter": "python",
   "pygments_lexer": "ipython3",
   "version": "3.7.1"
  }
 },
 "nbformat": 4,
 "nbformat_minor": 4
}
