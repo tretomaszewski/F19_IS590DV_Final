{
 "cells": [
  {
   "cell_type": "markdown",
   "metadata": {},
   "source": [
    "# TEAM V - Final Project for Data Visualization (IS590DV Fall 2019)\n",
    "by Dhwani Parekh, Wenyi Shang, Akshat Sharma, Anirudh Sharma, Tre Tomaszewski\n",
    "\n",
    "## [WISDM Smartphone and Smartwatch Activity and Biometrics Dataset Data Set](https://archive.ics.uci.edu/ml/datasets/WISDM+Smartphone+and+Smartwatch+Activity+and+Biometrics+Dataset+)\n",
    "\n",
    "From\n",
    "> Smartphone and Smartwatch-Based Biometrics Using Activities of Daily Living. IEEE Access, 7:133190-133202, Sept. 2019.\n",
    "\n",
    "<style>table {margin:0;} </style>\n",
    "\n",
    "| Data File Group | Total Size | Total Files | Instances |\n",
    "|-:|-:|-:|-:|\n",
    "|`Phone/Accel`| 250MB | 51  | 4,804,404 |\n",
    "|`Phone/Gyro` | 205MB | 51  | 3,608,635 |\n",
    "|`Watch/Accel`| 196MB | 51  | 3,777,048 |\n",
    "|`Watch/Gyro` | 190MB | 51  | 3,440,344 |\n",
    "|All          | 1.1GB | 204 | 15,630,426|"
   ]
  },
  {
   "cell_type": "code",
   "execution_count": 219,
   "metadata": {},
   "outputs": [],
   "source": [
    "%matplotlib ipympl\n",
    "from pathlib import Path\n",
    "from IPython.display import display\n",
    "import ipywidgets\n",
    "import ipywidgets as widgets\n",
    "from ipywidgets import interact, interactive\n",
    "import traitlets\n",
    "\n",
    "import numpy as np\n",
    "import pandas as pd\n",
    "\n",
    "import matplotlib\n",
    "import matplotlib.pyplot as plt\n",
    "from mpl_toolkits.mplot3d import Axes3D\n",
    "import bqplot\n",
    "\n",
    "# Thanks to `ImportanceOfBeingErnest` from https://stackoverflow.com/questions/47404653/pandas-0-21-0-timestamp-compatibility-issue-with-matplotlib\n",
    "pd.plotting.register_matplotlib_converters()"
   ]
  },
  {
   "cell_type": "code",
   "execution_count": 3,
   "metadata": {},
   "outputs": [],
   "source": [
    "subject_ids = [p.stem.split('_')[0] for p in Path('../data/processed/wisdm/merged_sensors/phone/').glob('*.csv')]\n",
    "activity_name_key = {k: v for k, v in [line.strip().split(' = ') for line in Path('../references/wisdm_activity_key.txt').read_text().strip().split('\\n')]}\n",
    "activity_letter_key = {v: k for k, v in [line.strip().split(' = ') for line in Path('../references/wisdm_activity_key.txt').read_text().strip().split('\\n')]}"
   ]
  },
  {
   "cell_type": "code",
   "execution_count": 77,
   "metadata": {},
   "outputs": [],
   "source": [
    "def get_by_subject_id(subject_id='1600'):\n",
    "    subject_id = str(subject_id) # force into a string\n",
    "    device_dict = {\n",
    "        'phone': pd.read_csv('../data/processed/wisdm/merged_sensors/phone/{}_phone.csv'.format(subject_id)).drop(columns=['timestamp']),#, parse_dates=['timestamp']) The time isn't really needed and adds a lot of loading time\n",
    "        'watch': pd.read_csv('../data/processed/wisdm/merged_sensors/watch/{}_watch.csv'.format(subject_id)).drop(columns=['timestamp'])#, parse_dates=['timestamp'])\n",
    "    }\n",
    "\n",
    "    for k,v in device_dict.items():\n",
    "        v.insert(2, 'activity_name', v['activity_code'].replace(activity_letter_key))\n",
    "    \n",
    "    return device_dict\n",
    "\n",
    "all_phone_df = pd.concat([pd.read_csv(f) for f in Path('../data/processed/wisdm/merged_sensors/phone/').glob('*.csv')], ignore_index=True)\n",
    "all_watch_df = pd.concat([pd.read_csv(f) for f in Path('../data/processed/wisdm/merged_sensors/watch/').glob('*.csv')], ignore_index=True)"
   ]
  },
  {
   "cell_type": "markdown",
   "metadata": {},
   "source": [
    "## Part I: General Data Analytics"
   ]
  },
  {
   "cell_type": "code",
   "execution_count": 220,
   "metadata": {},
   "outputs": [
    {
     "data": {
      "application/vnd.jupyter.widget-view+json": {
       "model_id": "",
       "version_major": 2,
       "version_minor": 0
      },
      "text/plain": [
       "Canvas(layout=Layout(height='600px', width='800px'), toolbar=Toolbar(toolitems=[('Home', 'Reset original view'…"
      ]
     },
     "metadata": {},
     "output_type": "display_data"
    }
   ],
   "source": [
    "plt.ioff()\n",
    "fig, ax = plt.subplots()\n",
    "fig.canvas.layout.width='800px'\n",
    "fig.canvas.layout.height='600px'\n",
    "ax.bar(['phone', 'watch'], [len(all_phone_df), len(all_watch_df)], align='center', alpha=0.5, color='blue')\n",
    "ax.set_ylabel('Number of records')\n",
    "fig.suptitle('Records per device')\n",
    "fig.show()"
   ]
  },
  {
   "cell_type": "code",
   "execution_count": 221,
   "metadata": {},
   "outputs": [
    {
     "data": {
      "application/vnd.jupyter.widget-view+json": {
       "model_id": "54638f80affb4c2397103e9d20c8abef",
       "version_major": 2,
       "version_minor": 0
      },
      "text/plain": [
       "VBox(children=(Canvas(layout=Layout(height='1200px'), toolbar=Toolbar(toolitems=[('Home', 'Reset original view…"
      ]
     },
     "metadata": {},
     "output_type": "display_data"
    }
   ],
   "source": [
    "plt.ioff()\n",
    "rps_phone_count  = all_phone_df['subject_id'].value_counts().sort_index()\n",
    "rps_watch_count  = all_watch_df['subject_id'].value_counts().sort_index()\n",
    "\n",
    "fig, axs = plt.subplots(2,1)\n",
    "axs[0].set_title('Records for Phone by Subject')\n",
    "axs[1].set_title('Records for Watch by Subject')\n",
    "\n",
    "axs[0].grid(axis='x', alpha=0.1, zorder=-1)\n",
    "axs[1].grid(axis='x', alpha=0.1, zorder=-1)\n",
    "\n",
    "xlabels = [str(i) for i in rps_phone_count.index]\n",
    "\n",
    "axs[0].bar(xlabels, rps_phone_count.values, alpha=0.8, color='blue', zorder=5)\n",
    "axs[0].xaxis.set_tick_params(labelrotation=40)\n",
    "axs[0].set_xticklabels(xlabels, va='top', ha='right', rotation_mode='anchor')\n",
    "axs[0].set_xlabel('Subject ID', fontsize=12)\n",
    "axs[0].set_ylabel('Number of Records', fontsize=12)\n",
    "\n",
    "\n",
    "axs[1].bar(xlabels, rps_watch_count.values, alpha=0.8, color='orange', zorder=5)\n",
    "axs[1].xaxis.set_tick_params(labelrotation=40)\n",
    "axs[1].set_xticklabels(xlabels, va='top', ha='right', rotation_mode='anchor')\n",
    "axs[1].set_xlabel('Subject ID', fontsize=12)\n",
    "axs[1].set_ylabel('Number of Records', fontsize=12)\n",
    "\n",
    "fig.canvas.layout.height='1200px'\n",
    "\n",
    "fig.subplots_adjust(hspace=0.4)\n",
    "\n",
    "widgets.VBox([fig.canvas])"
   ]
  },
  {
   "cell_type": "code",
   "execution_count": 225,
   "metadata": {},
   "outputs": [
    {
     "data": {
      "application/vnd.jupyter.widget-view+json": {
       "model_id": "200aa58131064fcd872416f0febe4b10",
       "version_major": 2,
       "version_minor": 0
      },
      "text/plain": [
       "VBox(children=(Canvas(layout=Layout(height='1200px'), toolbar=Toolbar(toolitems=[('Home', 'Reset original view…"
      ]
     },
     "metadata": {},
     "output_type": "display_data"
    }
   ],
   "source": [
    "plt.ioff()\n",
    "rpa_phone_count = all_phone_df.copy().replace({'activity_code': activity_letter_key})['activity_code'].value_counts()\n",
    "rpa_watch_count = all_phone_df.copy().replace({'activity_code': activity_letter_key})['activity_code'].value_counts()\n",
    "\n",
    "fig, axs = plt.subplots(2,1)\n",
    "axs[0].set_title('Records for Phone by Activity')\n",
    "axs[1].set_title('Records for Watch by Activity')\n",
    "\n",
    "axs[0].grid(axis='x', alpha=0.1, zorder=-1)\n",
    "axs[1].grid(axis='x', alpha=0.1, zorder=-1)\n",
    "\n",
    "xlabels = [str(i) for i in rpa_phone_count.index]\n",
    "\n",
    "axs[0].bar(xlabels, rpa_phone_count.values, alpha=0.8, color='blue', zorder=5)\n",
    "axs[0].xaxis.set_tick_params(labelrotation=40)\n",
    "axs[0].set_xticklabels(xlabels, va='top', ha='right', rotation_mode='anchor')\n",
    "axs[0].set_xlabel('Activity ID', fontsize=12)\n",
    "axs[0].set_ylabel('Number of Records', fontsize=12)\n",
    "\n",
    "\n",
    "axs[1].bar(xlabels, rpa_watch_count.values, alpha=0.8, color='orange', zorder=5)\n",
    "axs[1].xaxis.set_tick_params(labelrotation=40)\n",
    "axs[1].set_xticklabels(xlabels, va='top', ha='right', rotation_mode='anchor')\n",
    "axs[1].set_xlabel('Activity ID', fontsize=12)\n",
    "axs[1].set_ylabel('Number of Records', fontsize=12)\n",
    "\n",
    "fig.canvas.layout.height='1200px'\n",
    "\n",
    "fig.subplots_adjust(hspace=0.4)\n",
    "\n",
    "widgets.VBox([fig.canvas])"
   ]
  },
  {
   "cell_type": "markdown",
   "metadata": {},
   "source": [
    "## Part II: Aggregate Analytics\n",
    "Below is an interactive bqplot project to display the aggregated/derived data of the dataset. It allows users to select subject ID (1600-1650), phone vs watch, coordinates (x_accel, y_accel, z_accel, x_gyro, y_gyro, z_gyro), and aggregation type (in total, there are 5 aggregation types: sum, mean, max, min, count). Users can select anything they want a from the four dropdowns, and the results will display with a barplot of the data of every activity correspondingly. By this interactive plot, users can learn about the aggregated results of the dataset."
   ]
  },
  {
   "cell_type": "code",
   "execution_count": 226,
   "metadata": {},
   "outputs": [
    {
     "data": {
      "application/vnd.jupyter.widget-view+json": {
       "model_id": "31e8e498afcf42228ce0aae99cce44a0",
       "version_major": 2,
       "version_minor": 0
      },
      "text/plain": [
       "interactive(children=(Dropdown(description='Subject_ID', options=('1600', '1601', '1602', '1603', '1604', '160…"
      ]
     },
     "metadata": {},
     "output_type": "display_data"
    }
   ],
   "source": [
    "plt.ion()\n",
    "@interact(Subject_ID = subject_ids)\n",
    "def get_subject(Subject_ID):\n",
    "    ID=Subject_ID\n",
    "    \n",
    "    @interact(Device = ['phone', 'watch'])\n",
    "    def get_device(Device):\n",
    "        device=Device\n",
    "    \n",
    "        @interact(Coordinate = ['x_accel', 'y_accel','z_accel','x_gyro','y_gyro','z_gyro'])\n",
    "        def get_coordinate(Coordinate):\n",
    "            coordinate=Coordinate\n",
    "    \n",
    "            @interact(Aggregate = ['sum', 'mean','max','min','count'])\n",
    "            def change_aggregation(Aggregate):\n",
    "                if Aggregate=='sum':\n",
    "                    y = get_by_subject_id(ID).get(device).groupby('activity_code')[coordinate].sum()\n",
    "                if Aggregate=='mean':\n",
    "                    y = get_by_subject_id(ID).get(device).groupby('activity_code')[coordinate].mean()\n",
    "                if Aggregate=='max':\n",
    "                    y = get_by_subject_id(ID).get(device).groupby('activity_code')[coordinate].max()\n",
    "                if Aggregate=='min':\n",
    "                    y = get_by_subject_id(ID).get(device).groupby('activity_code')[coordinate].min()\n",
    "                if Aggregate=='count':\n",
    "                    y = get_by_subject_id(ID).get(device).groupby('activity_code')[coordinate].count()\n",
    "                bin_x_sc = bqplot.OrdinalScale()\n",
    "                bin_x_ax = bqplot.Axis(scale = bin_x_sc,label='activity code')\n",
    "                bin_y_sc = bqplot.LinearScale()\n",
    "                bin_y_ax = bqplot.Axis(scale = bin_y_sc,orientation='vertical',label='value')\n",
    "                bars = bqplot.Bars(x = y.index,y = y,scales = {'x': bin_x_sc, 'y': bin_y_sc})\n",
    "                fig = bqplot.Figure(marks = [bars], axes = [bin_x_ax, bin_y_ax])\n",
    "                display(fig)"
   ]
  },
  {
   "cell_type": "code",
   "execution_count": 227,
   "metadata": {},
   "outputs": [
    {
     "data": {
      "application/vnd.jupyter.widget-view+json": {
       "model_id": "6f78d362c9684f3d8906f4a549e3aeae",
       "version_major": 2,
       "version_minor": 0
      },
      "text/plain": [
       "VBox(children=(HBox(children=(Dropdown(description='Subject ID:', options=('1600', '1601', '1602', '1603', '16…"
      ]
     },
     "metadata": {},
     "output_type": "display_data"
    }
   ],
   "source": [
    "plt.ioff()\n",
    "fig = plt.figure()\n",
    "fig.suptitle('Scatter Plot of the WISDM Data Cumulative Sum over Time')\n",
    "fig.canvas.layout.width = \"1000px\"\n",
    "fig.canvas.layout.height = \"1000px\"\n",
    "\n",
    "t = None\n",
    "cb = None\n",
    "cmap = None\n",
    "\n",
    "def update_scatter(subject_id=None, device=None, activity=None, stepsize=None):\n",
    "    global t, cb, cmap\n",
    "    Subject_ID = subject_id or 1600\n",
    "    Device = device or 'phone'\n",
    "    Activity = activity or 'A'\n",
    "    StepSize = stepsize or 10\n",
    "        \n",
    "    x = get_by_subject_id(Subject_ID).get(Device).groupby('activity_code').get_group(Activity)[['x_accel','y_accel','z_accel','x_gyro','y_gyro','z_gyro']]\n",
    "#     ax = Axes3D(fig)\n",
    "    ax = fig.add_subplot(111, projection='3d')\n",
    "    \n",
    "    smooth_x = x[::StepSize]\n",
    "    \n",
    "    t = ax.scatter(smooth_x['x_accel'],smooth_x['y_accel'],smooth_x['z_accel'], c = plt.cm.jet(np.linspace(0,1,len(smooth_x))))\n",
    "    ax.set_title('Subject #{} `{}` ({}) using {}'.format(Subject_ID, activity_letter_key.get(Activity).capitalize(), Activity, Device.capitalize()))\n",
    "    ax.set_xlabel('X-Axis')\n",
    "    ax.set_ylabel('Y-Axis')\n",
    "    ax.set_zlabel('Z-Axis')\n",
    "    fig.canvas.draw()\n",
    "    fig.canvas.flush_events()\n",
    "    \n",
    "    \n",
    "\n",
    "def get_subject(change):\n",
    "    update_scatter(subject_id=change.new)\n",
    "    \n",
    "def get_device(change):\n",
    "    update_scatter(device=change.new)\n",
    "    \n",
    "def get_activity(change):\n",
    "    update_scatter(activity=change.new)\n",
    "    \n",
    "def get_stepsize(change):\n",
    "    update_scatter(stepsize=change.new)\n",
    "\n",
    "subject_dd = widgets.Dropdown(options = subject_ids, description='Subject ID:', value='1600')\n",
    "device_dd = widgets.Dropdown(options = ['phone', 'watch'], description='Device Type:', value='phone')\n",
    "activity_dd = widgets.Dropdown(options=activity_name_key, description='Activity:', value='A')\n",
    "stepsize_sl = widgets.IntSlider(min=1, max=20, value=10)\n",
    "    \n",
    "subject_dd.observe(get_subject, names='value')\n",
    "device_dd.observe(get_device, names='value')\n",
    "activity_dd.observe(get_activity, names='value')\n",
    "stepsize_sl.observe(get_stepsize, names='value')\n",
    "\n",
    "update_scatter()\n",
    "widgets.VBox([widgets.HBox([subject_dd, device_dd, activity_dd]), widgets.HBox([widgets.Label(value='Steps between Points:'), stepsize_sl]), fig.canvas])"
   ]
  },
  {
   "cell_type": "markdown",
   "metadata": {},
   "source": [
    "Below is an interactive 3D plot, showing curves of cumulative sum of any activity of any user. Because the cumulative summation is not a single value but a set of data points, we create a 3D scatter plot to display it, and colorize it with different colors, to show the development of the curve. Users can select the subject ID and activity they want, and a 3D curve will be displayed respectively, and the legend will show what it is."
   ]
  },
  {
   "cell_type": "code",
   "execution_count": 228,
   "metadata": {},
   "outputs": [
    {
     "data": {
      "application/vnd.jupyter.widget-view+json": {
       "model_id": "6053be111b1c4e1885751c342a294952",
       "version_major": 2,
       "version_minor": 0
      },
      "text/plain": [
       "VBox(children=(HBox(children=(Dropdown(description='Subject ID:', options=('1600', '1601', '1602', '1603', '16…"
      ]
     },
     "metadata": {},
     "output_type": "display_data"
    }
   ],
   "source": [
    "plt.ioff()\n",
    "fig = plt.figure()\n",
    "fig.suptitle('Scatter Plot of the WISDM Data Cumulative Sum over Time')\n",
    "fig.canvas.layout.width = \"1000px\"\n",
    "fig.canvas.layout.height = \"1000px\"\n",
    "\n",
    "t = None\n",
    "cb = None\n",
    "cmap = None\n",
    "\n",
    "def update_scatter(subject_id=None, device=None, activity=None, stepsize=None):\n",
    "    global t, cb, cmap\n",
    "    Subject_ID = subject_id or 1600\n",
    "    Device = device or 'phone'\n",
    "    Activity = activity or 'A'\n",
    "    StepSize = stepsize or 10\n",
    "        \n",
    "    x = get_by_subject_id(Subject_ID).get(Device).groupby('activity_code').get_group(Activity)[['x_accel','y_accel','z_accel','x_gyro','y_gyro','z_gyro']].cumsum(axis = 0)\n",
    "#     ax = Axes3D(fig)\n",
    "    ax = fig.add_subplot(111, projection='3d')\n",
    "    \n",
    "    smooth_x = x[::StepSize]\n",
    "    \n",
    "    t = ax.scatter(smooth_x['x_accel'],smooth_x['y_accel'],smooth_x['z_accel'], c = plt.cm.jet(np.linspace(0,1,len(smooth_x))))\n",
    "    ax.set_title('Subject #{} `{}` ({}) using {}'.format(Subject_ID, activity_letter_key.get(Activity).capitalize(), Activity, Device.capitalize()))\n",
    "    ax.set_xlabel('X-Axis')\n",
    "    ax.set_ylabel('Y-Axis')\n",
    "    ax.set_zlabel('Z-Axis')\n",
    "    fig.canvas.draw()\n",
    "    fig.canvas.flush_events()\n",
    "    \n",
    "    \n",
    "\n",
    "def get_subject(change):\n",
    "    update_scatter(subject_id=change.new)\n",
    "    \n",
    "def get_device(change):\n",
    "    update_scatter(device=change.new)\n",
    "    \n",
    "def get_activity(change):\n",
    "    update_scatter(activity=change.new)\n",
    "    \n",
    "def get_stepsize(change):\n",
    "    update_scatter(stepsize=change.new)\n",
    "\n",
    "subject_dd = widgets.Dropdown(options = subject_ids, description='Subject ID:', value='1600')\n",
    "device_dd = widgets.Dropdown(options = ['phone', 'watch'], description='Device Type:', value='phone')\n",
    "activity_dd = widgets.Dropdown(options=activity_name_key, description='Activity:', value='A')\n",
    "stepsize_sl = widgets.IntSlider(min=1, max=20, value=10)\n",
    "    \n",
    "subject_dd.observe(get_subject, names='value')\n",
    "device_dd.observe(get_device, names='value')\n",
    "activity_dd.observe(get_activity, names='value')\n",
    "stepsize_sl.observe(get_stepsize, names='value')\n",
    "\n",
    "update_scatter()\n",
    "widgets.VBox([widgets.HBox([subject_dd, device_dd, activity_dd]), widgets.HBox([widgets.Label(value='Steps between Points:'), stepsize_sl]), fig.canvas])"
   ]
  },
  {
   "cell_type": "markdown",
   "metadata": {},
   "source": [
    "## Part III: Adjusted Data"
   ]
  },
  {
   "cell_type": "code",
   "execution_count": 229,
   "metadata": {},
   "outputs": [
    {
     "name": "stdout",
     "output_type": "stream",
     "text": [
      "Change Activity Initialized.\n",
      "Change View Initialized.\n"
     ]
    },
    {
     "data": {
      "application/vnd.jupyter.widget-view+json": {
       "model_id": "ce7fc91f4e4c4e7495cd1d1a856e6ca7",
       "version_major": 2,
       "version_minor": 0
      },
      "text/plain": [
       "HBox(children=(VBox(children=(HBox(children=(Dropdown(description='Subject ID:', options=('1600', '1601', '160…"
      ]
     },
     "metadata": {},
     "output_type": "display_data"
    }
   ],
   "source": [
    "plt.close('all')\n",
    "plt.ioff()\n",
    "\n",
    "fig = plt.figure()\n",
    "fig.canvas.layout.width = '1000px'\n",
    "fig.canvas.layout.height = '1000px'\n",
    "\n",
    "class AdjustedPlot():\n",
    "    def __init__(self, fig_):\n",
    "        \n",
    "        self.fig = fig_\n",
    "        self.fig.suptitle('Horizontal (Top-Down) Instantateous Accelerations over Time')\n",
    "        \n",
    "        # Data Initialization\n",
    "        self.view_span = 200\n",
    "        self.subject_id = '1600'\n",
    "        self.device = 'phone'\n",
    "        self.activity_code = 'A'\n",
    "\n",
    "        self.output = widgets.Output()\n",
    "        self.update_data()\n",
    "        \n",
    "        # Initial Plot\n",
    "        self.ax = self.fig.add_subplot(111, projection='3d')\n",
    "        self.lines = self.ax.scatter(self.df.x_accel, self.df.z_accel, self.df.y_accel, c=plt.cm.jet(np.linspace(0,1,len(self.df))))\n",
    "        self.ax.set_xlabel('X-Axis')\n",
    "        self.ax.set_ylabel('Z-Axis')\n",
    "        self.ax.set_zlabel('Y-Axis')\n",
    "        self.update_view()\n",
    "        \n",
    "        # Widgets\n",
    "        self.subject_dropdown = widgets.Dropdown(options=subject_ids, value=self.subject_id, description='Subject ID:')\n",
    "        self.device_dropdown = widgets.Dropdown(options=['phone', 'watch'], value=self.device, description='Subject ID:')\n",
    "        self.activity_dropdown = widgets.Dropdown(options=activity_name_key, value=self.activity_code, description='Activity:')\n",
    "        self.view_slider = widgets.IntSlider(min=0, max=self.df.shape[0]-self.view_span, value=1.0, description='View Frame:')\n",
    "\n",
    "        # Observers\n",
    "        self.subject_dropdown.observe(self.on_change_subject(), names='value')\n",
    "        self.device_dropdown.observe(self.on_change_device(), names='value')\n",
    "        self.activity_dropdown.observe(self.on_change_activity(), names='value')\n",
    "        self.view_slider.observe(self.on_change_view(), names='value')\n",
    "        \n",
    "\n",
    "    def update_data(self, subject_id=None, device=None, activity_code=None):\n",
    "        if subject_id or not self.subject_id:\n",
    "            self.subject_id = subject_id or '1600'\n",
    "        \n",
    "        if device or not self.device:\n",
    "            self.device = device or 'phone'\n",
    "            \n",
    "\n",
    "        if activity_code or not self.activity_code:\n",
    "            self.activity_code = activity_code or 'A'\n",
    "\n",
    "        self.subject_dfs = get_by_subject_id(self.subject_id).copy()\n",
    "        self.df = self.subject_dfs[self.device]\n",
    "        self.df = self.df[self.df['activity_code'] == self.activity_code].reset_index(drop=True)[['x_accel', 'y_accel', 'z_accel']]\n",
    "        self.df.y_accel = np.subtract(self.df.y_accel, 9.807)\n",
    "        self.df = self.df.cumsum(axis=0)\n",
    "        \n",
    "    def update_canvas(self):\n",
    "        self.ax.relim()\n",
    "        self.fig.canvas.draw()\n",
    "        self.fig.canvas.flush_events()\n",
    "        \n",
    "    def update_plot(self):\n",
    "        # https://stackoverflow.com/questions/41602588/matplotlib-3d-scatter-animations\n",
    "#         self.lines[0].set_data(self.df.x_accel, self.df.z_accel)\n",
    "#         self.lines[0].set_3d_properties(self.df.y_accel)\n",
    "\n",
    "        self.lines.set_offsets([self.df.x_accel, self.df.z_accel, self.df.y_accel])\n",
    "        self.view_slider.max = self.df.shape[0] - self.view_span\n",
    "        self.view_slider.value = 1\n",
    "        \n",
    "        \n",
    "    def update_view(self, start=0):\n",
    "        part = self.df.iloc[start: start + self.view_span]\n",
    "        self.ax.set_xlim((part.x_accel.min(), part.x_accel.max()))\n",
    "        self.ax.set_ylim((part.z_accel.min(), part.z_accel.max())) \n",
    "        self.ax.set_zlim((part.y_accel.min(), part.y_accel.max()))\n",
    "\n",
    "        \n",
    "    def on_change_subject(self):\n",
    "        def callback(change):\n",
    "            self.update_view()\n",
    "            self.update_data(subject_id=change.new)\n",
    "            self.update_plot()\n",
    "            self.update_canvas()\n",
    "            self.update_view()\n",
    "        return callback\n",
    "    \n",
    "    def on_change_device(self):\n",
    "        def callback(change):\n",
    "            self.update_view()\n",
    "            self.update_data(device=change.new)\n",
    "            self.update_plot()\n",
    "            self.update_canvas()\n",
    "            self.update_view()\n",
    "            with self.output:\n",
    "                    print(self.df.iloc[:2])\n",
    "        return callback\n",
    "        \n",
    "    def on_change_activity(self):\n",
    "        print('Change Activity Initialized.')\n",
    "        def callback(change):\n",
    "            self.update_view()\n",
    "            self.update_data(activity_code = change.new)\n",
    "            self.update_plot()\n",
    "            self.update_canvas()\n",
    "            self.update_view()\n",
    "        return callback\n",
    "\n",
    "    def on_change_view(self):\n",
    "        print('Change View Initialized.')\n",
    "        def callback(change):\n",
    "            self.update_view(change.new)\n",
    "            self.update_canvas()\n",
    "        return callback\n",
    "    \n",
    "    def _p(self, *args):\n",
    "        with self.output:\n",
    "            print(*args)\n",
    "\n",
    "\n",
    "ajp = AdjustedPlot(fig)\n",
    "\n",
    "# widgets.HBox([ajp.activity_dropdown, ajp.output])\n",
    "plt.ion()\n",
    "widgets.HBox([widgets.VBox([widgets.HBox([ajp.subject_dropdown, ajp.device_dropdown, ajp.activity_dropdown]), ajp.view_slider, fig.canvas]), ajp.output])"
   ]
  }
 ],
 "metadata": {
  "kernelspec": {
   "display_name": "dataviz",
   "language": "python",
   "name": "dataviz"
  },
  "language_info": {
   "codemirror_mode": {
    "name": "ipython",
    "version": 3
   },
   "file_extension": ".py",
   "mimetype": "text/x-python",
   "name": "python",
   "nbconvert_exporter": "python",
   "pygments_lexer": "ipython3",
   "version": "3.7.5"
  }
 },
 "nbformat": 4,
 "nbformat_minor": 4
}
