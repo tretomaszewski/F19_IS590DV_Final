{
 "cells": [
  {
   "cell_type": "markdown",
   "metadata": {},
   "source": [
    "# Final Assignment, Part I\n",
    "\n",
    "* Name: _WISDM Smartphone and Smartwatch Activity and Biometrics Dataset Data Set_\n",
    "* Source: https://archive.ics.uci.edu/ml/datasets/WISDM+Smartphone+and+Smartwatch+Activity+and+Biometrics+Dataset+\n",
    "* License: Must cite:\n",
    "> Smartphone and Smartwatch-Based Biometrics Using Activities of Daily Living. IEEE Access, 7:133190-133202, Sept. 2019.\n",
    "\n",
    "* Filesize:\n",
    " * Total Zip: 302MB\n",
    " * Data: 1.1GB (582MB + 205MB + 196MB + 109MB)\n",
    "* Data File Count: 204 (51 * 4)\n",
    "* Number of Instances: 15630426 "
   ]
  },
  {
   "cell_type": "code",
   "execution_count": 1,
   "metadata": {},
   "outputs": [],
   "source": [
    "%matplotlib widget\n",
    "\n",
    "from pathlib import Path\n",
    "\n",
    "import matplotlib\n",
    "import matplotlib.pyplot as plt\n",
    "from mpl_toolkits.mplot3d import Axes3D\n",
    "\n",
    "import numpy as np\n",
    "import pandas as pd\n",
    "\n",
    "# Thanks to `ImportanceOfBeingErnest` from https://stackoverflow.com/questions/47404653/pandas-0-21-0-timestamp-compatibility-issue-with-matplotlib\n",
    "pd.plotting.register_matplotlib_converters()\n",
    "\n",
    "input_dirpath = Path('../data/raw/wisdm/raw')\n",
    "processed_dirpath = Path('../data/processed/wisdm/')\n",
    "ref_dirpath = Path('../references')\n",
    "\n",
    "activity_key_path = ref_dirpath / 'wisdm_activity_key.txt'\n",
    "\n",
    "DEBUG=True\n",
    "def release_plt_mem():\n",
    "    if not DEBUG:\n",
    "        return\n",
    "    try:\n",
    "        # release memory if needed\n",
    "        plt.close('all')\n",
    "    except:\n",
    "        pass\n"
   ]
  },
  {
   "cell_type": "code",
   "execution_count": 2,
   "metadata": {},
   "outputs": [],
   "source": [
    "activity_key = {v: k for k, v in [line.strip().split(' = ') for line in activity_key_path.read_text().strip().split('\\n')]}\n",
    "# '| Keys | Activity |\\n|:-:|:-:|' + '\\n'.join(['|{}|{}|'.format(k, v) for k, v in activity_key.items()])"
   ]
  },
  {
   "cell_type": "markdown",
   "metadata": {},
   "source": [
    "# Data Information\n",
    "> from Documentation\n",
    "\n",
    "| Keys | Activity |\n",
    "|:-:|:-:|\n",
    "|A|walking|\n",
    "|B|jogging|\n",
    "|C|stairs|\n",
    "|D|sitting|\n",
    "|E|standing|\n",
    "|F|typing|\n",
    "|G|teeth|\n",
    "|H|soup|\n",
    "|I|chips|\n",
    "|J|pasta|\n",
    "|K|drinking|\n",
    "|L|sandwich|\n",
    "|M|kicking|\n",
    "|O|catch|\n",
    "|P|dribbling|\n",
    "|Q|writing|\n",
    "|R|clapping|\n",
    "|S|folding|\n",
    "\n",
    "| Field name | Type | Description | Range |\n",
    "|:--|:--|:--|:--|\n",
    "| Subject-id |  Symbolic numeric identififier. | Uniquely identifyies the subject. | 1600-1650. |\n",
    "| Activity code | Symbolic single letter. | Identifies a specific activity as listed in Table 2. | A-S (no “N” value) |\n",
    "| Timestamp  | Integer. | Linux time | >= 1-1-1970 00\\:00\\:00.0+00\\:00 |\n",
    "| x | Numeric: real.  | Sensor value for x axis. | May be positive or negative. |\n",
    "| y | Numeric: real.  | Sensor value for y axis. | May be positive or negative. |\n",
    "| z | Numeric: real.  | Sensor value for z axis. | May be positive or negative. |"
   ]
  },
  {
   "cell_type": "code",
   "execution_count": 3,
   "metadata": {},
   "outputs": [],
   "source": [
    "# process data for ease of access - only run once\n",
    "            \n",
    "def concat_subject_data_by_device_type(reimport=False):\n",
    "    \"\"\" Construct files containing all subjects and activities for each device and sensor type. \"\"\"\n",
    "    \n",
    "    try:\n",
    "        # This will build a dictionary for the files\n",
    "        # This can take awhile as the files are large\n",
    "        data_filepaths = list(processed_dirpath.glob('wisdm_*.csv'))\n",
    "        \n",
    "        if not reimport and len(list(data_filepaths)) == 4:\n",
    "            return {f.stem.replace('wisdm_', ''): pd.read_csv(f, parse_dates=['timestamp']) for f in data_filepaths}\n",
    "    except FileNotFoundError:\n",
    "        pass\n",
    "    \n",
    "    import zipfile\n",
    "\n",
    "    df_dict = {}\n",
    "    # from data documentation\n",
    "    headers = ['subject_id', 'activity_code', 'timestamp', 'x','y','z']\n",
    "\n",
    "    for f in input_dirpath.glob('**/*.zip'):\n",
    "        unzip_dirpath = f.parent / f.stem\n",
    "        if not unzip_dirpath.exists():\n",
    "            with zipfile.ZipFile(str(f),'r') as fd:\n",
    "                fd.extractall(str(f.parent))\n",
    "\n",
    "    for f in input_dirpath.glob('raw/**/*.txt'):\n",
    "        if not any([name in str(f) for name in ['watch', 'phone']]):\n",
    "            continue\n",
    "\n",
    "        split_path = f.parts\n",
    "        device_type, sensor_type  = split_path[-3:-1]\n",
    "        data_src = '{}_{}'.format(device_type, sensor_type)\n",
    "\n",
    "        filename = output_dirpath / 'wisdm_{}.csv'.format(data_src)\n",
    "        if filename.exists():\n",
    "            continue\n",
    "\n",
    "        new_df = pd.read_csv(f, names=headers, parse_dates=['timestamp'], infer_datetime_format=False)\n",
    "        new_df['timestamp'] = [pd.to_datetime(int(ts), utc=True) for ts in new_df['timestamp']]\n",
    "        \n",
    "        # remove idiosyncratic endline symbol\n",
    "        new_df.iloc[:,-1] = new_df.iloc[:,-1].str.replace(';', '')\n",
    "        \n",
    "        if dfs.get(data_src) is None:\n",
    "            df_dict[data_src] = new_df\n",
    "        else:\n",
    "            df_dict[data_src] = dfs[data_src].append(new_df)\n",
    "\n",
    "    for data_src, df in df_dict.items():\n",
    "        df.to_csv(output_dirpath / 'wisdm_{}.csv'.format(data_src), index=False)\n",
    "\n",
    "    return df_dict\n",
    "    \n",
    "dfs = concat_subject_data_by_device_type(reimport=False)"
   ]
  },
  {
   "cell_type": "code",
   "execution_count": 4,
   "metadata": {},
   "outputs": [
    {
     "data": {
      "text/html": [
       "<div>\n",
       "<style scoped>\n",
       "    .dataframe tbody tr th:only-of-type {\n",
       "        vertical-align: middle;\n",
       "    }\n",
       "\n",
       "    .dataframe tbody tr th {\n",
       "        vertical-align: top;\n",
       "    }\n",
       "\n",
       "    .dataframe thead th {\n",
       "        text-align: right;\n",
       "    }\n",
       "</style>\n",
       "<table border=\"1\" class=\"dataframe\">\n",
       "  <thead>\n",
       "    <tr style=\"text-align: right;\">\n",
       "      <th></th>\n",
       "      <th>subject_id</th>\n",
       "      <th>activity_code</th>\n",
       "      <th>timestamp</th>\n",
       "      <th>x</th>\n",
       "      <th>y</th>\n",
       "      <th>z</th>\n",
       "    </tr>\n",
       "  </thead>\n",
       "  <tbody>\n",
       "    <tr>\n",
       "      <td>0</td>\n",
       "      <td>1600</td>\n",
       "      <td>A</td>\n",
       "      <td>1970-01-03 22:03:27.666810782+00:00</td>\n",
       "      <td>-0.364761</td>\n",
       "      <td>8.793503</td>\n",
       "      <td>1.055084</td>\n",
       "    </tr>\n",
       "    <tr>\n",
       "      <td>1</td>\n",
       "      <td>1600</td>\n",
       "      <td>A</td>\n",
       "      <td>1970-01-03 22:03:27.717164786+00:00</td>\n",
       "      <td>-0.879730</td>\n",
       "      <td>9.768784</td>\n",
       "      <td>1.016998</td>\n",
       "    </tr>\n",
       "    <tr>\n",
       "      <td>2</td>\n",
       "      <td>1600</td>\n",
       "      <td>A</td>\n",
       "      <td>1970-01-03 22:03:27.767518790+00:00</td>\n",
       "      <td>2.001495</td>\n",
       "      <td>11.109070</td>\n",
       "      <td>2.619156</td>\n",
       "    </tr>\n",
       "    <tr>\n",
       "      <td>3</td>\n",
       "      <td>1600</td>\n",
       "      <td>A</td>\n",
       "      <td>1970-01-03 22:03:27.817872794+00:00</td>\n",
       "      <td>0.450623</td>\n",
       "      <td>12.651642</td>\n",
       "      <td>0.184555</td>\n",
       "    </tr>\n",
       "    <tr>\n",
       "      <td>4</td>\n",
       "      <td>1600</td>\n",
       "      <td>A</td>\n",
       "      <td>1970-01-03 22:03:27.868226798+00:00</td>\n",
       "      <td>-2.164352</td>\n",
       "      <td>13.928436</td>\n",
       "      <td>-4.422485</td>\n",
       "    </tr>\n",
       "  </tbody>\n",
       "</table>\n",
       "</div>"
      ],
      "text/plain": [
       "   subject_id activity_code                           timestamp         x  \\\n",
       "0        1600             A 1970-01-03 22:03:27.666810782+00:00 -0.364761   \n",
       "1        1600             A 1970-01-03 22:03:27.717164786+00:00 -0.879730   \n",
       "2        1600             A 1970-01-03 22:03:27.767518790+00:00  2.001495   \n",
       "3        1600             A 1970-01-03 22:03:27.817872794+00:00  0.450623   \n",
       "4        1600             A 1970-01-03 22:03:27.868226798+00:00 -2.164352   \n",
       "\n",
       "           y         z  \n",
       "0   8.793503  1.055084  \n",
       "1   9.768784  1.016998  \n",
       "2  11.109070  2.619156  \n",
       "3  12.651642  0.184555  \n",
       "4  13.928436 -4.422485  "
      ]
     },
     "metadata": {},
     "output_type": "display_data"
    },
    {
     "data": {
      "text/html": [
       "<div>\n",
       "<style scoped>\n",
       "    .dataframe tbody tr th:only-of-type {\n",
       "        vertical-align: middle;\n",
       "    }\n",
       "\n",
       "    .dataframe tbody tr th {\n",
       "        vertical-align: top;\n",
       "    }\n",
       "\n",
       "    .dataframe thead th {\n",
       "        text-align: right;\n",
       "    }\n",
       "</style>\n",
       "<table border=\"1\" class=\"dataframe\">\n",
       "  <thead>\n",
       "    <tr style=\"text-align: right;\">\n",
       "      <th></th>\n",
       "      <th>subject_id</th>\n",
       "      <th>activity_code</th>\n",
       "      <th>timestamp</th>\n",
       "      <th>x</th>\n",
       "      <th>y</th>\n",
       "      <th>z</th>\n",
       "    </tr>\n",
       "  </thead>\n",
       "  <tbody>\n",
       "    <tr>\n",
       "      <td>4804398</td>\n",
       "      <td>1650</td>\n",
       "      <td>S</td>\n",
       "      <td>1970-01-05 03:22:14.078421+00:00</td>\n",
       "      <td>-8.234077</td>\n",
       "      <td>-4.275110</td>\n",
       "      <td>-1.439407</td>\n",
       "    </tr>\n",
       "    <tr>\n",
       "      <td>4804399</td>\n",
       "      <td>1650</td>\n",
       "      <td>S</td>\n",
       "      <td>1970-01-05 03:22:14.098619+00:00</td>\n",
       "      <td>-8.080796</td>\n",
       "      <td>-4.418811</td>\n",
       "      <td>-1.415457</td>\n",
       "    </tr>\n",
       "    <tr>\n",
       "      <td>4804400</td>\n",
       "      <td>1650</td>\n",
       "      <td>S</td>\n",
       "      <td>1970-01-05 03:22:14.118715+00:00</td>\n",
       "      <td>-7.994576</td>\n",
       "      <td>-4.457131</td>\n",
       "      <td>-1.441802</td>\n",
       "    </tr>\n",
       "    <tr>\n",
       "      <td>4804401</td>\n",
       "      <td>1650</td>\n",
       "      <td>S</td>\n",
       "      <td>1970-01-05 03:22:14.138868+00:00</td>\n",
       "      <td>-8.040081</td>\n",
       "      <td>-4.366121</td>\n",
       "      <td>-1.496887</td>\n",
       "    </tr>\n",
       "    <tr>\n",
       "      <td>4804402</td>\n",
       "      <td>1650</td>\n",
       "      <td>S</td>\n",
       "      <td>1970-01-05 03:22:14.158964+00:00</td>\n",
       "      <td>-8.164622</td>\n",
       "      <td>-4.179309</td>\n",
       "      <td>-1.530418</td>\n",
       "    </tr>\n",
       "  </tbody>\n",
       "</table>\n",
       "</div>"
      ],
      "text/plain": [
       "         subject_id activity_code                        timestamp         x  \\\n",
       "4804398        1650             S 1970-01-05 03:22:14.078421+00:00 -8.234077   \n",
       "4804399        1650             S 1970-01-05 03:22:14.098619+00:00 -8.080796   \n",
       "4804400        1650             S 1970-01-05 03:22:14.118715+00:00 -7.994576   \n",
       "4804401        1650             S 1970-01-05 03:22:14.138868+00:00 -8.040081   \n",
       "4804402        1650             S 1970-01-05 03:22:14.158964+00:00 -8.164622   \n",
       "\n",
       "                y         z  \n",
       "4804398 -4.275110 -1.439407  \n",
       "4804399 -4.418811 -1.415457  \n",
       "4804400 -4.457131 -1.441802  \n",
       "4804401 -4.366121 -1.496887  \n",
       "4804402 -4.179309 -1.530418  "
      ]
     },
     "metadata": {},
     "output_type": "display_data"
    }
   ],
   "source": [
    "display(dfs.get('phone_accel').head())\n",
    "display(dfs.get('phone_accel').tail())"
   ]
  },
  {
   "cell_type": "code",
   "execution_count": 5,
   "metadata": {},
   "outputs": [
    {
     "data": {
      "text/plain": [
       "subject_id                     int64\n",
       "activity_code                 object\n",
       "timestamp        datetime64[ns, UTC]\n",
       "x                            float64\n",
       "y                            float64\n",
       "z                            float64\n",
       "dtype: object"
      ]
     },
     "metadata": {},
     "output_type": "display_data"
    },
    {
     "data": {
      "text/plain": [
       "subject_id                     int64\n",
       "activity_code                 object\n",
       "timestamp        datetime64[ns, UTC]\n",
       "x                            float64\n",
       "y                            float64\n",
       "z                            float64\n",
       "dtype: object"
      ]
     },
     "metadata": {},
     "output_type": "display_data"
    }
   ],
   "source": [
    "display(dfs.get('phone_accel').dtypes)\n",
    "display(dfs.get('watch_accel').dtypes)"
   ]
  },
  {
   "cell_type": "code",
   "execution_count": 6,
   "metadata": {},
   "outputs": [
    {
     "data": {
      "text/plain": [
       "array([ 0.5843848 , -3.444957  , -0.18293762])"
      ]
     },
     "execution_count": 6,
     "metadata": {},
     "output_type": "execute_result"
    }
   ],
   "source": [
    "df = dfs.get('phone_accel').groupby('activity_code')\n",
    "np.median(df.get_group('A')[['x', 'y', 'z']], axis=0)"
   ]
  },
  {
   "cell_type": "markdown",
   "metadata": {},
   "source": [
    "From page 2 of the documentation:\n",
    ">For the accelerometer sensor, the units are\n",
    "$m/s^2$, ... Note that the force of gravity on Earth,\n",
    "which affects the accelerometer readings, is $9.8m/s^2$.\n",
    "\n",
    "Note: *y* axis is Vertical, not *z*. Why is this using an image processing system?\n",
    "\n",
    "| Axis | Direction |\n",
    "|:-:|:-:|\n",
    "|x|Forward/Backward|\n",
    "|y|Up/Down|\n",
    "|z|Left/Right|"
   ]
  },
  {
   "cell_type": "code",
   "execution_count": 7,
   "metadata": {},
   "outputs": [
    {
     "data": {
      "text/plain": [
       "0     8.793503\n",
       "1     9.768784\n",
       "2    11.109070\n",
       "3    12.651642\n",
       "4    13.928436\n",
       "Name: y, dtype: float64"
      ]
     },
     "metadata": {},
     "output_type": "display_data"
    },
    {
     "data": {
      "text/plain": [
       "9.551098193802462"
      ]
     },
     "metadata": {},
     "output_type": "display_data"
    }
   ],
   "source": [
    "df = dfs.get('phone_accel').groupby(['subject_id', 'activity_code'])\n",
    "df_sub = df.get_group((1600, 'A'))\n",
    "display(df_sub['y'].head())\n",
    "display(df_sub['y'].mean())"
   ]
  },
  {
   "cell_type": "code",
   "execution_count": null,
   "metadata": {},
   "outputs": [],
   "source": []
  },
  {
   "cell_type": "markdown",
   "metadata": {},
   "source": [
    "## Shift To Origin / Mean Functions\n",
    "Used to set the first index or the mean as the origin, substracting it from subsequent values.\n",
    "This helps remove artifacts which bias the data when comparing sets"
   ]
  },
  {
   "cell_type": "code",
   "execution_count": 8,
   "metadata": {},
   "outputs": [],
   "source": [
    "def shift_to_origin(df_):\n",
    "    \"\"\"  Adjust values using initial index as `origin`  (otherwise inital bias takes over during cumulative summation). \"\"\"\n",
    "    return df_.assign(**{col: df_[col] - df_[col].iloc[0] for col in ['x', 'y', 'z']})\n",
    "\n",
    "def shift_to_mean(df_):\n",
    "    \"\"\" Adjust values using mean as `origin` (otherwise inital bias takes over during cumulative summation). \"\"\"\n",
    "    return df_.assign(**{col: df_[col] - df_[col].mean() for col in ['x', 'y', 'z']})"
   ]
  },
  {
   "cell_type": "code",
   "execution_count": 9,
   "metadata": {},
   "outputs": [
    {
     "name": "stdout",
     "output_type": "stream",
     "text": [
      "\n",
      ">>>\n",
      ">>> Shift to origin <<<\n",
      ">>>\n"
     ]
    },
    {
     "data": {
      "text/html": [
       "<div>\n",
       "<style scoped>\n",
       "    .dataframe tbody tr th:only-of-type {\n",
       "        vertical-align: middle;\n",
       "    }\n",
       "\n",
       "    .dataframe tbody tr th {\n",
       "        vertical-align: top;\n",
       "    }\n",
       "\n",
       "    .dataframe thead th {\n",
       "        text-align: right;\n",
       "    }\n",
       "</style>\n",
       "<table border=\"1\" class=\"dataframe\">\n",
       "  <thead>\n",
       "    <tr style=\"text-align: right;\">\n",
       "      <th></th>\n",
       "      <th>subject_id</th>\n",
       "      <th>activity_code</th>\n",
       "      <th>timestamp</th>\n",
       "      <th>x</th>\n",
       "      <th>y</th>\n",
       "      <th>z</th>\n",
       "    </tr>\n",
       "  </thead>\n",
       "  <tbody>\n",
       "    <tr>\n",
       "      <td>689</td>\n",
       "      <td>1600</td>\n",
       "      <td>A</td>\n",
       "      <td>1970-01-03 22:04:02.360736882+00:00</td>\n",
       "      <td>-2.073883</td>\n",
       "      <td>-7.831177</td>\n",
       "      <td>-0.571075</td>\n",
       "    </tr>\n",
       "    <tr>\n",
       "      <td>1207</td>\n",
       "      <td>1600</td>\n",
       "      <td>A</td>\n",
       "      <td>1970-01-03 22:04:28.444107868+00:00</td>\n",
       "      <td>-0.152618</td>\n",
       "      <td>-7.586121</td>\n",
       "      <td>-1.677689</td>\n",
       "    </tr>\n",
       "    <tr>\n",
       "      <td>1553</td>\n",
       "      <td>1600</td>\n",
       "      <td>A</td>\n",
       "      <td>1970-01-03 22:04:45.866598547+00:00</td>\n",
       "      <td>-3.946213</td>\n",
       "      <td>-7.571045</td>\n",
       "      <td>-1.735626</td>\n",
       "    </tr>\n",
       "    <tr>\n",
       "      <td>287</td>\n",
       "      <td>1600</td>\n",
       "      <td>A</td>\n",
       "      <td>1970-01-03 22:03:42.118420721+00:00</td>\n",
       "      <td>-1.213669</td>\n",
       "      <td>-7.570648</td>\n",
       "      <td>-0.835968</td>\n",
       "    </tr>\n",
       "    <tr>\n",
       "      <td>408</td>\n",
       "      <td>1600</td>\n",
       "      <td>A</td>\n",
       "      <td>1970-01-03 22:03:48.211246563+00:00</td>\n",
       "      <td>-0.835831</td>\n",
       "      <td>-7.429840</td>\n",
       "      <td>-1.566391</td>\n",
       "    </tr>\n",
       "    <tr>\n",
       "      <td>...</td>\n",
       "      <td>...</td>\n",
       "      <td>...</td>\n",
       "      <td>...</td>\n",
       "      <td>...</td>\n",
       "      <td>...</td>\n",
       "      <td>...</td>\n",
       "    </tr>\n",
       "    <tr>\n",
       "      <td>2890</td>\n",
       "      <td>1600</td>\n",
       "      <td>A</td>\n",
       "      <td>1970-01-03 22:05:53.189886795+00:00</td>\n",
       "      <td>-3.262238</td>\n",
       "      <td>10.316971</td>\n",
       "      <td>1.221466</td>\n",
       "    </tr>\n",
       "    <tr>\n",
       "      <td>971</td>\n",
       "      <td>1600</td>\n",
       "      <td>A</td>\n",
       "      <td>1970-01-03 22:04:16.560547824+00:00</td>\n",
       "      <td>-5.989212</td>\n",
       "      <td>10.449936</td>\n",
       "      <td>6.581345</td>\n",
       "    </tr>\n",
       "    <tr>\n",
       "      <td>1638</td>\n",
       "      <td>1600</td>\n",
       "      <td>A</td>\n",
       "      <td>1970-01-03 22:04:50.146667980+00:00</td>\n",
       "      <td>-1.816086</td>\n",
       "      <td>10.619064</td>\n",
       "      <td>3.497986</td>\n",
       "    </tr>\n",
       "    <tr>\n",
       "      <td>2912</td>\n",
       "      <td>1600</td>\n",
       "      <td>A</td>\n",
       "      <td>1970-01-03 22:05:54.297674881+00:00</td>\n",
       "      <td>0.173492</td>\n",
       "      <td>10.664429</td>\n",
       "      <td>-1.734695</td>\n",
       "    </tr>\n",
       "    <tr>\n",
       "      <td>3333</td>\n",
       "      <td>1600</td>\n",
       "      <td>A</td>\n",
       "      <td>1970-01-03 22:06:15.496728336+00:00</td>\n",
       "      <td>-5.363693</td>\n",
       "      <td>10.701019</td>\n",
       "      <td>5.789764</td>\n",
       "    </tr>\n",
       "  </tbody>\n",
       "</table>\n",
       "<p>3574 rows × 6 columns</p>\n",
       "</div>"
      ],
      "text/plain": [
       "      subject_id activity_code                           timestamp         x  \\\n",
       "689         1600             A 1970-01-03 22:04:02.360736882+00:00 -2.073883   \n",
       "1207        1600             A 1970-01-03 22:04:28.444107868+00:00 -0.152618   \n",
       "1553        1600             A 1970-01-03 22:04:45.866598547+00:00 -3.946213   \n",
       "287         1600             A 1970-01-03 22:03:42.118420721+00:00 -1.213669   \n",
       "408         1600             A 1970-01-03 22:03:48.211246563+00:00 -0.835831   \n",
       "...          ...           ...                                 ...       ...   \n",
       "2890        1600             A 1970-01-03 22:05:53.189886795+00:00 -3.262238   \n",
       "971         1600             A 1970-01-03 22:04:16.560547824+00:00 -5.989212   \n",
       "1638        1600             A 1970-01-03 22:04:50.146667980+00:00 -1.816086   \n",
       "2912        1600             A 1970-01-03 22:05:54.297674881+00:00  0.173492   \n",
       "3333        1600             A 1970-01-03 22:06:15.496728336+00:00 -5.363693   \n",
       "\n",
       "              y         z  \n",
       "689   -7.831177 -0.571075  \n",
       "1207  -7.586121 -1.677689  \n",
       "1553  -7.571045 -1.735626  \n",
       "287   -7.570648 -0.835968  \n",
       "408   -7.429840 -1.566391  \n",
       "...         ...       ...  \n",
       "2890  10.316971  1.221466  \n",
       "971   10.449936  6.581345  \n",
       "1638  10.619064  3.497986  \n",
       "2912  10.664429 -1.734695  \n",
       "3333  10.701019  5.789764  \n",
       "\n",
       "[3574 rows x 6 columns]"
      ]
     },
     "metadata": {},
     "output_type": "display_data"
    },
    {
     "name": "stdout",
     "output_type": "stream",
     "text": [
      "\n",
      ">   Mean Values after Tare\n"
     ]
    },
    {
     "data": {
      "text/html": [
       "<div>\n",
       "<style scoped>\n",
       "    .dataframe tbody tr th:only-of-type {\n",
       "        vertical-align: middle;\n",
       "    }\n",
       "\n",
       "    .dataframe tbody tr th {\n",
       "        vertical-align: top;\n",
       "    }\n",
       "\n",
       "    .dataframe thead th {\n",
       "        text-align: right;\n",
       "    }\n",
       "</style>\n",
       "<table border=\"1\" class=\"dataframe\">\n",
       "  <thead>\n",
       "    <tr style=\"text-align: right;\">\n",
       "      <th></th>\n",
       "      <th>subject_id</th>\n",
       "      <th>x</th>\n",
       "      <th>y</th>\n",
       "      <th>z</th>\n",
       "    </tr>\n",
       "  </thead>\n",
       "  <tbody>\n",
       "    <tr>\n",
       "      <td>0</td>\n",
       "      <td>1600.0</td>\n",
       "      <td>-1.493528</td>\n",
       "      <td>0.757595</td>\n",
       "      <td>-0.63885</td>\n",
       "    </tr>\n",
       "  </tbody>\n",
       "</table>\n",
       "</div>"
      ],
      "text/plain": [
       "   subject_id         x         y        z\n",
       "0      1600.0 -1.493528  0.757595 -0.63885"
      ]
     },
     "metadata": {},
     "output_type": "display_data"
    },
    {
     "name": "stdout",
     "output_type": "stream",
     "text": [
      "\n",
      ">>>\n",
      ">>> Shift to mean <<<\n",
      ">>>\n"
     ]
    },
    {
     "data": {
      "text/html": [
       "<div>\n",
       "<style scoped>\n",
       "    .dataframe tbody tr th:only-of-type {\n",
       "        vertical-align: middle;\n",
       "    }\n",
       "\n",
       "    .dataframe tbody tr th {\n",
       "        vertical-align: top;\n",
       "    }\n",
       "\n",
       "    .dataframe thead th {\n",
       "        text-align: right;\n",
       "    }\n",
       "</style>\n",
       "<table border=\"1\" class=\"dataframe\">\n",
       "  <thead>\n",
       "    <tr style=\"text-align: right;\">\n",
       "      <th></th>\n",
       "      <th>subject_id</th>\n",
       "      <th>activity_code</th>\n",
       "      <th>timestamp</th>\n",
       "      <th>x</th>\n",
       "      <th>y</th>\n",
       "      <th>z</th>\n",
       "    </tr>\n",
       "  </thead>\n",
       "  <tbody>\n",
       "    <tr>\n",
       "      <td>689</td>\n",
       "      <td>1600</td>\n",
       "      <td>A</td>\n",
       "      <td>1970-01-03 22:04:02.360736882+00:00</td>\n",
       "      <td>-0.580355</td>\n",
       "      <td>-8.588772</td>\n",
       "      <td>0.067775</td>\n",
       "    </tr>\n",
       "    <tr>\n",
       "      <td>1207</td>\n",
       "      <td>1600</td>\n",
       "      <td>A</td>\n",
       "      <td>1970-01-03 22:04:28.444107868+00:00</td>\n",
       "      <td>1.340909</td>\n",
       "      <td>-8.343716</td>\n",
       "      <td>-1.038838</td>\n",
       "    </tr>\n",
       "    <tr>\n",
       "      <td>1553</td>\n",
       "      <td>1600</td>\n",
       "      <td>A</td>\n",
       "      <td>1970-01-03 22:04:45.866598547+00:00</td>\n",
       "      <td>-2.452685</td>\n",
       "      <td>-8.328640</td>\n",
       "      <td>-1.096776</td>\n",
       "    </tr>\n",
       "    <tr>\n",
       "      <td>287</td>\n",
       "      <td>1600</td>\n",
       "      <td>A</td>\n",
       "      <td>1970-01-03 22:03:42.118420721+00:00</td>\n",
       "      <td>0.279859</td>\n",
       "      <td>-8.328244</td>\n",
       "      <td>-0.197118</td>\n",
       "    </tr>\n",
       "    <tr>\n",
       "      <td>408</td>\n",
       "      <td>1600</td>\n",
       "      <td>A</td>\n",
       "      <td>1970-01-03 22:03:48.211246563+00:00</td>\n",
       "      <td>0.657697</td>\n",
       "      <td>-8.187435</td>\n",
       "      <td>-0.927541</td>\n",
       "    </tr>\n",
       "    <tr>\n",
       "      <td>...</td>\n",
       "      <td>...</td>\n",
       "      <td>...</td>\n",
       "      <td>...</td>\n",
       "      <td>...</td>\n",
       "      <td>...</td>\n",
       "      <td>...</td>\n",
       "    </tr>\n",
       "    <tr>\n",
       "      <td>2890</td>\n",
       "      <td>1600</td>\n",
       "      <td>A</td>\n",
       "      <td>1970-01-03 22:05:53.189886795+00:00</td>\n",
       "      <td>-1.768710</td>\n",
       "      <td>9.559376</td>\n",
       "      <td>1.860317</td>\n",
       "    </tr>\n",
       "    <tr>\n",
       "      <td>971</td>\n",
       "      <td>1600</td>\n",
       "      <td>A</td>\n",
       "      <td>1970-01-03 22:04:16.560547824+00:00</td>\n",
       "      <td>-4.495684</td>\n",
       "      <td>9.692341</td>\n",
       "      <td>7.220195</td>\n",
       "    </tr>\n",
       "    <tr>\n",
       "      <td>1638</td>\n",
       "      <td>1600</td>\n",
       "      <td>A</td>\n",
       "      <td>1970-01-03 22:04:50.146667980+00:00</td>\n",
       "      <td>-0.322558</td>\n",
       "      <td>9.861469</td>\n",
       "      <td>4.136836</td>\n",
       "    </tr>\n",
       "    <tr>\n",
       "      <td>2912</td>\n",
       "      <td>1600</td>\n",
       "      <td>A</td>\n",
       "      <td>1970-01-03 22:05:54.297674881+00:00</td>\n",
       "      <td>1.667020</td>\n",
       "      <td>9.906834</td>\n",
       "      <td>-1.095845</td>\n",
       "    </tr>\n",
       "    <tr>\n",
       "      <td>3333</td>\n",
       "      <td>1600</td>\n",
       "      <td>A</td>\n",
       "      <td>1970-01-03 22:06:15.496728336+00:00</td>\n",
       "      <td>-3.870166</td>\n",
       "      <td>9.943424</td>\n",
       "      <td>6.428615</td>\n",
       "    </tr>\n",
       "  </tbody>\n",
       "</table>\n",
       "<p>3574 rows × 6 columns</p>\n",
       "</div>"
      ],
      "text/plain": [
       "      subject_id activity_code                           timestamp         x  \\\n",
       "689         1600             A 1970-01-03 22:04:02.360736882+00:00 -0.580355   \n",
       "1207        1600             A 1970-01-03 22:04:28.444107868+00:00  1.340909   \n",
       "1553        1600             A 1970-01-03 22:04:45.866598547+00:00 -2.452685   \n",
       "287         1600             A 1970-01-03 22:03:42.118420721+00:00  0.279859   \n",
       "408         1600             A 1970-01-03 22:03:48.211246563+00:00  0.657697   \n",
       "...          ...           ...                                 ...       ...   \n",
       "2890        1600             A 1970-01-03 22:05:53.189886795+00:00 -1.768710   \n",
       "971         1600             A 1970-01-03 22:04:16.560547824+00:00 -4.495684   \n",
       "1638        1600             A 1970-01-03 22:04:50.146667980+00:00 -0.322558   \n",
       "2912        1600             A 1970-01-03 22:05:54.297674881+00:00  1.667020   \n",
       "3333        1600             A 1970-01-03 22:06:15.496728336+00:00 -3.870166   \n",
       "\n",
       "             y         z  \n",
       "689  -8.588772  0.067775  \n",
       "1207 -8.343716 -1.038838  \n",
       "1553 -8.328640 -1.096776  \n",
       "287  -8.328244 -0.197118  \n",
       "408  -8.187435 -0.927541  \n",
       "...        ...       ...  \n",
       "2890  9.559376  1.860317  \n",
       "971   9.692341  7.220195  \n",
       "1638  9.861469  4.136836  \n",
       "2912  9.906834 -1.095845  \n",
       "3333  9.943424  6.428615  \n",
       "\n",
       "[3574 rows x 6 columns]"
      ]
     },
     "metadata": {},
     "output_type": "display_data"
    },
    {
     "name": "stdout",
     "output_type": "stream",
     "text": [
      "\n",
      ">   Mean Values after Tare\n"
     ]
    },
    {
     "data": {
      "text/html": [
       "<div>\n",
       "<style scoped>\n",
       "    .dataframe tbody tr th:only-of-type {\n",
       "        vertical-align: middle;\n",
       "    }\n",
       "\n",
       "    .dataframe tbody tr th {\n",
       "        vertical-align: top;\n",
       "    }\n",
       "\n",
       "    .dataframe thead th {\n",
       "        text-align: right;\n",
       "    }\n",
       "</style>\n",
       "<table border=\"1\" class=\"dataframe\">\n",
       "  <thead>\n",
       "    <tr style=\"text-align: right;\">\n",
       "      <th></th>\n",
       "      <th>subject_id</th>\n",
       "      <th>x</th>\n",
       "      <th>y</th>\n",
       "      <th>z</th>\n",
       "    </tr>\n",
       "  </thead>\n",
       "  <tbody>\n",
       "    <tr>\n",
       "      <td>0</td>\n",
       "      <td>1600.0</td>\n",
       "      <td>-0.0</td>\n",
       "      <td>0.0</td>\n",
       "      <td>0.0</td>\n",
       "    </tr>\n",
       "  </tbody>\n",
       "</table>\n",
       "</div>"
      ],
      "text/plain": [
       "   subject_id    x    y    z\n",
       "0      1600.0 -0.0  0.0  0.0"
      ]
     },
     "metadata": {},
     "output_type": "display_data"
    }
   ],
   "source": [
    "df = dfs.get('phone_accel').groupby(['subject_id', 'activity_code'])\n",
    "df_sub = df.get_group((1600, 'A'))\n",
    "\n",
    "for name, fn in [('shift_to_origin', shift_to_origin), ('shift_to_mean', shift_to_mean)]:\n",
    "    df_sub_adj = fn(df_sub)\n",
    "    # display(df_sub_adj.nlargest(5, columns='y').append(df_sub_adj.nsmallest(5, columns='y')))\n",
    "    print('\\n>>>\\n>>> ' + name.replace('_', ' ').capitalize() + ' <<<\\n>>>')\n",
    "    display(df_sub_adj.sort_values(by='y'))\n",
    "    print('\\n>   Mean Values after Tare')\n",
    "    display(pd.DataFrame(np.round(df_sub_adj.mean(), decimals=6)).T)\n",
    "\n",
    "# df_sub_adj = tare_to_mean(df_sub)\n",
    "# # display(df_sub_adj.nlargest(5, columns='y').append(df_sub_adj.nsmallest(5, columns='y')))\n",
    "# display(df_sub_adj.sort_values(by='y'))\n",
    "# display(pd.DataFrame(np.round(df_sub_adj.mean(), decimals=5)))"
   ]
  },
  {
   "cell_type": "markdown",
   "metadata": {},
   "source": [
    "### Note\n",
    "$y$ should be nearly $0$ with gravity taken into account. `Tare To Mean` works well."
   ]
  },
  {
   "cell_type": "markdown",
   "metadata": {},
   "source": [
    "## Coordinate Summation\n",
    "If acceleration data is treaded as *instantaneous* acceleration ($\\bf{a}$), taking the cumulative sum as a *knockoff* version of an integral over $\\bf{a}$ gives us a velocity ($\\bf{v}$).\n",
    "\n",
    "This is probably better stated, informally speaking, as a *pseudo*-velocity. \n",
    "\n",
    "**NOTE**: Technically, this should be divided by the frame rate (~25fps). For exploratory purposes, this probably isn't necessary to get the gist of the space."
   ]
  },
  {
   "cell_type": "code",
   "execution_count": 10,
   "metadata": {},
   "outputs": [],
   "source": [
    "def coord_summation(df_, combine=False):\n",
    "    \"\"\" For cumulatively sum coordinate vectors across time\"\"\"\n",
    "    return df_.assign(**{'{}{}'.format(col, '_sum' if combine else ''): vals.cumsum(axis=0) for col, vals in df_[['x', 'y', 'z']].items()})"
   ]
  },
  {
   "cell_type": "code",
   "execution_count": 11,
   "metadata": {},
   "outputs": [],
   "source": [
    "df_sub_adj = shift_to_mean(df_sub)\n",
    "df_sub_sum = coord_summation(df_sub_adj)\n",
    "df_sub_samp = df_sub_adj.iloc[:1000]\n",
    "df_sub_sum = df_sub_sum.iloc[:1000]\n",
    "\n",
    "# display({col: df_sub_sum[['x', 'y', 'z']].cumsum(axis=0) for col, vals in df_sub_sum[['x', 'y', 'z']].items()})"
   ]
  },
  {
   "cell_type": "code",
   "execution_count": 12,
   "metadata": {},
   "outputs": [
    {
     "data": {
      "text/plain": [
       "x     1.493528\n",
       "y   -32.880882\n",
       "z   -20.887485\n",
       "Name: minimums, dtype: float64"
      ]
     },
     "metadata": {},
     "output_type": "display_data"
    },
    {
     "data": {
      "text/plain": [
       "x    420.993507\n",
       "y     28.071034\n",
       "z     76.090718\n",
       "Name: maximums, dtype: float64"
      ]
     },
     "metadata": {},
     "output_type": "display_data"
    },
    {
     "name": "stdout",
     "output_type": "stream",
     "text": [
      "\n",
      "Total Minimum: -32.8809\n",
      "Total Maximum: 420.9935\n",
      "Absolute MinMax: 420.9935\n"
     ]
    }
   ],
   "source": [
    "mins = df_sub_sum[['x','y','z']].aggregate('min')\n",
    "maxs = df_sub_sum[['x','y','z']].aggregate('max')\n",
    "\n",
    "mins.name = 'minimums'\n",
    "maxs.name = 'maximums'\n",
    "\n",
    "display(mins)\n",
    "display(maxs)\n",
    "\n",
    "total_min = mins.min()\n",
    "total_max = maxs.max()\n",
    "\n",
    "abs_minmax = np.max(np.abs([total_min, total_max]))\n",
    "\n",
    "print()\n",
    "print('Total Minimum: {:.04f}'.format(total_min))\n",
    "print('Total Maximum: {:.04f}'.format(total_max))\n",
    "print('Absolute MinMax: {:.04f}'.format(abs_minmax))"
   ]
  },
  {
   "cell_type": "code",
   "execution_count": 13,
   "metadata": {},
   "outputs": [],
   "source": [
    "def get_abs_minmax(df_):\n",
    "    total_min = df_[['x','y','z']].aggregate('min').min()\n",
    "    total_max = df_[['x','y','z']].aggregate('max').max()\n",
    "    return np.max(np.abs([total_min, total_max]))"
   ]
  },
  {
   "cell_type": "markdown",
   "metadata": {},
   "source": [
    "# Acceleration Analysis\n",
    "\n",
    "> in $m/s^2$\n"
   ]
  },
  {
   "cell_type": "code",
   "execution_count": 14,
   "metadata": {},
   "outputs": [
    {
     "data": {
      "application/vnd.jupyter.widget-view+json": {
       "model_id": "",
       "version_major": 2,
       "version_minor": 0
      },
      "text/plain": [
       "Canvas(toolbar=Toolbar(toolitems=[('Home', 'Reset original view', 'home', 'home'), ('Back', 'Back to previous …"
      ]
     },
     "metadata": {},
     "output_type": "display_data"
    }
   ],
   "source": [
    "release_plt_mem()\n",
    "\n",
    "df_sub_sum = coord_summation(df_sub_adj)\n",
    "df_sub_samp = df_sub_adj.iloc[:1000]\n",
    "df_sub_sum = df_sub_sum.iloc[:1000]\n",
    "\n",
    "abs_minmax = get_abs_minmax(df_sub_sum) + 100\n",
    "\n",
    "\"\"\" Start Plot \"\"\"\n",
    "fig, axs = plt.subplots(3,1,sharex=True)\n",
    "fig.suptitle('Phone Accelerometer for Subject #1600 - Walking')\n",
    "ax_vert, ax_lng, ax_lat = axs\n",
    "\n",
    "ax_vert.plot(df_sub_samp['timestamp'], df_sub_sum['y'])\n",
    "ax_lng.plot(df_sub_samp['timestamp'], df_sub_sum['x'])\n",
    "ax_lat.plot(df_sub_samp['timestamp'], df_sub_sum['z'])\n",
    "\n",
    "for ax in axs:\n",
    "    ax.set_ylim(-(abs_minmax), abs_minmax)\n",
    "\n",
    "ax_vert.set_ylabel('Y (Vertical Axis)')\n",
    "ax_lng.set_ylabel('X (Longitudnal Axis)')\n",
    "ax_lat.set_ylabel('Z (lateral Axis)')\n",
    "\n",
    "ax_vert.grid()\n",
    "ax_lng.grid()\n",
    "ax_lat.grid()\n",
    "\n",
    "ax_lat.set_xlabel('Time')\n",
    "\n",
    "fig.canvas.layout.width = '1600px'\n",
    "fig.canvas.layout.height = '1200px'\n",
    "\n",
    "plt.show()"
   ]
  },
  {
   "cell_type": "code",
   "execution_count": 15,
   "metadata": {},
   "outputs": [
    {
     "data": {
      "text/plain": [
       "1037.0013180442156"
      ]
     },
     "execution_count": 15,
     "metadata": {},
     "output_type": "execute_result"
    }
   ],
   "source": [
    "df = dfs.get('phone_accel')\n",
    "df = df[(df['subject_id'] == 1600)]\n",
    "\n",
    "def get_abs_subject_max(df_):\n",
    "    return np.max([get_abs_minmax(coord_summation(shift_to_mean(df_[(df_['activity_code'] == key)]))[['x', 'y', 'z']]) for key, activity in activity_key.items()])\n",
    "\n",
    "get_abs_subject_max(df)"
   ]
  },
  {
   "cell_type": "code",
   "execution_count": 16,
   "metadata": {},
   "outputs": [],
   "source": [
    "from mpl_toolkits.mplot3d import Axes3D\n",
    "\n",
    "def plot_activity_accel_over_time(df_, subject_id=1600, release_mem=False):\n",
    "    if release_mem:\n",
    "        release_plt_mem()\n",
    "    df_subject = df_[(df_['subject_id']==subject_id)]\n",
    "\n",
    "    fig_ = plt.figure()\n",
    "    ax = fig_.add_subplot(111, projection='3d')\n",
    "\n",
    "    subject_abs_max = get_abs_subject_max(df_subject)\n",
    "\n",
    "    for key, activity in activity_key.items():\n",
    "        df_subject_activity = shift_to_mean(df_subject[(df_subject['activity_code']==key)][['x', 'y', 'z']])\n",
    "        df_subject_sum = coord_summation(df_subject_activity)\n",
    "\n",
    "        ax.plot(df_subject_sum['x'], df_subject_sum['z'], df_subject_sum['y'], label=activity)\n",
    "\n",
    "        ax.set_xlabel('Longitudnal')\n",
    "        ax.set_ylabel('Lateral')\n",
    "        ax.set_zlabel('Vertical')\n",
    "\n",
    "        ax.set_xlim(-subject_abs_max, subject_abs_max)\n",
    "        ax.set_ylim(-subject_abs_max, subject_abs_max)\n",
    "        ax.set_zlim(-subject_abs_max, subject_abs_max)\n",
    "\n",
    "    fig_.legend(title='Activity')\n",
    "    fig_.suptitle('Subject #1600\\'s Summed Acceleration per Activity in 3D-Space Over Time.')\n",
    "    \n",
    "    return fig_"
   ]
  },
  {
   "cell_type": "code",
   "execution_count": 17,
   "metadata": {},
   "outputs": [
    {
     "data": {
      "application/vnd.jupyter.widget-view+json": {
       "model_id": "",
       "version_major": 2,
       "version_minor": 0
      },
      "text/plain": [
       "Canvas(toolbar=Toolbar(toolitems=[('Home', 'Reset original view', 'home', 'home'), ('Back', 'Back to previous …"
      ]
     },
     "metadata": {},
     "output_type": "display_data"
    }
   ],
   "source": [
    "fig = plot_activity_accel_over_time(dfs.get('phone_accel'), 1600)\n",
    "fig.canvas.layout.width = '1200px'\n",
    "fig.canvas.layout.height = '1200px'\n",
    "\n",
    "fig.show()"
   ]
  },
  {
   "cell_type": "code",
   "execution_count": 18,
   "metadata": {},
   "outputs": [
    {
     "data": {
      "application/vnd.jupyter.widget-view+json": {
       "model_id": "",
       "version_major": 2,
       "version_minor": 0
      },
      "text/plain": [
       "Canvas(toolbar=Toolbar(toolitems=[('Home', 'Reset original view', 'home', 'home'), ('Back', 'Back to previous …"
      ]
     },
     "metadata": {},
     "output_type": "display_data"
    }
   ],
   "source": [
    "fig = plot_activity_accel_over_time(dfs.get('watch_accel'), subject_id=1620)\n",
    "\n",
    "fig.canvas.layout.width = '1200px'\n",
    "fig.canvas.layout.height = '1200px'\n",
    "\n",
    "fig.show()"
   ]
  },
  {
   "cell_type": "markdown",
   "metadata": {},
   "source": [
    "# Gyroscopic Analysis\n",
    "\n",
    ">(for) the gyroscope sensor, the units are $\\theta/s$\n",
    "\n",
    "Not sure about this wrt this data:\n",
    "\n",
    "| Axis | Envelope |\n",
    "|:-:|:-:|\n",
    "|x|roll|\n",
    "|y|pitch|\n",
    "|z|yaw|\n",
    "\n",
    "**NOTE**: It is unclear if these data run into gimble-lock situations. Given the activity domain, it is doubtful this would be an issue."
   ]
  },
  {
   "cell_type": "code",
   "execution_count": 19,
   "metadata": {},
   "outputs": [
    {
     "data": {
      "application/vnd.jupyter.widget-view+json": {
       "model_id": "",
       "version_major": 2,
       "version_minor": 0
      },
      "text/plain": [
       "Canvas(toolbar=Toolbar(toolitems=[('Home', 'Reset original view', 'home', 'home'), ('Back', 'Back to previous …"
      ]
     },
     "metadata": {},
     "output_type": "display_data"
    }
   ],
   "source": [
    "df_watch_gyro = dfs.get('watch_gyro')\n",
    "df_phone_gyro = dfs.get('phone_gyro')\n",
    "\n",
    "subject = 1650\n",
    "\n",
    "df_watch_gyro = df_watch_gyro[df_watch_gyro['subject_id'] == subject]\n",
    "df_phone_gyro = df_phone_gyro[df_phone_gyro['subject_id'] == subject]\n",
    "\n",
    "max_frames = 200\n",
    "\n",
    "# display(df_watch_gyro.head())\n",
    "release_plt_mem()\n",
    "# https://matplotlib.org/3.1.1/api/_as_gen/matplotlib.pyplot.subplots.html?highlight=subplots#matplotlib.pyplot.subplots\n",
    "fig, axs = plt.subplots(1,2, subplot_kw=dict(polar=True))\n",
    "\n",
    "ax_watch, ax_phone = axs\n",
    "\n",
    "#\n",
    "# Watch\n",
    "#\n",
    "\n",
    "# Activity D: Sitting\n",
    "df = shift_to_mean(df_watch_gyro[df_watch_gyro['activity_code']=='D'].iloc[:max_frames])\n",
    "ax_watch.plot(df.index, df['x'], label=activity_key.get('D'))\n",
    "\n",
    "# Activity Q: Writing\n",
    "df = shift_to_mean(df_watch_gyro[df_watch_gyro['activity_code']=='Q'].iloc[:max_frames])\n",
    "ax_watch.plot(df.index, df['x'], label=activity_key.get('Q'))\n",
    "\n",
    "#\n",
    "# Phone\n",
    "#\n",
    "\n",
    "# Activity D: Sitting\n",
    "df = shift_to_mean(df_phone_gyro[df_phone_gyro['activity_code']=='D'].iloc[:max_frames])\n",
    "ax_phone.plot(df.index, df['x'], label=activity_key.get('D'))\n",
    "\n",
    "# Activity Q: Writing\n",
    "df = shift_to_mean(df_phone_gyro[df_phone_gyro['activity_code']=='Q'].iloc[:max_frames])\n",
    "ax_phone.plot(df.index, df['x'], label=activity_key.get('Q'))\n",
    "\n",
    "\n",
    "for ax in axs:\n",
    "    ax.set_rlim(ax.get_rmin(), 8)\n",
    "    ax.set_xlabel('Gyroscope Rotation (in radians)')\n",
    "    ax.text(np.radians(ax.get_rlabel_position()+10), ax.get_rmax() - 2, 'Time', rotation=ax.get_rlabel_position() + 5, ha='center',va='center')\n",
    "\n",
    "fig.legend(title='Activity')    \n",
    "fig.canvas.layout.width = '1200px'\n",
    "fig.canvas.layout.height = '1200px'\n",
    "\n",
    "fig.show()"
   ]
  },
  {
   "cell_type": "code",
   "execution_count": 20,
   "metadata": {},
   "outputs": [
    {
     "data": {
      "application/vnd.jupyter.widget-view+json": {
       "model_id": "98ced19bf2fb44148e5bfaa88fb84843",
       "version_major": 2,
       "version_minor": 0
      },
      "text/plain": [
       "Canvas(toolbar=Toolbar(toolitems=[('Home', 'Reset original view', 'home', 'home'), ('Back', 'Back to previous …"
      ]
     },
     "metadata": {},
     "output_type": "display_data"
    }
   ],
   "source": [
    "df_watch_gyro = dfs.get('watch_gyro')\n",
    "df_phone_gyro = dfs.get('phone_gyro')\n",
    "\n",
    "subject = 1650\n",
    "\n",
    "df_watch_gyro = df_watch_gyro[df_watch_gyro['subject_id'] == subject]\n",
    "df_phone_gyro = df_phone_gyro[df_phone_gyro['subject_id'] == subject]\n",
    "\n",
    "\n",
    "# display(df_watch_gyro.head())\n",
    "release_plt_mem()\n",
    "# https://matplotlib.org/3.1.1/api/_as_gen/matplotlib.pyplot.subplots.html?highlight=subplots#matplotlib.pyplot.subplots\n",
    "fig, axs = plt.subplots(2,1)\n",
    "\n",
    "ax_watch, ax_phone = axs\n",
    "\n",
    "#\n",
    "# Watch\n",
    "#\n",
    "\n",
    "# Watch Activity A: Walking\n",
    "df = coord_summation(shift_to_mean(df_watch_gyro[df_watch_gyro['activity_code']=='A'].reset_index(drop=True)))\n",
    "ax_watch.plot(df['x'].index, df['x'], label='{}'.format(activity_key.get('A')))\n",
    "\n",
    "# Watch Activity D: Sitting\n",
    "df = coord_summation(shift_to_mean(df_watch_gyro[df_watch_gyro['activity_code']=='D'].reset_index(drop=True)))\n",
    "ax_watch.plot(df['x'].index, df['x'], label='{}'.format(activity_key.get('D')))\n",
    "\n",
    "# watch Activity Q: Writing\n",
    "df = coord_summation(shift_to_mean(df_watch_gyro[df_watch_gyro['activity_code']=='Q'].reset_index(drop=True)))\n",
    "ax_watch.plot(df['x'].index, df['x'], label='{}'.format(activity_key.get('Q')))\n",
    "ax_watch.set_title('Watch Gyroscope')\n",
    "\n",
    "#\n",
    "# Phone\n",
    "#\n",
    "\n",
    "# Phone Activity A: Walking\n",
    "df = coord_summation(shift_to_mean(df_phone_gyro[df_phone_gyro['activity_code']=='A'].reset_index(drop=True)))\n",
    "ax_phone.plot(df['x'].index, df['x'], label='{}'.format(activity_key.get('A')))\n",
    "\n",
    "# Phone Activity D: Sitting\n",
    "df = coord_summation(shift_to_mean(df_phone_gyro[df_phone_gyro['activity_code']=='D'].reset_index(drop=True)))\n",
    "ax_phone.plot(df['x'].index, df['x'], label='{}'.format(activity_key.get('D')))\n",
    "\n",
    "# watch Activity Q: Writing\n",
    "df = coord_summation(shift_to_mean(df_phone_gyro[df_phone_gyro['activity_code']=='Q'].reset_index(drop=True)))\n",
    "ax_phone.plot(df['x'].index, df['x'], label='{}'.format(activity_key.get('Q')))\n",
    "ax_phone.set_title('Phone Gyroscope')\n",
    "\n",
    "for ax in axs:\n",
    "    ax.grid()\n",
    "    ax.set_xlabel('Time')\n",
    "    ax.set_ylabel('Cumulative Radians per Second')\n",
    "    ax.legend()\n",
    "\n",
    "   \n",
    "fig.canvas.layout.width = '1200px'\n",
    "fig.canvas.layout.height = '1200px'\n",
    "\n",
    "fig.show()"
   ]
  },
  {
   "cell_type": "code",
   "execution_count": 21,
   "metadata": {},
   "outputs": [],
   "source": [
    "df_watch_accel = dfs.get('watch_accel')\n",
    "df_phone_accel = dfs.get('phone_accel')\n",
    "\n",
    "# display(len(set(df_watch_accel['activity_code'])))\n",
    "# display((set(df_phone_accel['subject_id'])))\n",
    "\n",
    "# subject = 1650\n",
    "# activity_code = 'A'\n",
    "\n",
    "# df_watch_accel = coord_summation(shift_to_mean(df_watch_accel[(df_watch_accel['subject_id'] == subject) & (df_watch_accel['activity_code'] == activity_code)]), True).reset_index(drop=True)\n",
    "# df_phone_accel = coord_summation(shift_to_mean(df_phone_accel[(df_phone_accel['subject_id'] == subject) & (df_phone_accel['activity_code'] == activity_code)]), True).reset_index(drop=True)\n",
    "\n",
    "# display(df_watch_accel)\n",
    "# display(df_phone_accel)\n",
    "\n",
    "# fig, axs = plt.subplots(1,1)\n",
    "# ax1 = axs\n",
    "\n",
    "# ax1.plot(df_watch_accel['y_sum'])\n",
    "# ax1.plot(df_phone_accel['y_sum'])\n",
    "\n",
    "# fig.show()"
   ]
  },
  {
   "cell_type": "markdown",
   "metadata": {},
   "source": [
    "### Gyroscope + Accelerometer\n",
    "To get the actual heading of the device, the coordinates need to be rotated. A rotation matrix might be of use (taken from [Wolfram-Alpha - Rotation Matrix](http://mathworld.wolfram.com/RotationMatrix.html))\n",
    "<br/><br/>\n",
    "Rotation around the x-axis, where $\\alpha = \\text{x_gyro}$:\n",
    "$$\n",
    "R_x(\\alpha) = \n",
    "\\begin{bmatrix}\n",
    "    1 & 0 & 0 \\\\\n",
    "    0 & cos\\;\\alpha & -sin\\;\\alpha \\\\\n",
    "    0 & sin\\;\\alpha & cos\\;\\alpha \\\\\n",
    "\\end{bmatrix}\n",
    "\\\\[2em]\n",
    "$$\n",
    "Rotation around the y-axis, where $\\beta = \\text{y_gyro}$:\n",
    "$$\n",
    "R_y(\\beta) = \\begin{bmatrix}\n",
    "cos\\;\\beta & 0 & sin\\;\\beta \\\\\n",
    "0 & 1 & 0 \\\\\n",
    "-sin\\;\\beta & 0 & cos\\;\\beta \\\\\n",
    "\\end{bmatrix}\n",
    "\\\\[2em]\n",
    "$$\n",
    "Rotation around the z-axis, where $\\gamma = \\text{z_gyro}$\n",
    "$$\n",
    "R_z(\\gamma) = \\begin{bmatrix}\n",
    "cos\\;\\gamma & -sin\\;\\gamma & 0 \\\\\n",
    "sin\\;\\gamma & cos\\;\\gamma & 0 \\\\\n",
    "0 & 0 & 1 \\\\\n",
    "\\end{bmatrix}\n",
    "$$\n",
    "\n",
    "Note: Rotations are done in $R_{zyx}$ order\n",
    "\n",
    "$$\n",
    "\\begin{bmatrix}\n",
    "cos\\;\\gamma & -sin\\;\\gamma & 0 \\\\\n",
    "sin\\;\\gamma & cos\\;\\gamma & 0 \\\\\n",
    "0 & 0 & 1 \\\\\n",
    "\\end{bmatrix}\n",
    "\\begin{bmatrix}\n",
    "cos\\;\\beta & 0 & sin\\;\\beta \\\\\n",
    "0 & 1 & 0 \\\\\n",
    "-sin\\;\\beta & 0 & cos\\;\\beta \\\\\n",
    "\\end{bmatrix}\n",
    "\\begin{bmatrix}\n",
    "    1 & 0 & 0 \\\\\n",
    "    0 & cos\\;\\alpha & -sin\\;\\alpha \\\\\n",
    "    0 & sin\\;\\alpha & cos\\;\\alpha \\\\\n",
    "\\end{bmatrix}\n",
    "$$\n"
   ]
  },
  {
   "cell_type": "code",
   "execution_count": 22,
   "metadata": {},
   "outputs": [],
   "source": [
    "def series_3d_rotation(_ser, rot_labels=['x_accel', 'y_accel', 'z_accel']):\n",
    "    coords = _ser[['x_accel', 'y_accel', 'z_accel']].astype(np.float64)\n",
    "    rots = _ser[['x_gyro', 'y_gyro', 'z_gyro']].astype(np.float64)\n",
    "    rots.index = ['x', 'y', 'z']\n",
    "    cos = rots.apply(np.cos)\n",
    "    cos.name = 'cosine'\n",
    "    sin = rots.apply(np.sin)\n",
    "    sin.name = 'sine'\n",
    "    ones = 1.\n",
    "    zeros = 0.\n",
    "\n",
    "    x_rot = np.matrix([\n",
    "        [ones , zeros,  zeros], \n",
    "        [zeros, cos.x, -sin.x],\n",
    "        [zeros, sin.x,  cos.x]\n",
    "    ])\n",
    "    \n",
    "    y_rot = np.matrix([\n",
    "        [ cos.y, zeros, sin.y], \n",
    "        [ zeros, ones , zeros],\n",
    "        [-sin.y, zeros, cos.y]\n",
    "    ])\n",
    "    \n",
    "    z_rot = np.matrix([\n",
    "        [ cos.z, -sin.z, zeros], \n",
    "        [ sin.z,  cos.z, zeros],\n",
    "        [ zeros,  zeros,  ones]\n",
    "    ])\n",
    "    \n",
    "    rot_coords = np.round(np.dot(np.dot(z_rot, np.dot(y_rot, x_rot)), coords), decimals=10)[0]\n",
    "    new_coords = pd.Series(rot_coords, index=rot_labels)\n",
    "    \n",
    "    return new_coords\n"
   ]
  },
  {
   "cell_type": "markdown",
   "metadata": {},
   "source": [
    "This is a $90^\\circ$ rotation clockwise around the y-axis.\n",
    "$$\n",
    "R_{zyx}(0 \\; 90^\\circ \\; 0)\n",
    "    \\begin{bmatrix}1 \\\\ 0 \\\\ 0\\end{bmatrix} = \n",
    "    \\begin{bmatrix}0 \\\\ 0 \\\\ -1\\end{bmatrix}\n",
    "$$"
   ]
  },
  {
   "cell_type": "markdown",
   "metadata": {},
   "source": [
    "$$\n",
    "R_{zyx}(0 \\; 90^\\circ \\; 0)\\begin{bmatrix}1 \\\\ 0 \\\\ 0\\end{bmatrix} =\n",
    "\\begin{bmatrix}\n",
    "0 & -1 & 0 \\\\\n",
    "1 & 0 & 0 \\\\\n",
    "0 & 0 & 1\n",
    "\\end{bmatrix} \n",
    "\\begin{bmatrix}\n",
    "0 & 0 & 1 \\\\\n",
    "0 & 1 & 0 \\\\\n",
    "-1 & 0 & 0\n",
    "\\end{bmatrix}\n",
    "\\begin{bmatrix}\n",
    "1 & 0 & 0 \\\\\n",
    "0 & 0 & -1 \\\\\n",
    "0 & 1 & 0\n",
    "\\end{bmatrix}\n",
    "\\begin{bmatrix}1 \\\\ 0 \\\\ 0\\end{bmatrix}\n",
    "= \\begin{bmatrix}0 \\\\ 0 \\\\ -1\\end{bmatrix}\n",
    "$$"
   ]
  },
  {
   "cell_type": "code",
   "execution_count": 23,
   "metadata": {},
   "outputs": [
    {
     "name": "stdout",
     "output_type": "stream",
     "text": [
      "Original\n"
     ]
    },
    {
     "data": {
      "text/html": [
       "<div>\n",
       "<style scoped>\n",
       "    .dataframe tbody tr th:only-of-type {\n",
       "        vertical-align: middle;\n",
       "    }\n",
       "\n",
       "    .dataframe tbody tr th {\n",
       "        vertical-align: top;\n",
       "    }\n",
       "\n",
       "    .dataframe thead th {\n",
       "        text-align: right;\n",
       "    }\n",
       "</style>\n",
       "<table border=\"1\" class=\"dataframe\">\n",
       "  <thead>\n",
       "    <tr style=\"text-align: right;\">\n",
       "      <th></th>\n",
       "      <th>0</th>\n",
       "    </tr>\n",
       "  </thead>\n",
       "  <tbody>\n",
       "    <tr>\n",
       "      <td>x_accel</td>\n",
       "      <td>1.0</td>\n",
       "    </tr>\n",
       "    <tr>\n",
       "      <td>y_accel</td>\n",
       "      <td>0.0</td>\n",
       "    </tr>\n",
       "    <tr>\n",
       "      <td>z_accel</td>\n",
       "      <td>0.0</td>\n",
       "    </tr>\n",
       "  </tbody>\n",
       "</table>\n",
       "</div>"
      ],
      "text/plain": [
       "           0\n",
       "x_accel  1.0\n",
       "y_accel  0.0\n",
       "z_accel  0.0"
      ]
     },
     "metadata": {},
     "output_type": "display_data"
    },
    {
     "name": "stdout",
     "output_type": "stream",
     "text": [
      "Rotated clockwise by pi/2 around the y-axis.\n"
     ]
    },
    {
     "data": {
      "text/html": [
       "<div>\n",
       "<style scoped>\n",
       "    .dataframe tbody tr th:only-of-type {\n",
       "        vertical-align: middle;\n",
       "    }\n",
       "\n",
       "    .dataframe tbody tr th {\n",
       "        vertical-align: top;\n",
       "    }\n",
       "\n",
       "    .dataframe thead th {\n",
       "        text-align: right;\n",
       "    }\n",
       "</style>\n",
       "<table border=\"1\" class=\"dataframe\">\n",
       "  <thead>\n",
       "    <tr style=\"text-align: right;\">\n",
       "      <th></th>\n",
       "      <th>0</th>\n",
       "    </tr>\n",
       "  </thead>\n",
       "  <tbody>\n",
       "    <tr>\n",
       "      <td>x_accel</td>\n",
       "      <td>0.0</td>\n",
       "    </tr>\n",
       "    <tr>\n",
       "      <td>y_accel</td>\n",
       "      <td>0.0</td>\n",
       "    </tr>\n",
       "    <tr>\n",
       "      <td>z_accel</td>\n",
       "      <td>-1.0</td>\n",
       "    </tr>\n",
       "  </tbody>\n",
       "</table>\n",
       "</div>"
      ],
      "text/plain": [
       "           0\n",
       "x_accel  0.0\n",
       "y_accel  0.0\n",
       "z_accel -1.0"
      ]
     },
     "metadata": {},
     "output_type": "display_data"
    }
   ],
   "source": [
    "test_ser = pd.Series({'x_accel': 1, 'y_accel': 0, 'z_accel': 0, 'x_gyro': 0, 'y_gyro': np.pi/2, 'z_gyro': 0})\n",
    "\n",
    "print('Original')\n",
    "display(test_ser.to_frame().loc[['x_accel', 'y_accel', 'z_accel']])\n",
    "\n",
    "test_rot = series_3d_rotation(test_ser).to_frame()\n",
    "print('Rotated clockwise by pi/2 around the y-axis.')\n",
    "display(test_rot)"
   ]
  },
  {
   "cell_type": "code",
   "execution_count": 24,
   "metadata": {},
   "outputs": [
    {
     "data": {
      "application/vnd.jupyter.widget-view+json": {
       "model_id": "3accc367be3f418aa1d2b285a6a6135d",
       "version_major": 2,
       "version_minor": 0
      },
      "text/plain": [
       "Canvas(toolbar=Toolbar(toolitems=[('Home', 'Reset original view', 'home', 'home'), ('Back', 'Back to previous …"
      ]
     },
     "metadata": {},
     "output_type": "display_data"
    }
   ],
   "source": [
    "test_df = pd.DataFrame({'x_accel': 1, 'y_accel': 0, 'z_accel': 0, 'x_gyro': 0, 'y_gyro': np.pi/2, 'z_gyro': 0}, index=[0])\n",
    "rot_test_df = test_df.apply(series_3d_rotation, axis=1)\n",
    "fig = plt.figure()\n",
    "ax = fig.add_subplot(111, projection='3d')\n",
    "ax.plot([0, test_df.x_accel.iloc[0]], [0, test_df.y_accel.iloc[0]], [0, test_df.z_accel.iloc[0]], label='Original Vector')\n",
    "ax.plot([0, rot_test_df.x_accel.iloc[0]], [0, rot_test_df.y_accel.iloc[0]], [0, rot_test_df.z_accel.iloc[0]], label='Rotated Vector')\n",
    "fig.legend()\n",
    "fig.canvas.layout.width = '600px'\n",
    "fig.canvas.layout.height = '600px'\n",
    "\n",
    "fig.show()"
   ]
  },
  {
   "cell_type": "code",
   "execution_count": 25,
   "metadata": {},
   "outputs": [
    {
     "data": {
      "text/html": [
       "<div>\n",
       "<style scoped>\n",
       "    .dataframe tbody tr th:only-of-type {\n",
       "        vertical-align: middle;\n",
       "    }\n",
       "\n",
       "    .dataframe tbody tr th {\n",
       "        vertical-align: top;\n",
       "    }\n",
       "\n",
       "    .dataframe thead th {\n",
       "        text-align: right;\n",
       "    }\n",
       "</style>\n",
       "<table border=\"1\" class=\"dataframe\">\n",
       "  <thead>\n",
       "    <tr style=\"text-align: right;\">\n",
       "      <th></th>\n",
       "      <th>subject_id</th>\n",
       "      <th>activity_code</th>\n",
       "      <th>x_accel</th>\n",
       "      <th>y_accel</th>\n",
       "      <th>z_accel</th>\n",
       "      <th>x_gyro</th>\n",
       "      <th>y_gyro</th>\n",
       "      <th>z_gyro</th>\n",
       "    </tr>\n",
       "  </thead>\n",
       "  <tbody>\n",
       "    <tr>\n",
       "      <td>0</td>\n",
       "      <td>1600</td>\n",
       "      <td>A</td>\n",
       "      <td>4.972757</td>\n",
       "      <td>-0.158317</td>\n",
       "      <td>6.696732</td>\n",
       "      <td>0.314944</td>\n",
       "      <td>-1.022277</td>\n",
       "      <td>-0.309962</td>\n",
       "    </tr>\n",
       "    <tr>\n",
       "      <td>1</td>\n",
       "      <td>1600</td>\n",
       "      <td>A</td>\n",
       "      <td>3.253720</td>\n",
       "      <td>-0.191835</td>\n",
       "      <td>6.107758</td>\n",
       "      <td>0.387382</td>\n",
       "      <td>-0.618541</td>\n",
       "      <td>-0.048972</td>\n",
       "    </tr>\n",
       "    <tr>\n",
       "      <td>2</td>\n",
       "      <td>1600</td>\n",
       "      <td>A</td>\n",
       "      <td>2.801216</td>\n",
       "      <td>-0.155922</td>\n",
       "      <td>5.997625</td>\n",
       "      <td>0.070999</td>\n",
       "      <td>-0.209480</td>\n",
       "      <td>-0.195978</td>\n",
       "    </tr>\n",
       "    <tr>\n",
       "      <td>3</td>\n",
       "      <td>1600</td>\n",
       "      <td>A</td>\n",
       "      <td>3.770868</td>\n",
       "      <td>-1.051354</td>\n",
       "      <td>7.731027</td>\n",
       "      <td>0.037975</td>\n",
       "      <td>0.254976</td>\n",
       "      <td>-0.156563</td>\n",
       "    </tr>\n",
       "    <tr>\n",
       "      <td>4</td>\n",
       "      <td>1600</td>\n",
       "      <td>A</td>\n",
       "      <td>4.661511</td>\n",
       "      <td>0.169689</td>\n",
       "      <td>9.684695</td>\n",
       "      <td>0.073129</td>\n",
       "      <td>0.719431</td>\n",
       "      <td>-0.001035</td>\n",
       "    </tr>\n",
       "  </tbody>\n",
       "</table>\n",
       "</div>"
      ],
      "text/plain": [
       "   subject_id activity_code   x_accel   y_accel   z_accel    x_gyro    y_gyro  \\\n",
       "0        1600             A  4.972757 -0.158317  6.696732  0.314944 -1.022277   \n",
       "1        1600             A  3.253720 -0.191835  6.107758  0.387382 -0.618541   \n",
       "2        1600             A  2.801216 -0.155922  5.997625  0.070999 -0.209480   \n",
       "3        1600             A  3.770868 -1.051354  7.731027  0.037975  0.254976   \n",
       "4        1600             A  4.661511  0.169689  9.684695  0.073129  0.719431   \n",
       "\n",
       "     z_gyro  \n",
       "0 -0.309962  \n",
       "1 -0.048972  \n",
       "2 -0.195978  \n",
       "3 -0.156563  \n",
       "4 -0.001035  "
      ]
     },
     "execution_count": 25,
     "metadata": {},
     "output_type": "execute_result"
    }
   ],
   "source": [
    "watch_df = pd.read_csv('../data/processed/wisdm/merged_sensors/watch/1600_watch.csv').drop(columns='timestamp')\n",
    "watch_df.head()"
   ]
  },
  {
   "cell_type": "code",
   "execution_count": 26,
   "metadata": {},
   "outputs": [],
   "source": [
    "def shift_to_mean(df_, columns=['x_accel', 'y_accel', 'z_accel']):\n",
    "    \"\"\" Adjust values using mean as `origin` (otherwise inital bias takes over during cumulative summation). \"\"\"\n",
    "    return df_.assign(**{col: df_[col] - df_[col].mean() for col in columns})"
   ]
  },
  {
   "cell_type": "markdown",
   "metadata": {},
   "source": [
    "### Original Activity Data"
   ]
  },
  {
   "cell_type": "code",
   "execution_count": 27,
   "metadata": {},
   "outputs": [
    {
     "data": {
      "text/html": [
       "<div>\n",
       "<style scoped>\n",
       "    .dataframe tbody tr th:only-of-type {\n",
       "        vertical-align: middle;\n",
       "    }\n",
       "\n",
       "    .dataframe tbody tr th {\n",
       "        vertical-align: top;\n",
       "    }\n",
       "\n",
       "    .dataframe thead th {\n",
       "        text-align: right;\n",
       "    }\n",
       "</style>\n",
       "<table border=\"1\" class=\"dataframe\">\n",
       "  <thead>\n",
       "    <tr style=\"text-align: right;\">\n",
       "      <th></th>\n",
       "      <th>x_accel</th>\n",
       "      <th>y_accel</th>\n",
       "      <th>z_accel</th>\n",
       "    </tr>\n",
       "  </thead>\n",
       "  <tbody>\n",
       "    <tr>\n",
       "      <td>0</td>\n",
       "      <td>4.972757</td>\n",
       "      <td>-0.158317</td>\n",
       "      <td>6.696732</td>\n",
       "    </tr>\n",
       "    <tr>\n",
       "      <td>1</td>\n",
       "      <td>3.253720</td>\n",
       "      <td>-0.191835</td>\n",
       "      <td>6.107758</td>\n",
       "    </tr>\n",
       "    <tr>\n",
       "      <td>2</td>\n",
       "      <td>2.801216</td>\n",
       "      <td>-0.155922</td>\n",
       "      <td>5.997625</td>\n",
       "    </tr>\n",
       "    <tr>\n",
       "      <td>3</td>\n",
       "      <td>3.770868</td>\n",
       "      <td>-1.051354</td>\n",
       "      <td>7.731027</td>\n",
       "    </tr>\n",
       "    <tr>\n",
       "      <td>4</td>\n",
       "      <td>4.661511</td>\n",
       "      <td>0.169689</td>\n",
       "      <td>9.684695</td>\n",
       "    </tr>\n",
       "  </tbody>\n",
       "</table>\n",
       "</div>"
      ],
      "text/plain": [
       "    x_accel   y_accel   z_accel\n",
       "0  4.972757 -0.158317  6.696732\n",
       "1  3.253720 -0.191835  6.107758\n",
       "2  2.801216 -0.155922  5.997625\n",
       "3  3.770868 -1.051354  7.731027\n",
       "4  4.661511  0.169689  9.684695"
      ]
     },
     "execution_count": 27,
     "metadata": {},
     "output_type": "execute_result"
    }
   ],
   "source": [
    "act_grp_a = watch_df.groupby('activity_code').get_group('A')\n",
    "act_grp_a.head()[['x_accel', 'y_accel', 'z_accel']]"
   ]
  },
  {
   "cell_type": "markdown",
   "metadata": {},
   "source": [
    "### Aggregate Sum of Original Activity Data"
   ]
  },
  {
   "cell_type": "code",
   "execution_count": 28,
   "metadata": {},
   "outputs": [
    {
     "data": {
      "text/html": [
       "<div>\n",
       "<style scoped>\n",
       "    .dataframe tbody tr th:only-of-type {\n",
       "        vertical-align: middle;\n",
       "    }\n",
       "\n",
       "    .dataframe tbody tr th {\n",
       "        vertical-align: top;\n",
       "    }\n",
       "\n",
       "    .dataframe thead th {\n",
       "        text-align: right;\n",
       "    }\n",
       "</style>\n",
       "<table border=\"1\" class=\"dataframe\">\n",
       "  <thead>\n",
       "    <tr style=\"text-align: right;\">\n",
       "      <th></th>\n",
       "      <th>x_accel</th>\n",
       "      <th>y_accel</th>\n",
       "      <th>z_accel</th>\n",
       "    </tr>\n",
       "  </thead>\n",
       "  <tbody>\n",
       "    <tr>\n",
       "      <td>0</td>\n",
       "      <td>4.972757</td>\n",
       "      <td>-0.158317</td>\n",
       "      <td>6.696732</td>\n",
       "    </tr>\n",
       "    <tr>\n",
       "      <td>1</td>\n",
       "      <td>8.226477</td>\n",
       "      <td>-0.350152</td>\n",
       "      <td>12.804490</td>\n",
       "    </tr>\n",
       "    <tr>\n",
       "      <td>2</td>\n",
       "      <td>11.027693</td>\n",
       "      <td>-0.506074</td>\n",
       "      <td>18.802115</td>\n",
       "    </tr>\n",
       "    <tr>\n",
       "      <td>3</td>\n",
       "      <td>14.798561</td>\n",
       "      <td>-1.557428</td>\n",
       "      <td>26.533142</td>\n",
       "    </tr>\n",
       "    <tr>\n",
       "      <td>4</td>\n",
       "      <td>19.460072</td>\n",
       "      <td>-1.387739</td>\n",
       "      <td>36.217837</td>\n",
       "    </tr>\n",
       "  </tbody>\n",
       "</table>\n",
       "</div>"
      ],
      "text/plain": [
       "     x_accel   y_accel    z_accel\n",
       "0   4.972757 -0.158317   6.696732\n",
       "1   8.226477 -0.350152  12.804490\n",
       "2  11.027693 -0.506074  18.802115\n",
       "3  14.798561 -1.557428  26.533142\n",
       "4  19.460072 -1.387739  36.217837"
      ]
     },
     "execution_count": 28,
     "metadata": {},
     "output_type": "execute_result"
    }
   ],
   "source": [
    "sum_act_grp_a = act_grp_a[['x_accel', 'y_accel', 'z_accel']].cumsum(axis=0)\n",
    "sum_act_grp_a.head()"
   ]
  },
  {
   "cell_type": "markdown",
   "metadata": {},
   "source": [
    "### Aggregate Sum of Rotated Original Activity Data"
   ]
  },
  {
   "cell_type": "code",
   "execution_count": 29,
   "metadata": {},
   "outputs": [
    {
     "data": {
      "text/html": [
       "<div>\n",
       "<style scoped>\n",
       "    .dataframe tbody tr th:only-of-type {\n",
       "        vertical-align: middle;\n",
       "    }\n",
       "\n",
       "    .dataframe tbody tr th {\n",
       "        vertical-align: top;\n",
       "    }\n",
       "\n",
       "    .dataframe thead th {\n",
       "        text-align: right;\n",
       "    }\n",
       "</style>\n",
       "<table border=\"1\" class=\"dataframe\">\n",
       "  <thead>\n",
       "    <tr style=\"text-align: right;\">\n",
       "      <th></th>\n",
       "      <th>x_accel</th>\n",
       "      <th>y_accel</th>\n",
       "      <th>z_accel</th>\n",
       "    </tr>\n",
       "  </thead>\n",
       "  <tbody>\n",
       "    <tr>\n",
       "      <td>0</td>\n",
       "      <td>4.972757</td>\n",
       "      <td>-0.158317</td>\n",
       "      <td>6.696732</td>\n",
       "    </tr>\n",
       "    <tr>\n",
       "      <td>1</td>\n",
       "      <td>8.226477</td>\n",
       "      <td>-0.350152</td>\n",
       "      <td>12.804490</td>\n",
       "    </tr>\n",
       "    <tr>\n",
       "      <td>2</td>\n",
       "      <td>11.027693</td>\n",
       "      <td>-0.506074</td>\n",
       "      <td>18.802115</td>\n",
       "    </tr>\n",
       "    <tr>\n",
       "      <td>3</td>\n",
       "      <td>14.798561</td>\n",
       "      <td>-1.557428</td>\n",
       "      <td>26.533142</td>\n",
       "    </tr>\n",
       "    <tr>\n",
       "      <td>4</td>\n",
       "      <td>19.460072</td>\n",
       "      <td>-1.387739</td>\n",
       "      <td>36.217837</td>\n",
       "    </tr>\n",
       "  </tbody>\n",
       "</table>\n",
       "</div>"
      ],
      "text/plain": [
       "     x_accel   y_accel    z_accel\n",
       "0   4.972757 -0.158317   6.696732\n",
       "1   8.226477 -0.350152  12.804490\n",
       "2  11.027693 -0.506074  18.802115\n",
       "3  14.798561 -1.557428  26.533142\n",
       "4  19.460072 -1.387739  36.217837"
      ]
     },
     "execution_count": 29,
     "metadata": {},
     "output_type": "execute_result"
    }
   ],
   "source": [
    "sum_rot_act_grp_a = act_grp_a.apply(series_3d_rotation, axis=1).cumsum(axis=0)\n",
    "sum_act_grp_a.head()"
   ]
  },
  {
   "cell_type": "markdown",
   "metadata": {},
   "source": [
    "### Aggregate Sum of Standardized Original Activity Data"
   ]
  },
  {
   "cell_type": "code",
   "execution_count": 30,
   "metadata": {},
   "outputs": [
    {
     "data": {
      "text/html": [
       "<div>\n",
       "<style scoped>\n",
       "    .dataframe tbody tr th:only-of-type {\n",
       "        vertical-align: middle;\n",
       "    }\n",
       "\n",
       "    .dataframe tbody tr th {\n",
       "        vertical-align: top;\n",
       "    }\n",
       "\n",
       "    .dataframe thead th {\n",
       "        text-align: right;\n",
       "    }\n",
       "</style>\n",
       "<table border=\"1\" class=\"dataframe\">\n",
       "  <thead>\n",
       "    <tr style=\"text-align: right;\">\n",
       "      <th></th>\n",
       "      <th>x_accel</th>\n",
       "      <th>y_accel</th>\n",
       "      <th>z_accel</th>\n",
       "    </tr>\n",
       "  </thead>\n",
       "  <tbody>\n",
       "    <tr>\n",
       "      <td>0</td>\n",
       "      <td>-6.631561</td>\n",
       "      <td>1.072198</td>\n",
       "      <td>6.820006</td>\n",
       "    </tr>\n",
       "    <tr>\n",
       "      <td>1</td>\n",
       "      <td>-14.982159</td>\n",
       "      <td>2.110877</td>\n",
       "      <td>13.051038</td>\n",
       "    </tr>\n",
       "    <tr>\n",
       "      <td>2</td>\n",
       "      <td>-23.785261</td>\n",
       "      <td>3.185468</td>\n",
       "      <td>19.171938</td>\n",
       "    </tr>\n",
       "    <tr>\n",
       "      <td>3</td>\n",
       "      <td>-31.618711</td>\n",
       "      <td>3.364629</td>\n",
       "      <td>27.026239</td>\n",
       "    </tr>\n",
       "    <tr>\n",
       "      <td>4</td>\n",
       "      <td>-38.561518</td>\n",
       "      <td>4.764832</td>\n",
       "      <td>36.834208</td>\n",
       "    </tr>\n",
       "  </tbody>\n",
       "</table>\n",
       "</div>"
      ],
      "text/plain": [
       "     x_accel   y_accel    z_accel\n",
       "0  -6.631561  1.072198   6.820006\n",
       "1 -14.982159  2.110877  13.051038\n",
       "2 -23.785261  3.185468  19.171938\n",
       "3 -31.618711  3.364629  27.026239\n",
       "4 -38.561518  4.764832  36.834208"
      ]
     },
     "execution_count": 30,
     "metadata": {},
     "output_type": "execute_result"
    }
   ],
   "source": [
    "sum_std_act_grp_a = shift_to_mean(act_grp_a)[['x_accel', 'y_accel', 'z_accel']].cumsum(axis=0)\n",
    "sum_std_act_grp_a.head()"
   ]
  },
  {
   "cell_type": "markdown",
   "metadata": {},
   "source": [
    "## Standardize, Rotate, Sum\n",
    "1. Standardize\n",
    "2. Rotate\n",
    "3. Aggregate Sums\n",
    "\n",
    "### Standardized Original Activity Data"
   ]
  },
  {
   "cell_type": "code",
   "execution_count": 31,
   "metadata": {},
   "outputs": [
    {
     "data": {
      "text/html": [
       "<div>\n",
       "<style scoped>\n",
       "    .dataframe tbody tr th:only-of-type {\n",
       "        vertical-align: middle;\n",
       "    }\n",
       "\n",
       "    .dataframe tbody tr th {\n",
       "        vertical-align: top;\n",
       "    }\n",
       "\n",
       "    .dataframe thead th {\n",
       "        text-align: right;\n",
       "    }\n",
       "</style>\n",
       "<table border=\"1\" class=\"dataframe\">\n",
       "  <thead>\n",
       "    <tr style=\"text-align: right;\">\n",
       "      <th></th>\n",
       "      <th>x_accel</th>\n",
       "      <th>y_accel</th>\n",
       "      <th>z_accel</th>\n",
       "    </tr>\n",
       "  </thead>\n",
       "  <tbody>\n",
       "    <tr>\n",
       "      <td>0</td>\n",
       "      <td>-6.631561</td>\n",
       "      <td>1.072198</td>\n",
       "      <td>6.820006</td>\n",
       "    </tr>\n",
       "    <tr>\n",
       "      <td>1</td>\n",
       "      <td>-8.350598</td>\n",
       "      <td>1.038679</td>\n",
       "      <td>6.231032</td>\n",
       "    </tr>\n",
       "    <tr>\n",
       "      <td>2</td>\n",
       "      <td>-8.803102</td>\n",
       "      <td>1.074592</td>\n",
       "      <td>6.120899</td>\n",
       "    </tr>\n",
       "    <tr>\n",
       "      <td>3</td>\n",
       "      <td>-7.833450</td>\n",
       "      <td>0.179160</td>\n",
       "      <td>7.854301</td>\n",
       "    </tr>\n",
       "    <tr>\n",
       "      <td>4</td>\n",
       "      <td>-6.942807</td>\n",
       "      <td>1.400203</td>\n",
       "      <td>9.807969</td>\n",
       "    </tr>\n",
       "  </tbody>\n",
       "</table>\n",
       "</div>"
      ],
      "text/plain": [
       "    x_accel   y_accel   z_accel\n",
       "0 -6.631561  1.072198  6.820006\n",
       "1 -8.350598  1.038679  6.231032\n",
       "2 -8.803102  1.074592  6.120899\n",
       "3 -7.833450  0.179160  7.854301\n",
       "4 -6.942807  1.400203  9.807969"
      ]
     },
     "execution_count": 31,
     "metadata": {},
     "output_type": "execute_result"
    }
   ],
   "source": [
    "std_act_grp_a = shift_to_mean(act_grp_a)\n",
    "std_act_grp_a.head()[['x_accel', 'y_accel', 'z_accel']]"
   ]
  },
  {
   "cell_type": "markdown",
   "metadata": {},
   "source": [
    "### Standardized, then Rotated, Activity Data"
   ]
  },
  {
   "cell_type": "code",
   "execution_count": 32,
   "metadata": {},
   "outputs": [
    {
     "data": {
      "text/html": [
       "<div>\n",
       "<style scoped>\n",
       "    .dataframe tbody tr th:only-of-type {\n",
       "        vertical-align: middle;\n",
       "    }\n",
       "\n",
       "    .dataframe tbody tr th {\n",
       "        vertical-align: top;\n",
       "    }\n",
       "\n",
       "    .dataframe thead th {\n",
       "        text-align: right;\n",
       "    }\n",
       "</style>\n",
       "<table border=\"1\" class=\"dataframe\">\n",
       "  <thead>\n",
       "    <tr style=\"text-align: right;\">\n",
       "      <th></th>\n",
       "      <th>x_accel</th>\n",
       "      <th>y_accel</th>\n",
       "      <th>z_accel</th>\n",
       "    </tr>\n",
       "  </thead>\n",
       "  <tbody>\n",
       "    <tr>\n",
       "      <td>0</td>\n",
       "      <td>-9.165970</td>\n",
       "      <td>1.787897</td>\n",
       "      <td>-2.104306</td>\n",
       "    </tr>\n",
       "    <tr>\n",
       "      <td>1</td>\n",
       "      <td>-10.431995</td>\n",
       "      <td>-0.882546</td>\n",
       "      <td>0.178019</td>\n",
       "    </tr>\n",
       "    <tr>\n",
       "      <td>2</td>\n",
       "      <td>-9.582544</td>\n",
       "      <td>2.552508</td>\n",
       "      <td>4.215958</td>\n",
       "    </tr>\n",
       "    <tr>\n",
       "      <td>3</td>\n",
       "      <td>-5.548978</td>\n",
       "      <td>0.755294</td>\n",
       "      <td>9.577237</td>\n",
       "    </tr>\n",
       "    <tr>\n",
       "      <td>4</td>\n",
       "      <td>1.291623</td>\n",
       "      <td>0.678516</td>\n",
       "      <td>12.009610</td>\n",
       "    </tr>\n",
       "  </tbody>\n",
       "</table>\n",
       "</div>"
      ],
      "text/plain": [
       "     x_accel   y_accel    z_accel\n",
       "0  -9.165970  1.787897  -2.104306\n",
       "1 -10.431995 -0.882546   0.178019\n",
       "2  -9.582544  2.552508   4.215958\n",
       "3  -5.548978  0.755294   9.577237\n",
       "4   1.291623  0.678516  12.009610"
      ]
     },
     "execution_count": 32,
     "metadata": {},
     "output_type": "execute_result"
    }
   ],
   "source": [
    "rot_std_act_grp_a = std_act_grp_a.apply(series_3d_rotation, axis=1)\n",
    "rot_std_act_grp_a.head()"
   ]
  },
  {
   "cell_type": "markdown",
   "metadata": {},
   "source": [
    "### Aggregate Sum of Rotated Standardized Data"
   ]
  },
  {
   "cell_type": "code",
   "execution_count": 33,
   "metadata": {},
   "outputs": [
    {
     "data": {
      "text/html": [
       "<div>\n",
       "<style scoped>\n",
       "    .dataframe tbody tr th:only-of-type {\n",
       "        vertical-align: middle;\n",
       "    }\n",
       "\n",
       "    .dataframe tbody tr th {\n",
       "        vertical-align: top;\n",
       "    }\n",
       "\n",
       "    .dataframe thead th {\n",
       "        text-align: right;\n",
       "    }\n",
       "</style>\n",
       "<table border=\"1\" class=\"dataframe\">\n",
       "  <thead>\n",
       "    <tr style=\"text-align: right;\">\n",
       "      <th></th>\n",
       "      <th>x_accel</th>\n",
       "      <th>y_accel</th>\n",
       "      <th>z_accel</th>\n",
       "    </tr>\n",
       "  </thead>\n",
       "  <tbody>\n",
       "    <tr>\n",
       "      <td>0</td>\n",
       "      <td>-9.165970</td>\n",
       "      <td>1.787897</td>\n",
       "      <td>-2.104306</td>\n",
       "    </tr>\n",
       "    <tr>\n",
       "      <td>1</td>\n",
       "      <td>-19.597965</td>\n",
       "      <td>0.905352</td>\n",
       "      <td>-1.926287</td>\n",
       "    </tr>\n",
       "    <tr>\n",
       "      <td>2</td>\n",
       "      <td>-29.180510</td>\n",
       "      <td>3.457860</td>\n",
       "      <td>2.289671</td>\n",
       "    </tr>\n",
       "    <tr>\n",
       "      <td>3</td>\n",
       "      <td>-34.729488</td>\n",
       "      <td>4.213154</td>\n",
       "      <td>11.866908</td>\n",
       "    </tr>\n",
       "    <tr>\n",
       "      <td>4</td>\n",
       "      <td>-33.437865</td>\n",
       "      <td>4.891670</td>\n",
       "      <td>23.876518</td>\n",
       "    </tr>\n",
       "  </tbody>\n",
       "</table>\n",
       "</div>"
      ],
      "text/plain": [
       "     x_accel   y_accel    z_accel\n",
       "0  -9.165970  1.787897  -2.104306\n",
       "1 -19.597965  0.905352  -1.926287\n",
       "2 -29.180510  3.457860   2.289671\n",
       "3 -34.729488  4.213154  11.866908\n",
       "4 -33.437865  4.891670  23.876518"
      ]
     },
     "execution_count": 33,
     "metadata": {},
     "output_type": "execute_result"
    }
   ],
   "source": [
    "sum_rot_std_act_grp_a = rot_std_act_grp_a.cumsum(axis=0)\n",
    "sum_rot_std_act_grp_a.head()"
   ]
  },
  {
   "cell_type": "markdown",
   "metadata": {},
   "source": [
    "## Rotate, Standardize, Sum\n",
    "1. Rotate\n",
    "2. Standardize\n",
    "3. Aggregate Sums\n",
    "\n",
    "### Rotated Original Activity Data"
   ]
  },
  {
   "cell_type": "code",
   "execution_count": 34,
   "metadata": {},
   "outputs": [
    {
     "data": {
      "text/html": [
       "<div>\n",
       "<style scoped>\n",
       "    .dataframe tbody tr th:only-of-type {\n",
       "        vertical-align: middle;\n",
       "    }\n",
       "\n",
       "    .dataframe tbody tr th {\n",
       "        vertical-align: top;\n",
       "    }\n",
       "\n",
       "    .dataframe thead th {\n",
       "        text-align: right;\n",
       "    }\n",
       "</style>\n",
       "<table border=\"1\" class=\"dataframe\">\n",
       "  <thead>\n",
       "    <tr style=\"text-align: right;\">\n",
       "      <th></th>\n",
       "      <th>x_accel</th>\n",
       "      <th>y_accel</th>\n",
       "      <th>z_accel</th>\n",
       "    </tr>\n",
       "  </thead>\n",
       "  <tbody>\n",
       "    <tr>\n",
       "      <td>0</td>\n",
       "      <td>-3.343765</td>\n",
       "      <td>-1.265307</td>\n",
       "      <td>7.537760</td>\n",
       "    </tr>\n",
       "    <tr>\n",
       "      <td>1</td>\n",
       "      <td>-0.707172</td>\n",
       "      <td>-2.453246</td>\n",
       "      <td>6.435036</td>\n",
       "    </tr>\n",
       "    <tr>\n",
       "      <td>2</td>\n",
       "      <td>1.356395</td>\n",
       "      <td>-0.861614</td>\n",
       "      <td>6.423429</td>\n",
       "    </tr>\n",
       "    <tr>\n",
       "      <td>3</td>\n",
       "      <td>5.309493</td>\n",
       "      <td>-2.198889</td>\n",
       "      <td>6.485965</td>\n",
       "    </tr>\n",
       "    <tr>\n",
       "      <td>4</td>\n",
       "      <td>9.878644</td>\n",
       "      <td>-0.548590</td>\n",
       "      <td>4.202764</td>\n",
       "    </tr>\n",
       "  </tbody>\n",
       "</table>\n",
       "</div>"
      ],
      "text/plain": [
       "    x_accel   y_accel   z_accel\n",
       "0 -3.343765 -1.265307  7.537760\n",
       "1 -0.707172 -2.453246  6.435036\n",
       "2  1.356395 -0.861614  6.423429\n",
       "3  5.309493 -2.198889  6.485965\n",
       "4  9.878644 -0.548590  4.202764"
      ]
     },
     "execution_count": 34,
     "metadata": {},
     "output_type": "execute_result"
    }
   ],
   "source": [
    "rot_act_grp_a = act_grp_a.apply(series_3d_rotation, axis=1)\n",
    "rot_act_grp_a.head()"
   ]
  },
  {
   "cell_type": "markdown",
   "metadata": {},
   "source": [
    "### Rotated, then Standardized, Activity Data"
   ]
  },
  {
   "cell_type": "code",
   "execution_count": 35,
   "metadata": {},
   "outputs": [
    {
     "data": {
      "text/html": [
       "<div>\n",
       "<style scoped>\n",
       "    .dataframe tbody tr th:only-of-type {\n",
       "        vertical-align: middle;\n",
       "    }\n",
       "\n",
       "    .dataframe tbody tr th {\n",
       "        vertical-align: top;\n",
       "    }\n",
       "\n",
       "    .dataframe thead th {\n",
       "        text-align: right;\n",
       "    }\n",
       "</style>\n",
       "<table border=\"1\" class=\"dataframe\">\n",
       "  <thead>\n",
       "    <tr style=\"text-align: right;\">\n",
       "      <th></th>\n",
       "      <th>x_accel</th>\n",
       "      <th>y_accel</th>\n",
       "      <th>z_accel</th>\n",
       "    </tr>\n",
       "  </thead>\n",
       "  <tbody>\n",
       "    <tr>\n",
       "      <td>0</td>\n",
       "      <td>-3.231211</td>\n",
       "      <td>-0.767956</td>\n",
       "      <td>6.553893</td>\n",
       "    </tr>\n",
       "    <tr>\n",
       "      <td>1</td>\n",
       "      <td>-0.594619</td>\n",
       "      <td>-1.955895</td>\n",
       "      <td>5.451169</td>\n",
       "    </tr>\n",
       "    <tr>\n",
       "      <td>2</td>\n",
       "      <td>1.468949</td>\n",
       "      <td>-0.364263</td>\n",
       "      <td>5.439562</td>\n",
       "    </tr>\n",
       "    <tr>\n",
       "      <td>3</td>\n",
       "      <td>5.422046</td>\n",
       "      <td>-1.701538</td>\n",
       "      <td>5.502097</td>\n",
       "    </tr>\n",
       "    <tr>\n",
       "      <td>4</td>\n",
       "      <td>9.991198</td>\n",
       "      <td>-0.051239</td>\n",
       "      <td>3.218897</td>\n",
       "    </tr>\n",
       "  </tbody>\n",
       "</table>\n",
       "</div>"
      ],
      "text/plain": [
       "    x_accel   y_accel   z_accel\n",
       "0 -3.231211 -0.767956  6.553893\n",
       "1 -0.594619 -1.955895  5.451169\n",
       "2  1.468949 -0.364263  5.439562\n",
       "3  5.422046 -1.701538  5.502097\n",
       "4  9.991198 -0.051239  3.218897"
      ]
     },
     "execution_count": 35,
     "metadata": {},
     "output_type": "execute_result"
    }
   ],
   "source": [
    "std_rot_act_grp_a = shift_to_mean(rot_act_grp_a)\n",
    "std_rot_act_grp_a.head()"
   ]
  },
  {
   "cell_type": "markdown",
   "metadata": {},
   "source": [
    "### Aggregate Sum of Standardized Rotated Data"
   ]
  },
  {
   "cell_type": "code",
   "execution_count": 36,
   "metadata": {},
   "outputs": [
    {
     "data": {
      "text/html": [
       "<div>\n",
       "<style scoped>\n",
       "    .dataframe tbody tr th:only-of-type {\n",
       "        vertical-align: middle;\n",
       "    }\n",
       "\n",
       "    .dataframe tbody tr th {\n",
       "        vertical-align: top;\n",
       "    }\n",
       "\n",
       "    .dataframe thead th {\n",
       "        text-align: right;\n",
       "    }\n",
       "</style>\n",
       "<table border=\"1\" class=\"dataframe\">\n",
       "  <thead>\n",
       "    <tr style=\"text-align: right;\">\n",
       "      <th></th>\n",
       "      <th>x_accel</th>\n",
       "      <th>y_accel</th>\n",
       "      <th>z_accel</th>\n",
       "    </tr>\n",
       "  </thead>\n",
       "  <tbody>\n",
       "    <tr>\n",
       "      <td>0</td>\n",
       "      <td>-3.231211</td>\n",
       "      <td>-0.767956</td>\n",
       "      <td>6.553893</td>\n",
       "    </tr>\n",
       "    <tr>\n",
       "      <td>1</td>\n",
       "      <td>-3.825830</td>\n",
       "      <td>-2.723852</td>\n",
       "      <td>12.005062</td>\n",
       "    </tr>\n",
       "    <tr>\n",
       "      <td>2</td>\n",
       "      <td>-2.356881</td>\n",
       "      <td>-3.088114</td>\n",
       "      <td>17.444624</td>\n",
       "    </tr>\n",
       "    <tr>\n",
       "      <td>3</td>\n",
       "      <td>3.065165</td>\n",
       "      <td>-4.789653</td>\n",
       "      <td>22.946721</td>\n",
       "    </tr>\n",
       "    <tr>\n",
       "      <td>4</td>\n",
       "      <td>13.056363</td>\n",
       "      <td>-4.840892</td>\n",
       "      <td>26.165618</td>\n",
       "    </tr>\n",
       "  </tbody>\n",
       "</table>\n",
       "</div>"
      ],
      "text/plain": [
       "     x_accel   y_accel    z_accel\n",
       "0  -3.231211 -0.767956   6.553893\n",
       "1  -3.825830 -2.723852  12.005062\n",
       "2  -2.356881 -3.088114  17.444624\n",
       "3   3.065165 -4.789653  22.946721\n",
       "4  13.056363 -4.840892  26.165618"
      ]
     },
     "execution_count": 36,
     "metadata": {},
     "output_type": "execute_result"
    }
   ],
   "source": [
    "sum_std_rot_act_grp_a = std_rot_act_grp_a.cumsum(axis=0)\n",
    "sum_std_rot_act_grp_a.head()"
   ]
  },
  {
   "cell_type": "code",
   "execution_count": 37,
   "metadata": {},
   "outputs": [
    {
     "data": {
      "application/vnd.jupyter.widget-view+json": {
       "model_id": "da0d0b4b0f8f4f10a7943be58459a8d7",
       "version_major": 2,
       "version_minor": 0
      },
      "text/plain": [
       "Canvas(toolbar=Toolbar(toolitems=[('Home', 'Reset original view', 'home', 'home'), ('Back', 'Back to previous …"
      ]
     },
     "metadata": {},
     "output_type": "display_data"
    }
   ],
   "source": [
    "fig = plt.figure()\n",
    "ax = fig.add_subplot(111, projection='3d')\n",
    "ax.plot(sum_act_grp_a.x_accel, sum_act_grp_a.y_accel, sum_act_grp_a.z_accel, label='Original')\n",
    "ax.plot(sum_std_act_grp_a.x_accel, sum_std_act_grp_a.y_accel, sum_std_act_grp_a.z_accel, label='Standardized Original')\n",
    "ax.plot(sum_rot_act_grp_a.x_accel, sum_rot_act_grp_a.y_accel, sum_rot_act_grp_a.z_accel, label='Rotated Original')\n",
    "ax.plot(sum_std_rot_act_grp_a.x_accel, sum_std_rot_act_grp_a.y_accel, sum_std_rot_act_grp_a.z_accel, label='Standardized Rotated Data')\n",
    "ax.plot(sum_rot_std_act_grp_a.x_accel, sum_rot_std_act_grp_a.y_accel, sum_rot_std_act_grp_a.z_accel, label='Rotated Standardized Data')\n",
    "\n",
    "ax.set_xlim(-20000, 20000)\n",
    "ax.set_ylim(-20000, 20000)\n",
    "ax.set_zlim(-20000, 20000)\n",
    "\n",
    "fig.legend()\n",
    "fig.canvas.layout.width = '1200px'\n",
    "fig.canvas.layout.height = '1200px'\n",
    "\n",
    "fig.show()"
   ]
  },
  {
   "cell_type": "code",
   "execution_count": 38,
   "metadata": {},
   "outputs": [
    {
     "data": {
      "application/vnd.jupyter.widget-view+json": {
       "model_id": "a83b2d3ec5914e849779e8a12c9e4fe9",
       "version_major": 2,
       "version_minor": 0
      },
      "text/plain": [
       "Canvas(toolbar=Toolbar(toolitems=[('Home', 'Reset original view', 'home', 'home'), ('Back', 'Back to previous …"
      ]
     },
     "metadata": {},
     "output_type": "display_data"
    }
   ],
   "source": [
    "fig = plt.figure()\n",
    "ax = fig.add_subplot(111, projection='3d')\n",
    "ax.plot([], [], [])\n",
    "ax.plot(sum_std_act_grp_a.x_accel, sum_std_act_grp_a.y_accel, sum_std_act_grp_a.z_accel, label='Standardized Original')\n",
    "ax.plot([], [], [])\n",
    "ax.plot(sum_std_rot_act_grp_a.x_accel, sum_std_rot_act_grp_a.y_accel, sum_std_rot_act_grp_a.z_accel, label='Standardized Rotated Data')\n",
    "ax.plot(sum_rot_std_act_grp_a.x_accel, sum_rot_std_act_grp_a.y_accel, sum_rot_std_act_grp_a.z_accel, label='Rotated Standardized Data')\n",
    "\n",
    "fig.legend()\n",
    "fig.canvas.layout.width = '1200px'\n",
    "fig.canvas.layout.height = '1200px'\n",
    "\n",
    "fig.show()"
   ]
  },
  {
   "cell_type": "code",
   "execution_count": 39,
   "metadata": {},
   "outputs": [
    {
     "data": {
      "application/vnd.jupyter.widget-view+json": {
       "model_id": "54f19ee59d434d8d959ebc87f30ab0cf",
       "version_major": 2,
       "version_minor": 0
      },
      "text/plain": [
       "Canvas(toolbar=Toolbar(toolitems=[('Home', 'Reset original view', 'home', 'home'), ('Back', 'Back to previous …"
      ]
     },
     "metadata": {},
     "output_type": "display_data"
    }
   ],
   "source": [
    "\n",
    "fig, axs = plt.subplots(3,1)\n",
    "\n",
    "axs[0].plot(sum_act_grp_a.x_accel, label='Original Data')\n",
    "axs[0].plot(sum_std_act_grp_a.x_accel, label='Standardized Data')\n",
    "axs[0].plot(sum_rot_act_grp_a.x_accel, label='Rotated Data')\n",
    "axs[0].plot(sum_std_rot_act_grp_a.x_accel, label='Standardized Rotated Data')\n",
    "axs[0].plot(sum_rot_std_act_grp_a.x_accel, label='Rotated Standardized Data')\n",
    "axs[0].set_ylabel('X Axis')\n",
    "axs[0].set_ylim(-1000, 1000)\n",
    "\n",
    "axs[1].plot(sum_act_grp_a.y_accel)\n",
    "axs[1].plot(sum_std_act_grp_a.y_accel)\n",
    "axs[1].plot(sum_rot_act_grp_a.y_accel)\n",
    "axs[1].plot(sum_std_rot_act_grp_a.y_accel)\n",
    "axs[1].plot(sum_rot_std_act_grp_a.y_accel)\n",
    "axs[1].set_ylabel('Y Axis')\n",
    "axs[1].set_ylim(-1000, 1000)\n",
    "\n",
    "axs[2].plot(sum_act_grp_a.z_accel)\n",
    "axs[2].plot(sum_std_act_grp_a.z_accel)\n",
    "axs[2].plot(sum_rot_act_grp_a.y_accel)\n",
    "axs[2].plot(sum_std_rot_act_grp_a.z_accel)\n",
    "axs[2].plot(sum_rot_std_act_grp_a.z_accel)\n",
    "axs[2].set_ylabel('Z Axis')\n",
    "axs[2].set_xlabel('Timestep')\n",
    "axs[2].set_ylim(-1000, 1000)\n",
    "\n",
    "\n",
    "\n",
    "fig.canvas.layout.width = '1200px'\n",
    "fig.canvas.layout.height = '1200px'\n",
    "\n",
    "fig.legend()\n",
    "fig.show()"
   ]
  },
  {
   "cell_type": "markdown",
   "metadata": {},
   "source": [
    "... and here it abruptly ends."
   ]
  }
 ],
 "metadata": {
  "kernelspec": {
   "display_name": "dataviz",
   "language": "python",
   "name": "dataviz"
  },
  "language_info": {
   "codemirror_mode": {
    "name": "ipython",
    "version": 3
   },
   "file_extension": ".py",
   "mimetype": "text/x-python",
   "name": "python",
   "nbconvert_exporter": "python",
   "pygments_lexer": "ipython3",
   "version": "3.7.5"
  }
 },
 "nbformat": 4,
 "nbformat_minor": 4
}
