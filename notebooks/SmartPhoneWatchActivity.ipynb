{
 "cells": [
  {
   "cell_type": "markdown",
   "metadata": {},
   "source": [
    "# Final Assignment, Part I"
   ]
  },
  {
   "cell_type": "code",
   "execution_count": 14,
   "metadata": {},
   "outputs": [],
   "source": [
    "%matplotlib widget\n",
    "\n",
    "from pathlib import Path\n",
    "\n",
    "import matplotlib\n",
    "import matplotlib.pyplot as plt\n",
    "import numpy as np\n",
    "import pandas as pd\n",
    "\n",
    "# Thanks to `ImportanceOfBeingErnest` from https://stackoverflow.com/questions/47404653/pandas-0-21-0-timestamp-compatibility-issue-with-matplotlib\n",
    "pd.plotting.register_matplotlib_converters()\n",
    "\n",
    "input_dirpath = Path('../data/raw/wisdm/raw')\n",
    "processed_dirpath = Path('../data/processed/wisdm/')\n",
    "ref_dirpath = Path('../references')\n",
    "\n",
    "activity_key_path = ref_dirpath / 'wisdm_activity_key.txt'\n",
    "\n",
    "DEBUG=True\n",
    "def release_plt_mem():\n",
    "    if not DEBUG:\n",
    "        return\n",
    "    try:\n",
    "        # release memory if needed\n",
    "        plt.close('all')\n",
    "    except:\n",
    "        pass\n"
   ]
  },
  {
   "cell_type": "code",
   "execution_count": 7,
   "metadata": {},
   "outputs": [],
   "source": [
    "activity_key = {v: k for k, v in [line.strip().split(' = ') for line in activity_key_path.read_text().strip().split('\\n')]}\n",
    "# '| Keys | Activity |\\n|:-:|:-:|' + '\\n'.join(['|{}|{}|'.format(k, v) for k, v in activity_key.items()])"
   ]
  },
  {
   "cell_type": "markdown",
   "metadata": {},
   "source": [
    "# Data Information\n",
    "> from Documentation\n",
    "\n",
    "| Keys | Activity |\n",
    "|:-:|:-:|\n",
    "|A|walking|\n",
    "|B|jogging|\n",
    "|C|stairs|\n",
    "|D|sitting|\n",
    "|E|standing|\n",
    "|F|typing|\n",
    "|G|teeth|\n",
    "|H|soup|\n",
    "|I|chips|\n",
    "|J|pasta|\n",
    "|K|drinking|\n",
    "|L|sandwich|\n",
    "|M|kicking|\n",
    "|O|catch|\n",
    "|P|dribbling|\n",
    "|Q|writing|\n",
    "|R|clapping|\n",
    "|S|folding|\n",
    "\n",
    "| Field name | Type | Description | Range |\n",
    "|:--|:--|:--|:--|\n",
    "| Subject-id |  Symbolic numeric identififier. | Uniquely identifyies the subject. | 1600-1650. |\n",
    "| Activity code | Symbolic single letter. | Identifies a specific activity as listed in Table 2. | A-S (no “N” value) |\n",
    "| Timestamp  | Integer. | Linux time | >= 1-1-1970 00\\:00\\:00.0+00\\:00 |\n",
    "| x | Numeric: real.  | Sensor value for x axis. | May be positive or negative. |\n",
    "| y | Numeric: real.  | Sensor value for y axis. | May be positive or negative. |\n",
    "| z | Numeric: real.  | Sensor value for z axis. | May be positive or negative. |"
   ]
  },
  {
   "cell_type": "code",
   "execution_count": 24,
   "metadata": {},
   "outputs": [],
   "source": [
    "# process data for ease of access - only run once\n",
    "            \n",
    "def concat_subject_data_by_device_type():\n",
    "    \"\"\" Construct files containing all subjects and activities for each device and sensor type. \"\"\"\n",
    "    import zipfile\n",
    "\n",
    "    df_dict = {}\n",
    "    # from data documentation\n",
    "    headers = ['subject_id', 'activity_code', 'timestamp', 'x','y','z']\n",
    "\n",
    "    for f in input_dirpath.glob('**/*.zip'):\n",
    "        unzip_dirpath = f.parent / f.stem\n",
    "        if not unzip_dirpath.exists():\n",
    "            with zipfile.ZipFile(str(f),'r') as fd:\n",
    "                fd.extractall(str(f.parent))\n",
    "\n",
    "    for f in input_dirpath.glob('raw/**/*.txt'):\n",
    "        if not any([name in str(f) for name in ['watch', 'phone']]):\n",
    "            continue\n",
    "\n",
    "        split_path = f.parts\n",
    "        device_type, sensor_type  = split_path[-3:-1]\n",
    "        data_src = '{}_{}'.format(device_type, sensor_type)\n",
    "\n",
    "        filename = output_dirpath / 'wisdm_{}.csv'.format(data_src)\n",
    "        if filename.exists():\n",
    "            continue\n",
    "\n",
    "        new_df = pd.read_csv(f, names=headers, parse_dates=['timestamp'], infer_datetime_format=False)\n",
    "        new_df['timestamp'] = [pd.to_datetime(int(ts), utc=True) for ts in new_df['timestamp']]\n",
    "        \n",
    "        # remove idiosyncratic endline symbol\n",
    "        new_df.iloc[:,-1] = new_df.iloc[:,-1].str.replace(';', '')\n",
    "        \n",
    "        if dfs.get(data_src) is None:\n",
    "            df_dict[data_src] = new_df\n",
    "        else:\n",
    "            df_dict[data_src] = dfs[data_src].append(new_df)\n",
    "\n",
    "    for data_src, df in df_dict.items():\n",
    "        df.to_csv(output_dirpath / 'wisdm_{}.csv'.format(data_src), index=False)\n",
    "\n",
    "    return df_dict\n",
    "    \n",
    "        \n",
    "# this doesn'n need to be called if data is already in the /data/processed/wisdm directory  \n",
    "dfs = concat_subject_data_by_device_type()"
   ]
  },
  {
   "cell_type": "code",
   "execution_count": 218,
   "metadata": {},
   "outputs": [
    {
     "data": {
      "text/plain": [
       "dict_keys(['phone_accel', 'phone_gyro', 'watch_accel', 'watch_gyro'])"
      ]
     },
     "execution_count": 218,
     "metadata": {},
     "output_type": "execute_result"
    }
   ],
   "source": [
    "# If the cell above is not run, this will recreate a dictionary with the same structure\n",
    "# This can take awhile as the files are large\n",
    "dfs = {f.stem.replace('wisdm_', ''): pd.read_csv(f, parse_dates=['timestamp']) for f in processed_dirpath.glob('wisdm_*.csv')}\n",
    "dfs.keys()"
   ]
  },
  {
   "cell_type": "code",
   "execution_count": null,
   "metadata": {},
   "outputs": [],
   "source": [
    "display(dfs.get('phone_accel').head())\n",
    "display(dfs.get('phone_accel').tail())"
   ]
  },
  {
   "cell_type": "code",
   "execution_count": null,
   "metadata": {},
   "outputs": [],
   "source": [
    "display(dfs.get('phone_accel').dtypes)\n",
    "display(dfs.get('watch_accel').dtypes)"
   ]
  },
  {
   "cell_type": "code",
   "execution_count": null,
   "metadata": {},
   "outputs": [],
   "source": [
    "df = dfs.get('phone_accel').groupby('activity_code')\n",
    "np.median(df.get_group('A')[['x', 'y', 'z']], axis=0)\n",
    "# df[(df['subject_id']==1600) & (df['activity_code']=='A')]#.cumsum(axis=0)"
   ]
  },
  {
   "cell_type": "markdown",
   "metadata": {},
   "source": [
    "From page 2 of the documentation:\n",
    ">For the accelerometer sensor, the units are\n",
    "$m/s^2$, ... Note that the force of gravity on Earth,\n",
    "which affects the accelerometer readings, is $9.8m/s^2$.\n",
    "\n",
    "Note: *y* axis is Vertical, not *z*. Why is this using an image processing system?\n",
    "\n",
    "| Axis | Direction |\n",
    "|:-:|:-:|\n",
    "|x|Forward/Backward|\n",
    "|y|Up/Down|\n",
    "|z|Left/Right|"
   ]
  },
  {
   "cell_type": "code",
   "execution_count": null,
   "metadata": {},
   "outputs": [],
   "source": [
    "df = dfs.get('phone_accel').groupby(['subject_id', 'activity_code'])\n",
    "df_sub = df.get_group((1600, 'A'))\n",
    "display(df_sub['y'].head())\n",
    "display(df_sub['y'].mean())"
   ]
  },
  {
   "cell_type": "code",
   "execution_count": 4,
   "metadata": {},
   "outputs": [],
   "source": []
  },
  {
   "cell_type": "markdown",
   "metadata": {},
   "source": [
    "## Tare To Origin / Mean Functions\n",
    "Used to set the first index or the mean as the origin, substracting it from subsequent values.\n",
    "This helps remove artifacts which bias the data when comparing sets"
   ]
  },
  {
   "cell_type": "code",
   "execution_count": 166,
   "metadata": {},
   "outputs": [],
   "source": [
    "def standardize_to_origin(df_):\n",
    "    \"\"\"  Adjust values using initial index as `origin`  (otherwise inital bias takes over during cumulative summation). \"\"\"\n",
    "    return df_.assign(**{col: df_[col] - df_[col].iloc[0] for col in ['x', 'y', 'z']})\n",
    "\n",
    "def standardize_to_mean(df_):\n",
    "    \"\"\" Adjust values using mean as `origin` (otherwise inital bias takes over during cumulative summation). \"\"\"\n",
    "    return df_.assign(**{col: df_[col] - df_[col].mean() for col in ['x', 'y', 'z']})"
   ]
  },
  {
   "cell_type": "code",
   "execution_count": 194,
   "metadata": {},
   "outputs": [
    {
     "name": "stdout",
     "output_type": "stream",
     "text": [
      "\n",
      ">>>\n",
      ">>> Tare to origin <<<\n",
      ">>>\n"
     ]
    },
    {
     "data": {
      "text/html": [
       "<div>\n",
       "<style scoped>\n",
       "    .dataframe tbody tr th:only-of-type {\n",
       "        vertical-align: middle;\n",
       "    }\n",
       "\n",
       "    .dataframe tbody tr th {\n",
       "        vertical-align: top;\n",
       "    }\n",
       "\n",
       "    .dataframe thead th {\n",
       "        text-align: right;\n",
       "    }\n",
       "</style>\n",
       "<table border=\"1\" class=\"dataframe\">\n",
       "  <thead>\n",
       "    <tr style=\"text-align: right;\">\n",
       "      <th></th>\n",
       "      <th>subject_id</th>\n",
       "      <th>activity_code</th>\n",
       "      <th>timestamp</th>\n",
       "      <th>x</th>\n",
       "      <th>y</th>\n",
       "      <th>z</th>\n",
       "    </tr>\n",
       "  </thead>\n",
       "  <tbody>\n",
       "    <tr>\n",
       "      <td>689</td>\n",
       "      <td>1600</td>\n",
       "      <td>A</td>\n",
       "      <td>1970-01-03 22:04:02.360736882+00:00</td>\n",
       "      <td>-2.073883</td>\n",
       "      <td>-7.831177</td>\n",
       "      <td>-0.571075</td>\n",
       "    </tr>\n",
       "    <tr>\n",
       "      <td>1207</td>\n",
       "      <td>1600</td>\n",
       "      <td>A</td>\n",
       "      <td>1970-01-03 22:04:28.444107868+00:00</td>\n",
       "      <td>-0.152618</td>\n",
       "      <td>-7.586121</td>\n",
       "      <td>-1.677689</td>\n",
       "    </tr>\n",
       "    <tr>\n",
       "      <td>1553</td>\n",
       "      <td>1600</td>\n",
       "      <td>A</td>\n",
       "      <td>1970-01-03 22:04:45.866598547+00:00</td>\n",
       "      <td>-3.946213</td>\n",
       "      <td>-7.571045</td>\n",
       "      <td>-1.735626</td>\n",
       "    </tr>\n",
       "    <tr>\n",
       "      <td>287</td>\n",
       "      <td>1600</td>\n",
       "      <td>A</td>\n",
       "      <td>1970-01-03 22:03:42.118420721+00:00</td>\n",
       "      <td>-1.213669</td>\n",
       "      <td>-7.570648</td>\n",
       "      <td>-0.835968</td>\n",
       "    </tr>\n",
       "    <tr>\n",
       "      <td>408</td>\n",
       "      <td>1600</td>\n",
       "      <td>A</td>\n",
       "      <td>1970-01-03 22:03:48.211246563+00:00</td>\n",
       "      <td>-0.835831</td>\n",
       "      <td>-7.429840</td>\n",
       "      <td>-1.566391</td>\n",
       "    </tr>\n",
       "    <tr>\n",
       "      <td>...</td>\n",
       "      <td>...</td>\n",
       "      <td>...</td>\n",
       "      <td>...</td>\n",
       "      <td>...</td>\n",
       "      <td>...</td>\n",
       "      <td>...</td>\n",
       "    </tr>\n",
       "    <tr>\n",
       "      <td>2890</td>\n",
       "      <td>1600</td>\n",
       "      <td>A</td>\n",
       "      <td>1970-01-03 22:05:53.189886795+00:00</td>\n",
       "      <td>-3.262238</td>\n",
       "      <td>10.316971</td>\n",
       "      <td>1.221466</td>\n",
       "    </tr>\n",
       "    <tr>\n",
       "      <td>971</td>\n",
       "      <td>1600</td>\n",
       "      <td>A</td>\n",
       "      <td>1970-01-03 22:04:16.560547824+00:00</td>\n",
       "      <td>-5.989212</td>\n",
       "      <td>10.449936</td>\n",
       "      <td>6.581345</td>\n",
       "    </tr>\n",
       "    <tr>\n",
       "      <td>1638</td>\n",
       "      <td>1600</td>\n",
       "      <td>A</td>\n",
       "      <td>1970-01-03 22:04:50.146667980+00:00</td>\n",
       "      <td>-1.816086</td>\n",
       "      <td>10.619064</td>\n",
       "      <td>3.497986</td>\n",
       "    </tr>\n",
       "    <tr>\n",
       "      <td>2912</td>\n",
       "      <td>1600</td>\n",
       "      <td>A</td>\n",
       "      <td>1970-01-03 22:05:54.297674881+00:00</td>\n",
       "      <td>0.173492</td>\n",
       "      <td>10.664429</td>\n",
       "      <td>-1.734695</td>\n",
       "    </tr>\n",
       "    <tr>\n",
       "      <td>3333</td>\n",
       "      <td>1600</td>\n",
       "      <td>A</td>\n",
       "      <td>1970-01-03 22:06:15.496728336+00:00</td>\n",
       "      <td>-5.363693</td>\n",
       "      <td>10.701019</td>\n",
       "      <td>5.789764</td>\n",
       "    </tr>\n",
       "  </tbody>\n",
       "</table>\n",
       "<p>3574 rows × 6 columns</p>\n",
       "</div>"
      ],
      "text/plain": [
       "      subject_id activity_code                           timestamp         x  \\\n",
       "689         1600             A 1970-01-03 22:04:02.360736882+00:00 -2.073883   \n",
       "1207        1600             A 1970-01-03 22:04:28.444107868+00:00 -0.152618   \n",
       "1553        1600             A 1970-01-03 22:04:45.866598547+00:00 -3.946213   \n",
       "287         1600             A 1970-01-03 22:03:42.118420721+00:00 -1.213669   \n",
       "408         1600             A 1970-01-03 22:03:48.211246563+00:00 -0.835831   \n",
       "...          ...           ...                                 ...       ...   \n",
       "2890        1600             A 1970-01-03 22:05:53.189886795+00:00 -3.262238   \n",
       "971         1600             A 1970-01-03 22:04:16.560547824+00:00 -5.989212   \n",
       "1638        1600             A 1970-01-03 22:04:50.146667980+00:00 -1.816086   \n",
       "2912        1600             A 1970-01-03 22:05:54.297674881+00:00  0.173492   \n",
       "3333        1600             A 1970-01-03 22:06:15.496728336+00:00 -5.363693   \n",
       "\n",
       "              y         z  \n",
       "689   -7.831177 -0.571075  \n",
       "1207  -7.586121 -1.677689  \n",
       "1553  -7.571045 -1.735626  \n",
       "287   -7.570648 -0.835968  \n",
       "408   -7.429840 -1.566391  \n",
       "...         ...       ...  \n",
       "2890  10.316971  1.221466  \n",
       "971   10.449936  6.581345  \n",
       "1638  10.619064  3.497986  \n",
       "2912  10.664429 -1.734695  \n",
       "3333  10.701019  5.789764  \n",
       "\n",
       "[3574 rows x 6 columns]"
      ]
     },
     "metadata": {},
     "output_type": "display_data"
    },
    {
     "name": "stdout",
     "output_type": "stream",
     "text": [
      "\n",
      ">   Mean Values after Tare\n"
     ]
    },
    {
     "data": {
      "text/html": [
       "<div>\n",
       "<style scoped>\n",
       "    .dataframe tbody tr th:only-of-type {\n",
       "        vertical-align: middle;\n",
       "    }\n",
       "\n",
       "    .dataframe tbody tr th {\n",
       "        vertical-align: top;\n",
       "    }\n",
       "\n",
       "    .dataframe thead th {\n",
       "        text-align: right;\n",
       "    }\n",
       "</style>\n",
       "<table border=\"1\" class=\"dataframe\">\n",
       "  <thead>\n",
       "    <tr style=\"text-align: right;\">\n",
       "      <th></th>\n",
       "      <th>subject_id</th>\n",
       "      <th>x</th>\n",
       "      <th>y</th>\n",
       "      <th>z</th>\n",
       "    </tr>\n",
       "  </thead>\n",
       "  <tbody>\n",
       "    <tr>\n",
       "      <td>0</td>\n",
       "      <td>1600.0</td>\n",
       "      <td>-1.493528</td>\n",
       "      <td>0.757595</td>\n",
       "      <td>-0.63885</td>\n",
       "    </tr>\n",
       "  </tbody>\n",
       "</table>\n",
       "</div>"
      ],
      "text/plain": [
       "   subject_id         x         y        z\n",
       "0      1600.0 -1.493528  0.757595 -0.63885"
      ]
     },
     "metadata": {},
     "output_type": "display_data"
    },
    {
     "name": "stdout",
     "output_type": "stream",
     "text": [
      "\n",
      ">>>\n",
      ">>> Tare to mean <<<\n",
      ">>>\n"
     ]
    },
    {
     "data": {
      "text/html": [
       "<div>\n",
       "<style scoped>\n",
       "    .dataframe tbody tr th:only-of-type {\n",
       "        vertical-align: middle;\n",
       "    }\n",
       "\n",
       "    .dataframe tbody tr th {\n",
       "        vertical-align: top;\n",
       "    }\n",
       "\n",
       "    .dataframe thead th {\n",
       "        text-align: right;\n",
       "    }\n",
       "</style>\n",
       "<table border=\"1\" class=\"dataframe\">\n",
       "  <thead>\n",
       "    <tr style=\"text-align: right;\">\n",
       "      <th></th>\n",
       "      <th>subject_id</th>\n",
       "      <th>activity_code</th>\n",
       "      <th>timestamp</th>\n",
       "      <th>x</th>\n",
       "      <th>y</th>\n",
       "      <th>z</th>\n",
       "    </tr>\n",
       "  </thead>\n",
       "  <tbody>\n",
       "    <tr>\n",
       "      <td>689</td>\n",
       "      <td>1600</td>\n",
       "      <td>A</td>\n",
       "      <td>1970-01-03 22:04:02.360736882+00:00</td>\n",
       "      <td>-0.580355</td>\n",
       "      <td>-8.588772</td>\n",
       "      <td>0.067775</td>\n",
       "    </tr>\n",
       "    <tr>\n",
       "      <td>1207</td>\n",
       "      <td>1600</td>\n",
       "      <td>A</td>\n",
       "      <td>1970-01-03 22:04:28.444107868+00:00</td>\n",
       "      <td>1.340909</td>\n",
       "      <td>-8.343716</td>\n",
       "      <td>-1.038838</td>\n",
       "    </tr>\n",
       "    <tr>\n",
       "      <td>1553</td>\n",
       "      <td>1600</td>\n",
       "      <td>A</td>\n",
       "      <td>1970-01-03 22:04:45.866598547+00:00</td>\n",
       "      <td>-2.452685</td>\n",
       "      <td>-8.328640</td>\n",
       "      <td>-1.096776</td>\n",
       "    </tr>\n",
       "    <tr>\n",
       "      <td>287</td>\n",
       "      <td>1600</td>\n",
       "      <td>A</td>\n",
       "      <td>1970-01-03 22:03:42.118420721+00:00</td>\n",
       "      <td>0.279859</td>\n",
       "      <td>-8.328244</td>\n",
       "      <td>-0.197118</td>\n",
       "    </tr>\n",
       "    <tr>\n",
       "      <td>408</td>\n",
       "      <td>1600</td>\n",
       "      <td>A</td>\n",
       "      <td>1970-01-03 22:03:48.211246563+00:00</td>\n",
       "      <td>0.657697</td>\n",
       "      <td>-8.187435</td>\n",
       "      <td>-0.927541</td>\n",
       "    </tr>\n",
       "    <tr>\n",
       "      <td>...</td>\n",
       "      <td>...</td>\n",
       "      <td>...</td>\n",
       "      <td>...</td>\n",
       "      <td>...</td>\n",
       "      <td>...</td>\n",
       "      <td>...</td>\n",
       "    </tr>\n",
       "    <tr>\n",
       "      <td>2890</td>\n",
       "      <td>1600</td>\n",
       "      <td>A</td>\n",
       "      <td>1970-01-03 22:05:53.189886795+00:00</td>\n",
       "      <td>-1.768710</td>\n",
       "      <td>9.559376</td>\n",
       "      <td>1.860317</td>\n",
       "    </tr>\n",
       "    <tr>\n",
       "      <td>971</td>\n",
       "      <td>1600</td>\n",
       "      <td>A</td>\n",
       "      <td>1970-01-03 22:04:16.560547824+00:00</td>\n",
       "      <td>-4.495684</td>\n",
       "      <td>9.692341</td>\n",
       "      <td>7.220195</td>\n",
       "    </tr>\n",
       "    <tr>\n",
       "      <td>1638</td>\n",
       "      <td>1600</td>\n",
       "      <td>A</td>\n",
       "      <td>1970-01-03 22:04:50.146667980+00:00</td>\n",
       "      <td>-0.322558</td>\n",
       "      <td>9.861469</td>\n",
       "      <td>4.136836</td>\n",
       "    </tr>\n",
       "    <tr>\n",
       "      <td>2912</td>\n",
       "      <td>1600</td>\n",
       "      <td>A</td>\n",
       "      <td>1970-01-03 22:05:54.297674881+00:00</td>\n",
       "      <td>1.667020</td>\n",
       "      <td>9.906834</td>\n",
       "      <td>-1.095845</td>\n",
       "    </tr>\n",
       "    <tr>\n",
       "      <td>3333</td>\n",
       "      <td>1600</td>\n",
       "      <td>A</td>\n",
       "      <td>1970-01-03 22:06:15.496728336+00:00</td>\n",
       "      <td>-3.870166</td>\n",
       "      <td>9.943424</td>\n",
       "      <td>6.428615</td>\n",
       "    </tr>\n",
       "  </tbody>\n",
       "</table>\n",
       "<p>3574 rows × 6 columns</p>\n",
       "</div>"
      ],
      "text/plain": [
       "      subject_id activity_code                           timestamp         x  \\\n",
       "689         1600             A 1970-01-03 22:04:02.360736882+00:00 -0.580355   \n",
       "1207        1600             A 1970-01-03 22:04:28.444107868+00:00  1.340909   \n",
       "1553        1600             A 1970-01-03 22:04:45.866598547+00:00 -2.452685   \n",
       "287         1600             A 1970-01-03 22:03:42.118420721+00:00  0.279859   \n",
       "408         1600             A 1970-01-03 22:03:48.211246563+00:00  0.657697   \n",
       "...          ...           ...                                 ...       ...   \n",
       "2890        1600             A 1970-01-03 22:05:53.189886795+00:00 -1.768710   \n",
       "971         1600             A 1970-01-03 22:04:16.560547824+00:00 -4.495684   \n",
       "1638        1600             A 1970-01-03 22:04:50.146667980+00:00 -0.322558   \n",
       "2912        1600             A 1970-01-03 22:05:54.297674881+00:00  1.667020   \n",
       "3333        1600             A 1970-01-03 22:06:15.496728336+00:00 -3.870166   \n",
       "\n",
       "             y         z  \n",
       "689  -8.588772  0.067775  \n",
       "1207 -8.343716 -1.038838  \n",
       "1553 -8.328640 -1.096776  \n",
       "287  -8.328244 -0.197118  \n",
       "408  -8.187435 -0.927541  \n",
       "...        ...       ...  \n",
       "2890  9.559376  1.860317  \n",
       "971   9.692341  7.220195  \n",
       "1638  9.861469  4.136836  \n",
       "2912  9.906834 -1.095845  \n",
       "3333  9.943424  6.428615  \n",
       "\n",
       "[3574 rows x 6 columns]"
      ]
     },
     "metadata": {},
     "output_type": "display_data"
    },
    {
     "name": "stdout",
     "output_type": "stream",
     "text": [
      "\n",
      ">   Mean Values after Tare\n"
     ]
    },
    {
     "data": {
      "text/html": [
       "<div>\n",
       "<style scoped>\n",
       "    .dataframe tbody tr th:only-of-type {\n",
       "        vertical-align: middle;\n",
       "    }\n",
       "\n",
       "    .dataframe tbody tr th {\n",
       "        vertical-align: top;\n",
       "    }\n",
       "\n",
       "    .dataframe thead th {\n",
       "        text-align: right;\n",
       "    }\n",
       "</style>\n",
       "<table border=\"1\" class=\"dataframe\">\n",
       "  <thead>\n",
       "    <tr style=\"text-align: right;\">\n",
       "      <th></th>\n",
       "      <th>subject_id</th>\n",
       "      <th>x</th>\n",
       "      <th>y</th>\n",
       "      <th>z</th>\n",
       "    </tr>\n",
       "  </thead>\n",
       "  <tbody>\n",
       "    <tr>\n",
       "      <td>0</td>\n",
       "      <td>1600.0</td>\n",
       "      <td>-0.0</td>\n",
       "      <td>0.0</td>\n",
       "      <td>0.0</td>\n",
       "    </tr>\n",
       "  </tbody>\n",
       "</table>\n",
       "</div>"
      ],
      "text/plain": [
       "   subject_id    x    y    z\n",
       "0      1600.0 -0.0  0.0  0.0"
      ]
     },
     "metadata": {},
     "output_type": "display_data"
    }
   ],
   "source": [
    "df = dfs.get('phone_accel').groupby(['subject_id', 'activity_code'])\n",
    "df_sub = df.get_group((1600, 'A'))\n",
    "\n",
    "for name, fn in [('standardize_to_origin', tastandardizeo_origin), ('standardize_to_mean', standardize_to_mean)]:\n",
    "    df_sub_adj = fn(df_sub)\n",
    "    # display(df_sub_adj.nlargest(5, columns='y').append(df_sub_adj.nsmallest(5, columns='y')))\n",
    "    print('\\n>>>\\n>>> ' + name.replace('_', ' ').capitalize() + ' <<<\\n>>>')\n",
    "    display(df_sub_adj.sort_values(by='y'))\n",
    "    print('\\n>   Mean Values after Tare')\n",
    "    display(pd.DataFrame(np.round(df_sub_adj.mean(), decimals=6)).T)\n",
    "\n",
    "# df_sub_adj = tare_to_mean(df_sub)\n",
    "# # display(df_sub_adj.nlargest(5, columns='y').append(df_sub_adj.nsmallest(5, columns='y')))\n",
    "# display(df_sub_adj.sort_values(by='y'))\n",
    "# display(pd.DataFrame(np.round(df_sub_adj.mean(), decimals=5)))"
   ]
  },
  {
   "cell_type": "markdown",
   "metadata": {},
   "source": [
    "### Note\n",
    "$y$ should be nearly $0$ with gravity taken into account. `Tare To Mean` works well."
   ]
  },
  {
   "cell_type": "markdown",
   "metadata": {},
   "source": [
    "## Coordinate Summation\n",
    "If acceleration data is treaded as *instantaneous* acceleration ($\\bf{a}$), taking the cumulative sum as a *knockoff* version of an integral over $\\bf{a}$ gives us a velocity ($\\bf{v}$).\n",
    "\n",
    "This is probably better stated, informally speaking, as a *pseudo*-velocity. \n",
    "\n",
    "**NOTE**: Technically, this should be divided by the frame rate (~25fps). For exploratory purposes, this probably isn't necessary to get the gist of the space."
   ]
  },
  {
   "cell_type": "code",
   "execution_count": 109,
   "metadata": {},
   "outputs": [],
   "source": [
    "def coord_summation(df_, combine=False):\n",
    "    \"\"\" For cumulatively sum coordinate vectors across time\"\"\"\n",
    "    return df_.assign(**{'{}{}'.format(col, '_sum' if combine else ''): vals.cumsum(axis=0) for col, vals in df_[['x', 'y', 'z']].items()})"
   ]
  },
  {
   "cell_type": "code",
   "execution_count": null,
   "metadata": {},
   "outputs": [],
   "source": [
    "df_sub_adj = standardize_to_mean(df_sub)\n",
    "df_sub_sum = coord_summation(df_sub_adj)\n",
    "df_sub_samp = df_sub_adj.iloc[:1000]\n",
    "df_sub_sum = df_sub_sum.iloc[:1000]\n",
    "\n",
    "# display({col: df_sub_sum[['x', 'y', 'z']].cumsum(axis=0) for col, vals in df_sub_sum[['x', 'y', 'z']].items()})"
   ]
  },
  {
   "cell_type": "code",
   "execution_count": null,
   "metadata": {},
   "outputs": [],
   "source": [
    "mins = df_sub_sum[['x','y','z']].aggregate('min')\n",
    "maxs = df_sub_sum[['x','y','z']].aggregate('max')\n",
    "\n",
    "mins.name = 'minimums'\n",
    "maxs.name = 'maximums'\n",
    "\n",
    "display(mins)\n",
    "display(maxs)\n",
    "\n",
    "total_min = mins.min()\n",
    "total_max = maxs.max()\n",
    "\n",
    "abs_minmax = np.max(np.abs([total_min, total_max]))\n",
    "\n",
    "print()\n",
    "print('Total Minimum: {:.04f}'.format(total_min))\n",
    "print('Total Maximum: {:.04f}'.format(total_max))\n",
    "print('Absolute MinMax: {:.04f}'.format(abs_minmax))"
   ]
  },
  {
   "cell_type": "code",
   "execution_count": 7,
   "metadata": {},
   "outputs": [],
   "source": [
    "def get_abs_minmax(df_):\n",
    "    total_min = df_[['x','y','z']].aggregate('min').min()\n",
    "    total_max = df_[['x','y','z']].aggregate('max').max()\n",
    "    return np.max(np.abs([total_min, total_max]))"
   ]
  },
  {
   "cell_type": "markdown",
   "metadata": {},
   "source": [
    "# Acceleration Analysis\n",
    "\n",
    "> in $m/s^2$\n"
   ]
  },
  {
   "cell_type": "code",
   "execution_count": 8,
   "metadata": {},
   "outputs": [
    {
     "data": {
      "application/vnd.jupyter.widget-view+json": {
       "model_id": "",
       "version_major": 2,
       "version_minor": 0
      },
      "text/plain": [
       "Canvas(toolbar=Toolbar(toolitems=[('Home', 'Reset original view', 'home', 'home'), ('Back', 'Back to previous …"
      ]
     },
     "metadata": {},
     "output_type": "display_data"
    }
   ],
   "source": [
    "release_plt_mem()\n",
    "\n",
    "df_sub_sum = coord_summation(df_sub_adj)\n",
    "df_sub_samp = df_sub_adj.iloc[:1000]\n",
    "df_sub_sum = df_sub_sum.iloc[:1000]\n",
    "\n",
    "abs_minmax = get_abs_minmax(df_sub_sum) + 100\n",
    "\n",
    "\"\"\" Start Plot \"\"\"\n",
    "fig, axs = plt.subplots(3,1,sharex=True)\n",
    "fig.suptitle('Phone Accelerometer for Subject #1600 - Walking')\n",
    "ax_vert, ax_lng, ax_lat = axs\n",
    "\n",
    "ax_vert.plot(df_sub_samp['timestamp'], df_sub_sum['y'])\n",
    "ax_lng.plot(df_sub_samp['timestamp'], df_sub_sum['x'])\n",
    "ax_lat.plot(df_sub_samp['timestamp'], df_sub_sum['z'])\n",
    "\n",
    "for ax in axs:\n",
    "    ax.set_ylim(-(abs_minmax), abs_minmax)\n",
    "\n",
    "ax_vert.set_ylabel('Y (Vertical Axis)')\n",
    "ax_lng.set_ylabel('X (Longitudnal Axis)')\n",
    "ax_lat.set_ylabel('Z (lateral Axis)')\n",
    "\n",
    "ax_vert.grid()\n",
    "ax_lng.grid()\n",
    "ax_lat.grid()\n",
    "\n",
    "ax_lat.set_xlabel('Time')\n",
    "\n",
    "fig.canvas.layout.width = '1600px'\n",
    "fig.canvas.layout.height = '1200px'\n",
    "\n",
    "plt.show()"
   ]
  },
  {
   "cell_type": "code",
   "execution_count": 23,
   "metadata": {},
   "outputs": [
    {
     "data": {
      "text/plain": [
       "1037.0013180442156"
      ]
     },
     "execution_count": 23,
     "metadata": {},
     "output_type": "execute_result"
    }
   ],
   "source": [
    "df = dfs.get('phone_accel')\n",
    "df = df[(df['subject_id'] == 1600)]\n",
    "\n",
    "def get_abs_subject_max(df_):\n",
    "    return np.max([get_abs_minmax(coord_summation(standardize_$1(df_[(df_['activity_code'] == key)]))[['x', 'y', 'z']]) for key, activity in activity_key.items()])\n",
    "\n",
    "get_abs_subject_max(df)"
   ]
  },
  {
   "cell_type": "code",
   "execution_count": 40,
   "metadata": {},
   "outputs": [],
   "source": [
    "from mpl_toolkits.mplot3d import Axes3D\n",
    "\n",
    "def plot_activity_accel_over_time(df_, subject_id=1600, release_mem=False):\n",
    "    if release_mem:\n",
    "        release_plt_mem()\n",
    "    df_subject = df_[(df_['subject_id']==subject_id)]\n",
    "\n",
    "    fig_ = plt.figure()\n",
    "    ax = fig_.add_subplot(111, projection='3d')\n",
    "\n",
    "    subject_abs_max = get_abs_subject_max(df_subject)\n",
    "\n",
    "    for key, activity in activity_key.items():\n",
    "        df_subject_activity = standardize_$1(df_subject[(df_subject['activity_code']==key)][['x', 'y', 'z']])\n",
    "        df_subject_sum = coord_summation(df_subject_activity)\n",
    "\n",
    "        ax.plot(df_subject_sum['x'], df_subject_sum['z'], df_subject_sum['y'], label=activity)\n",
    "\n",
    "        ax.set_xlabel('Longitudnal')\n",
    "        ax.set_ylabel('Lateral')\n",
    "        ax.set_zlabel('Vertical')\n",
    "\n",
    "        ax.set_xlim(-subject_abs_max, subject_abs_max)\n",
    "        ax.set_ylim(-subject_abs_max, subject_abs_max)\n",
    "        ax.set_zlim(-subject_abs_max, subject_abs_max)\n",
    "\n",
    "    fig_.legend(title='Activity')\n",
    "    fig_.suptitle('Subject #1600\\'s Summed Acceleration per Activity in 3D-Space Over Time.')\n",
    "    \n",
    "    return fig_"
   ]
  },
  {
   "cell_type": "code",
   "execution_count": 40,
   "metadata": {},
   "outputs": [
    {
     "data": {
      "application/vnd.jupyter.widget-view+json": {
       "model_id": "",
       "version_major": 2,
       "version_minor": 0
      },
      "text/plain": [
       "Canvas(toolbar=Toolbar(toolitems=[('Home', 'Reset original view', 'home', 'home'), ('Back', 'Back to previous …"
      ]
     },
     "metadata": {},
     "output_type": "display_data"
    }
   ],
   "source": [
    "fig = plot_activity_accel_over_time(dfs.get('phone_accel'), 1600)\n",
    "fig.canvas.layout.width = '1200px'\n",
    "fig.canvas.layout.height = '1200px'\n",
    "\n",
    "fig.show()"
   ]
  },
  {
   "cell_type": "code",
   "execution_count": 41,
   "metadata": {},
   "outputs": [
    {
     "data": {
      "application/vnd.jupyter.widget-view+json": {
       "model_id": "",
       "version_major": 2,
       "version_minor": 0
      },
      "text/plain": [
       "Canvas(toolbar=Toolbar(toolitems=[('Home', 'Reset original view', 'home', 'home'), ('Back', 'Back to previous …"
      ]
     },
     "metadata": {},
     "output_type": "display_data"
    }
   ],
   "source": [
    "fig = plot_activity_accel_over_time(dfs.get('watch_accel'), subject_id=1620)\n",
    "\n",
    "fig.canvas.layout.width = '1200px'\n",
    "fig.canvas.layout.height = '1200px'\n",
    "\n",
    "fig.show()"
   ]
  },
  {
   "cell_type": "markdown",
   "metadata": {},
   "source": [
    "# Gyroscopic Analysis\n",
    "\n",
    ">(for) the gyroscope sensor, the units are $\\theta/s$\n",
    "\n",
    "Not sure about this wrt this data:\n",
    "\n",
    "| Axis | Envelope |\n",
    "|:-:|:-:|\n",
    "|x|roll|\n",
    "|y|pitch|\n",
    "|z|yaw|\n",
    "\n",
    "**NOTE**: It is unclear if these data run into gimble-lock situations. Given the activity domain, it is doubtful this would be an issue."
   ]
  },
  {
   "cell_type": "code",
   "execution_count": 159,
   "metadata": {},
   "outputs": [
    {
     "data": {
      "application/vnd.jupyter.widget-view+json": {
       "model_id": "",
       "version_major": 2,
       "version_minor": 0
      },
      "text/plain": [
       "Canvas(toolbar=Toolbar(toolitems=[('Home', 'Reset original view', 'home', 'home'), ('Back', 'Back to previous …"
      ]
     },
     "metadata": {},
     "output_type": "display_data"
    }
   ],
   "source": [
    "df_watch_gyro = dfs.get('watch_gyro')\n",
    "df_phone_gyro = dfs.get('phone_gyro')\n",
    "\n",
    "subject = 1650\n",
    "\n",
    "df_watch_gyro = df_watch_gyro[df_watch_gyro['subject_id'] == subject]\n",
    "df_phone_gyro = df_phone_gyro[df_phone_gyro['subject_id'] == subject]\n",
    "\n",
    "max_frames = 200\n",
    "\n",
    "# display(df_watch_gyro.head())\n",
    "release_plt_mem()\n",
    "# https://matplotlib.org/3.1.1/api/_as_gen/matplotlib.pyplot.subplots.html?highlight=subplots#matplotlib.pyplot.subplots\n",
    "fig, axs = plt.subplots(1,2, subplot_kw=dict(polar=True))\n",
    "\n",
    "ax_watch, ax_phone = axs\n",
    "\n",
    "#\n",
    "# Watch\n",
    "#\n",
    "\n",
    "# Activity D: Sitting\n",
    "df = standardize_$1(df_watch_gyro[df_watch_gyro['activity_code']=='D'].iloc[:max_frames])\n",
    "ax_watch.plot(df.index, df['x'], label=activity_key.get('D'))\n",
    "\n",
    "# Activity Q: Writing\n",
    "df = standardize_$1(df_watch_gyro[df_watch_gyro['activity_code']=='Q'].iloc[:max_frames])\n",
    "ax_watch.plot(df.index, df['x'], label=activity_key.get('Q'))\n",
    "\n",
    "#\n",
    "# Phone\n",
    "#\n",
    "\n",
    "# Activity D: Sitting\n",
    "df = standardize_$1(df_phone_gyro[df_phone_gyro['activity_code']=='D'].iloc[:max_frames])\n",
    "ax_phone.plot(df.index, df['x'], label=activity_key.get('D'))\n",
    "\n",
    "# Activity Q: Writing\n",
    "df = standardize_$1(df_phone_gyro[df_phone_gyro['activity_code']=='Q'].iloc[:max_frames])\n",
    "ax_phone.plot(df.index, df['x'], label=activity_key.get('Q'))\n",
    "\n",
    "\n",
    "for ax in axs:\n",
    "    ax.set_rlim(ax.get_rmin(), 8)\n",
    "    ax.set_xlabel('Gyroscope Rotation (in radians)')\n",
    "    ax.text(np.radians(ax.get_rlabel_position()+10), ax.get_rmax() - 2, 'Time', rotation=ax.get_rlabel_position() + 5, ha='center',va='center')\n",
    "\n",
    "fig.legend(title='Activity')    \n",
    "fig.canvas.layout.width = '1200px'\n",
    "fig.canvas.layout.height = '1200px'\n",
    "\n",
    "fig.show()"
   ]
  },
  {
   "cell_type": "code",
   "execution_count": 164,
   "metadata": {},
   "outputs": [
    {
     "data": {
      "application/vnd.jupyter.widget-view+json": {
       "model_id": "f35f090330d54b04b420be5b4f4bde7e",
       "version_major": 2,
       "version_minor": 0
      },
      "text/plain": [
       "Canvas(toolbar=Toolbar(toolitems=[('Home', 'Reset original view', 'home', 'home'), ('Back', 'Back to previous …"
      ]
     },
     "metadata": {},
     "output_type": "display_data"
    }
   ],
   "source": [
    "df_watch_gyro = dfs.get('watch_gyro')\n",
    "df_phone_gyro = dfs.get('phone_gyro')\n",
    "\n",
    "subject = 1650\n",
    "\n",
    "df_watch_gyro = df_watch_gyro[df_watch_gyro['subject_id'] == subject]\n",
    "df_phone_gyro = df_phone_gyro[df_phone_gyro['subject_id'] == subject]\n",
    "\n",
    "\n",
    "# display(df_watch_gyro.head())\n",
    "release_plt_mem()\n",
    "# https://matplotlib.org/3.1.1/api/_as_gen/matplotlib.pyplot.subplots.html?highlight=subplots#matplotlib.pyplot.subplots\n",
    "fig, axs = plt.subplots(2,1)\n",
    "\n",
    "ax_watch, ax_phone = axs\n",
    "\n",
    "#\n",
    "# Watch\n",
    "#\n",
    "\n",
    "# Watch Activity A: Walking\n",
    "df = coord_summation(standardize_$1(df_watch_gyro[df_watch_gyro['activity_code']=='A'].reset_index(drop=True)))\n",
    "ax_watch.plot(df['x'].index, df['x'], label='{}'.format(activity_key.get('A')))\n",
    "\n",
    "# Watch Activity D: Sitting\n",
    "df = coord_summation(standardize_$1(df_watch_gyro[df_watch_gyro['activity_code']=='D'].reset_index(drop=True)))\n",
    "ax_watch.plot(df['x'].index, df['x'], label='{}'.format(activity_key.get('D')))\n",
    "\n",
    "# watch Activity Q: Writing\n",
    "df = coord_summation(standardize_$1(df_watch_gyro[df_watch_gyro['activity_code']=='Q'].reset_index(drop=True)))\n",
    "ax_watch.plot(df['x'].index, df['x'], label='{}'.format(activity_key.get('Q')))\n",
    "ax_watch.set_title('Watch Gyroscope')\n",
    "\n",
    "#\n",
    "# Phone\n",
    "#\n",
    "\n",
    "# Phone Activity A: Walking\n",
    "df = coord_summation(standardize_$1(df_phone_gyro[df_phone_gyro['activity_code']=='A'].reset_index(drop=True)))\n",
    "ax_phone.plot(df['x'].index, df['x'], label='{}'.format(activity_key.get('A')))\n",
    "\n",
    "# Phone Activity D: Sitting\n",
    "df = coord_summation(standardize_$1(df_phone_gyro[df_phone_gyro['activity_code']=='D'].reset_index(drop=True)))\n",
    "ax_phone.plot(df['x'].index, df['x'], label='{}'.format(activity_key.get('D')))\n",
    "\n",
    "# watch Activity Q: Writing\n",
    "df = coord_summation(standardize_$1(df_phone_gyro[df_phone_gyro['activity_code']=='Q'].reset_index(drop=True)))\n",
    "ax_phone.plot(df['x'].index, df['x'], label='{}'.format(activity_key.get('Q')))\n",
    "ax_phone.set_title('Phone Gyroscope')\n",
    "\n",
    "for ax in axs:\n",
    "    ax.grid()\n",
    "    ax.set_xlabel('Time')\n",
    "    ax.set_ylabel('Cumulative Radians per Second')\n",
    "    ax.legend()\n",
    "\n",
    "   \n",
    "fig.canvas.layout.width = '1200px'\n",
    "fig.canvas.layout.height = '1200px'\n",
    "\n",
    "fig.show()"
   ]
  },
  {
   "cell_type": "code",
   "execution_count": 217,
   "metadata": {},
   "outputs": [
    {
     "data": {
      "text/plain": [
       "{1600}"
      ]
     },
     "metadata": {},
     "output_type": "display_data"
    }
   ],
   "source": [
    "df_watch_accel = dfs.get('watch_accel')\n",
    "df_phone_accel = dfs.get('phone_accel')\n",
    "\n",
    "# display(len(set(df_watch_accel['activity_code'])))\n",
    "display((set(df_phone_accel['subject_id'])))\n",
    "\n",
    "# subject = 1650\n",
    "# activity_code = 'A'\n",
    "\n",
    "# df_watch_accel = coord_summation(standardize_$1(df_watch_accel[(df_watch_accel['subject_id'] == subject) & (df_watch_accel['activity_code'] == activity_code)]), True).reset_index(drop=True)\n",
    "# df_phone_accel = coord_summation(standardize_$1(df_phone_accel[(df_phone_accel['subject_id'] == subject) & (df_phone_accel['activity_code'] == activity_code)]), True).reset_index(drop=True)\n",
    "\n",
    "# display(df_watch_accel)\n",
    "# display(df_phone_accel)\n",
    "\n",
    "# fig, axs = plt.subplots(1,1)\n",
    "# ax1 = axs\n",
    "\n",
    "# ax1.plot(df_watch_accel['y_sum'])\n",
    "# ax1.plot(df_phone_accel['y_sum'])\n",
    "\n",
    "# fig.show()"
   ]
  },
  {
   "cell_type": "markdown",
   "metadata": {},
   "source": [
    "### Gyroscope + Accelerometer\n",
    "To get the actual heading of the device, the coordinates need to be rotated. A rotation matrix might be of use (taken from [Wolfram-Alpha - Rotation Matrix](http://mathworld.wolfram.com/RotationMatrix.html))\n",
    "<br/><br/>\n",
    "Rotation around the x-axis, where $\\alpha = \\text{x_gyro}$:\n",
    "$$\n",
    "R_x(\\alpha) = \n",
    "\\begin{bmatrix}\n",
    "    1 & 0 & 0 \\\\\n",
    "    0 & cos\\;\\alpha & -sin\\;\\alpha \\\\\n",
    "    0 & sin\\;\\alpha & cos\\;\\alpha \\\\\n",
    "\\end{bmatrix}\n",
    "\\\\[2em]\n",
    "$$\n",
    "Rotation around the y-axis, where $\\beta = \\text{y_gyro}$:\n",
    "$$\n",
    "R_y(\\beta) = \\begin{bmatrix}\n",
    "cos\\;\\beta & 0 & sin\\;\\beta \\\\\n",
    "0 & 1 & 0 \\\\\n",
    "-sin\\;\\beta & 0 & cos\\;\\beta \\\\\n",
    "\\end{bmatrix}\n",
    "\\\\[2em]\n",
    "$$\n",
    "Rotation around the z-axis, where $\\gamma = \\text{z_gyro}$\n",
    "$$\n",
    "R_z(\\gamma) = \\begin{bmatrix}\n",
    "cos\\;\\gamma & -sin\\;\\gamma & 0 \\\\\n",
    "sin\\;\\gamma & cos\\;\\gamma & 0 \\\\\n",
    "0 & 1 & 0 \\\\\n",
    "\\end{bmatrix}\n",
    "$$\n",
    "\n",
    "These can be combined to create ... (more to come)"
   ]
  }
 ],
 "metadata": {
  "kernelspec": {
   "display_name": "dataviz",
   "language": "python",
   "name": "dataviz"
  },
  "language_info": {
   "codemirror_mode": {
    "name": "ipython",
    "version": 3
   },
   "file_extension": ".py",
   "mimetype": "text/x-python",
   "name": "python",
   "nbconvert_exporter": "python",
   "pygments_lexer": "ipython3",
   "version": "3.7.5"
  }
 },
 "nbformat": 4,
 "nbformat_minor": 4
}
