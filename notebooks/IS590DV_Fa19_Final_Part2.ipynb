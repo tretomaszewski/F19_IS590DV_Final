{
 "cells": [
  {
   "cell_type": "markdown",
   "metadata": {},
   "source": [
    "# TEAM NAME - Final Project for Data Visualization (IS590DV Fall 2019)\n",
    "by Dhwani Parekh, Wenyi Shang, Akshat Sharma, Anirudh Sharma, Tre Tomaszewski\n",
    "\n",
    "## [WISDM Smartphone and Smartwatch Activity and Biometrics Dataset Data Set](https://archive.ics.uci.edu/ml/datasets/WISDM+Smartphone+and+Smartwatch+Activity+and+Biometrics+Dataset+)\n",
    "\n",
    "From\n",
    "> Smartphone and Smartwatch-Based Biometrics Using Activities of Daily Living. IEEE Access, 7:133190-133202, Sept. 2019.\n",
    "\n",
    "<style>table {margin:0;} </style>\n",
    "\n",
    "| Data File Group | Total Size | Total Files | Instances |\n",
    "|-:|-:|-:|-:|\n",
    "|`Phone/Accel`| 250MB | 51  | 4,804,404 |\n",
    "|`Phone/Gyro` | 205MB | 51  | 3,608,635 |\n",
    "|`Watch/Accel`| 196MB | 51  | 3,777,048 |\n",
    "|`Watch/Gyro` | 190MB | 51  | 3,440,344 |\n",
    "|All          | 1.1GB | 204 | 15,630,426|"
   ]
  },
  {
   "cell_type": "code",
   "execution_count": 1,
   "metadata": {},
   "outputs": [],
   "source": [
    "# I added interact and bqplot for interactions\n",
    "%matplotlib widget\n",
    "from IPython.display import display\n",
    "import ipywidgets as widgets\n",
    "from ipywidgets import interact\n",
    "import traitlets\n",
    "\n",
    "import numpy as np\n",
    "import pandas as pd\n",
    "\n",
    "import matplotlib\n",
    "import matplotlib.pyplot as plt\n",
    "from mpl_toolkits.mplot3d import Axes3D\n",
    "import bqplot\n",
    "\n",
    "# Thanks to `ImportanceOfBeingErnest` from https://stackoverflow.com/questions/47404653/pandas-0-21-0-timestamp-compatibility-issue-with-matplotlib\n",
    "pd.plotting.register_matplotlib_converters()"
   ]
  },
  {
   "cell_type": "code",
   "execution_count": 2,
   "metadata": {},
   "outputs": [],
   "source": [
    "def get_by_subject_id(subject_id):\n",
    "    subject_id = str(subject_id) # force into a string\n",
    "    return {\n",
    "        'phone': pd.read_csv('../data/processed/wisdm/merged_sensors/phone/{}_phone.csv'.format(subject_id)).drop(columns=['timestamp']),#, parse_dates=['timestamp']) The time isn't really needed and adds a lot of loading time\n",
    "        'watch': pd.read_csv('../data/processed/wisdm/merged_sensors/watch/{}_watch.csv'.format(subject_id)).drop(columns=['timestamp'])#, parse_dates=['timestamp'])\n",
    "    }"
   ]
  },
  {
   "cell_type": "code",
   "execution_count": 3,
   "metadata": {},
   "outputs": [
    {
     "data": {
      "application/vnd.jupyter.widget-view+json": {
       "model_id": "4a23ad92e2054453bb13df04bdff11d5",
       "version_major": 2,
       "version_minor": 0
      },
      "text/plain": [
       "interactive(children=(Dropdown(description='Subject_ID', options=('1600', '1601', '1602', '1603', '1604', '160…"
      ]
     },
     "metadata": {},
     "output_type": "display_data"
    }
   ],
   "source": [
    "@interact(Subject_ID = ['1600','1601','1602','1603','1604','1605','1606','1607','1608','1609','1610','1611','1612','1613','1614','1615','1616','1617','1618','1619','1620','1621','1622','1623','1624','1625','1626','1627','1628','1629','1630','1631','1632','1633','1634','1635','1636','1637','1638','1639','1640','1641','1642','1643','1644','1645','1646','1647','1648','1649','1650'])\n",
    "def get_subject(Subject_ID):\n",
    "    ID=Subject_ID\n",
    "    \n",
    "    @interact(Device = ['phone', 'watch'])\n",
    "    def get_device(Device):\n",
    "        device=Device\n",
    "    \n",
    "        @interact(Coordinate = ['x_accel', 'y_accel','z_accel','x_gyro','y_gyro','z_gyro'])\n",
    "        def get_coordinate(Coordinate):\n",
    "            coordinate=Coordinate\n",
    "    \n",
    "            @interact(Aggregate = ['sum', 'mean','max','min','count'])\n",
    "            def change_aggregation(Aggregate):\n",
    "                if Aggregate=='sum':\n",
    "                    y = get_by_subject_id(ID).get(device).groupby('activity_code')[coordinate].sum()\n",
    "                if Aggregate=='mean':\n",
    "                    y = get_by_subject_id(ID).get(device).groupby('activity_code')[coordinate].mean()\n",
    "                if Aggregate=='max':\n",
    "                    y = get_by_subject_id(ID).get(device).groupby('activity_code')[coordinate].max()\n",
    "                if Aggregate=='min':\n",
    "                    y = get_by_subject_id(ID).get(device).groupby('activity_code')[coordinate].min()\n",
    "                if Aggregate=='count':\n",
    "                    y = get_by_subject_id(ID).get(device).groupby('activity_code')[coordinate].count()\n",
    "                bin_x_sc = bqplot.OrdinalScale()\n",
    "                bin_x_ax = bqplot.Axis(scale = bin_x_sc,label='activity code')\n",
    "                bin_y_sc = bqplot.LinearScale()\n",
    "                bin_y_ax = bqplot.Axis(scale = bin_y_sc,orientation='vertical',label='value')\n",
    "                bars = bqplot.Bars(x = y.index,y = y,scales = {'x': bin_x_sc, 'y': bin_y_sc})\n",
    "                fig = bqplot.Figure(marks = [bars], axes = [bin_x_ax, bin_y_ax])\n",
    "                display(fig)"
   ]
  },
  {
   "cell_type": "markdown",
   "metadata": {},
   "source": [
    "# Interactive aggregated/derived data- PART 1\n",
    "Above is an interactive bqplot project to display the aggregated/derived data of the dataset. It allows users to select subject ID (1600-1650), phone vs watch, coordinates (x_accel, y_accel, z_accel, x_gyro, y_gyro, z_gyro), and aggregation type (in total, there are 5 aggregation types: sum, mean, max, min, count). Users can select anything they want a from the four dropdowns, and the results will display with a barplot of the data of every activity correspondingly. By this interactive plot, users can learn about the aggregated results of the dataset."
   ]
  },
  {
   "cell_type": "code",
   "execution_count": 4,
   "metadata": {},
   "outputs": [
    {
     "data": {
      "application/vnd.jupyter.widget-view+json": {
       "model_id": "a7e41ce8ca5c4846bea11a4f9f46397a",
       "version_major": 2,
       "version_minor": 0
      },
      "text/plain": [
       "interactive(children=(Dropdown(description='Subject_ID', options=('1600', '1601', '1602', '1603', '1604', '160…"
      ]
     },
     "metadata": {},
     "output_type": "display_data"
    }
   ],
   "source": [
    "@interact(Subject_ID = ['1600','1601','1602','1603','1604','1605','1606','1607','1608','1609','1610','1611','1612','1613','1614','1615','1616','1617','1618','1619','1620','1621','1622','1623','1624','1625','1626','1627','1628','1629','1630','1631','1632','1633','1634','1635','1636','1637','1638','1639','1640','1641','1642','1643','1644','1645','1646','1647','1648','1649','1650'])\n",
    "def get_subject(Subject_ID):\n",
    "    ID=Subject_ID\n",
    "    \n",
    "    @interact(Activity = ['walking','jogging','stairs','sitting','standing','typing','teeth','soup','chips','pasta','drinking','sandwich','kicking','catch','dribbling','writing','clapping','folding'])\n",
    "    def get_activity(Activity):\n",
    "        if(Activity=='walking'):\n",
    "            activity='A'\n",
    "        if(Activity=='jogging'):\n",
    "            activity='B'\n",
    "        if(Activity=='stairs'):\n",
    "            activity='C'\n",
    "        if(Activity=='sitting'):\n",
    "            activity='D'   \n",
    "        if(Activity=='standing'):\n",
    "            activity='E'\n",
    "        if(Activity=='typing'):\n",
    "            activity='F'\n",
    "        if(Activity=='teeth'):\n",
    "            activity='G'\n",
    "        if(Activity=='soup'):\n",
    "            activity='H'\n",
    "        if(Activity=='chips'):\n",
    "            activity='I'\n",
    "        if(Activity=='pasta'):\n",
    "            activity='J'\n",
    "        if(Activity=='drinking'):\n",
    "            activity='K'\n",
    "        if(Activity=='sandwich'):\n",
    "            activity='L'\n",
    "        if(Activity=='kicking'):\n",
    "            activity='M'   \n",
    "        if(Activity=='catch'):\n",
    "            activity='O'\n",
    "        if(Activity=='dribbling'):\n",
    "            activity='P'\n",
    "        if(Activity=='writing'):\n",
    "            activity='Q'\n",
    "        if(Activity=='clapping'):\n",
    "            activity='R'\n",
    "        if(Activity=='folding'):\n",
    "            activity='S'  \n",
    "        x = get_by_subject_id(ID).get('phone').groupby('activity_code').get_group(activity)[['x_accel','y_accel','z_accel','x_gyro','y_gyro','z_gyro']].cumsum(axis = 0)\n",
    "        fig = plt.figure()\n",
    "        ax = Axes3D(fig)\n",
    "        t=ax.scatter(x['x_accel'],x['y_accel'],x['z_accel'],label='Curve of cumulative sum of activity %s of Subject %s'%(Activity,Subject_ID), c = plt.cm.jet(np.linspace(0,1,len(x))))\n",
    "        ax.legend(loc='upper left')"
   ]
  },
  {
   "cell_type": "markdown",
   "metadata": {},
   "source": [
    "# Interactive aggregated/derived data- PART 2\n",
    "Above is an interactive 3D plot, showing curves of cumulative sum of any activity of any user. Because the cumulative summation is not a single value but a set of data points, we create a 3D scatter plot to display it, and colorize it with different colors, to show the development of the curve. Users can select the subject ID and activity they want, and a 3D curve will be displayed respectively, and the legend will show what it is."
   ]
  }
 ],
 "metadata": {
  "kernelspec": {
   "display_name": "Python 3",
   "language": "python",
   "name": "python3"
  },
  "language_info": {
   "codemirror_mode": {
    "name": "ipython",
    "version": 3
   },
   "file_extension": ".py",
   "mimetype": "text/x-python",
   "name": "python",
   "nbconvert_exporter": "python",
   "pygments_lexer": "ipython3",
   "version": "3.7.3"
  }
 },
 "nbformat": 4,
 "nbformat_minor": 4
}
